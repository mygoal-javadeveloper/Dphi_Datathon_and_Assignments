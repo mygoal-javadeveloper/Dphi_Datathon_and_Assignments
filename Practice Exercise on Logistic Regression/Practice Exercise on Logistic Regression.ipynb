{
 "cells": [
  {
   "cell_type": "code",
   "execution_count": 1,
   "metadata": {},
   "outputs": [],
   "source": [
    "#import libraries \n",
    "import numpy as np\n",
    "import pandas as pd\n",
    "#import libraries for visualization\n",
    "import matplotlib.pyplot as plt\n",
    "import seaborn as sns\n",
    "#libraries for preprocessing data\n",
    "from sklearn.preprocessing import LabelEncoder\n",
    "#libraries for machine learning\n",
    "from sklearn.model_selection import train_test_split \n",
    "from sklearn.linear_model import LogisticRegression\n",
    "from sklearn.metrics import confusion_matrix, accuracy_score, f1_score, recall_score, precision_score, precision_recall_curve"
   ]
  },
  {
   "cell_type": "markdown",
   "metadata": {},
   "source": [
    "#### Submitted got accuracy score 80.487805 pts on New Test Data unseen prediction values."
   ]
  },
  {
   "cell_type": "code",
   "execution_count": 2,
   "metadata": {},
   "outputs": [],
   "source": [
    "# reading the csv file\n",
    "\n",
    "liver_data = pd.read_csv('https://raw.githubusercontent.com/dphi-official/Datasets/master/liver_patient_data/indian_liver_patient_dataset.csv')"
   ]
  },
  {
   "cell_type": "code",
   "execution_count": 3,
   "metadata": {},
   "outputs": [
    {
     "data": {
      "text/plain": [
       "Index(['Age', 'Gender', 'Total_Bilirubin', 'Direct_Bilirubin',\n",
       "       'Alkaline_Phosphotase', 'Alamine_Aminotransferase',\n",
       "       'Aspartate_Aminotransferase', 'Total_Protiens', 'Albumin',\n",
       "       'Albumin_and_Globulin_Ratio', 'Liver_Problem'],\n",
       "      dtype='object')"
      ]
     },
     "execution_count": 3,
     "metadata": {},
     "output_type": "execute_result"
    }
   ],
   "source": [
    "liver_data.columns"
   ]
  },
  {
   "cell_type": "markdown",
   "metadata": {},
   "source": [
    "#### Dataset & Data Description\n",
    "\n",
    "This dataset was downloaded from the UCI ML Repository:\n",
    "\n",
    "Lichman, M. (2013). UCI Machine Learning Repository [http://archive.ics.uci.edu/ml]. Irvine, CA: University of California, School of Information and Computer Science.\n",
    "\n",
    "**Our goal is to build a logistic machine learning model that predicts whether a patient is healthy (non liver patient) or ill (liver patient) based on some clinical and demographic features (or input variables)**\n",
    "\n",
    "##### Data Description:\n",
    "\n",
    "This data set contains liver patient records and non liver patient records collected from North East of Andhra Pradesh, India. The \"Liver_Problem\" column is the target variable used to divide groups into liver patient ( Liver_Problem == 1) or not ( Liver_Problem == 2).\n",
    "\n",
    "    * Liver_Problem == 1, implies the individual is a liver patient\n",
    "    * Liver_Problem == 2, implies the individual is not a liver patient\n",
    "   \n",
    "The column names are as follows:\n",
    "\n",
    "        * Age of the patient\n",
    "        * Gender of the patient\n",
    "        * Total Bilirubin\n",
    "        * Direct Bilirubin\n",
    "        * Alkaline Phosphotase\n",
    "        * Alamine Aminotransferase\n",
    "        * Aspartate Aminotransferase\n",
    "        * Total Protiens\n",
    "        * Albumin\n",
    "        * Albumin and Globulin Ratio\n",
    "        * Liver_Problem"
   ]
  },
  {
   "cell_type": "code",
   "execution_count": 4,
   "metadata": {},
   "outputs": [
    {
     "data": {
      "text/html": [
       "<div>\n",
       "<style scoped>\n",
       "    .dataframe tbody tr th:only-of-type {\n",
       "        vertical-align: middle;\n",
       "    }\n",
       "\n",
       "    .dataframe tbody tr th {\n",
       "        vertical-align: top;\n",
       "    }\n",
       "\n",
       "    .dataframe thead th {\n",
       "        text-align: right;\n",
       "    }\n",
       "</style>\n",
       "<table border=\"1\" class=\"dataframe\">\n",
       "  <thead>\n",
       "    <tr style=\"text-align: right;\">\n",
       "      <th></th>\n",
       "      <th>Age</th>\n",
       "      <th>Gender</th>\n",
       "      <th>Total_Bilirubin</th>\n",
       "      <th>Direct_Bilirubin</th>\n",
       "      <th>Alkaline_Phosphotase</th>\n",
       "      <th>Alamine_Aminotransferase</th>\n",
       "      <th>Aspartate_Aminotransferase</th>\n",
       "      <th>Total_Protiens</th>\n",
       "      <th>Albumin</th>\n",
       "      <th>Albumin_and_Globulin_Ratio</th>\n",
       "      <th>Liver_Problem</th>\n",
       "    </tr>\n",
       "  </thead>\n",
       "  <tbody>\n",
       "    <tr>\n",
       "      <td>0</td>\n",
       "      <td>65</td>\n",
       "      <td>Female</td>\n",
       "      <td>0.7</td>\n",
       "      <td>0.1</td>\n",
       "      <td>187</td>\n",
       "      <td>16</td>\n",
       "      <td>18</td>\n",
       "      <td>6.8</td>\n",
       "      <td>3.3</td>\n",
       "      <td>0.90</td>\n",
       "      <td>1</td>\n",
       "    </tr>\n",
       "    <tr>\n",
       "      <td>1</td>\n",
       "      <td>62</td>\n",
       "      <td>Male</td>\n",
       "      <td>10.9</td>\n",
       "      <td>5.5</td>\n",
       "      <td>699</td>\n",
       "      <td>64</td>\n",
       "      <td>100</td>\n",
       "      <td>7.5</td>\n",
       "      <td>3.2</td>\n",
       "      <td>0.74</td>\n",
       "      <td>1</td>\n",
       "    </tr>\n",
       "    <tr>\n",
       "      <td>2</td>\n",
       "      <td>62</td>\n",
       "      <td>Male</td>\n",
       "      <td>7.3</td>\n",
       "      <td>4.1</td>\n",
       "      <td>490</td>\n",
       "      <td>60</td>\n",
       "      <td>68</td>\n",
       "      <td>7.0</td>\n",
       "      <td>3.3</td>\n",
       "      <td>0.89</td>\n",
       "      <td>1</td>\n",
       "    </tr>\n",
       "    <tr>\n",
       "      <td>3</td>\n",
       "      <td>58</td>\n",
       "      <td>Male</td>\n",
       "      <td>1.0</td>\n",
       "      <td>0.4</td>\n",
       "      <td>182</td>\n",
       "      <td>14</td>\n",
       "      <td>20</td>\n",
       "      <td>6.8</td>\n",
       "      <td>3.4</td>\n",
       "      <td>1.00</td>\n",
       "      <td>1</td>\n",
       "    </tr>\n",
       "    <tr>\n",
       "      <td>4</td>\n",
       "      <td>72</td>\n",
       "      <td>Male</td>\n",
       "      <td>3.9</td>\n",
       "      <td>2.0</td>\n",
       "      <td>195</td>\n",
       "      <td>27</td>\n",
       "      <td>59</td>\n",
       "      <td>7.3</td>\n",
       "      <td>2.4</td>\n",
       "      <td>0.40</td>\n",
       "      <td>1</td>\n",
       "    </tr>\n",
       "  </tbody>\n",
       "</table>\n",
       "</div>"
      ],
      "text/plain": [
       "   Age  Gender  Total_Bilirubin  Direct_Bilirubin  Alkaline_Phosphotase  \\\n",
       "0   65  Female              0.7               0.1                   187   \n",
       "1   62    Male             10.9               5.5                   699   \n",
       "2   62    Male              7.3               4.1                   490   \n",
       "3   58    Male              1.0               0.4                   182   \n",
       "4   72    Male              3.9               2.0                   195   \n",
       "\n",
       "   Alamine_Aminotransferase  Aspartate_Aminotransferase  Total_Protiens  \\\n",
       "0                        16                          18             6.8   \n",
       "1                        64                         100             7.5   \n",
       "2                        60                          68             7.0   \n",
       "3                        14                          20             6.8   \n",
       "4                        27                          59             7.3   \n",
       "\n",
       "   Albumin  Albumin_and_Globulin_Ratio  Liver_Problem  \n",
       "0      3.3                        0.90              1  \n",
       "1      3.2                        0.74              1  \n",
       "2      3.3                        0.89              1  \n",
       "3      3.4                        1.00              1  \n",
       "4      2.4                        0.40              1  "
      ]
     },
     "execution_count": 4,
     "metadata": {},
     "output_type": "execute_result"
    }
   ],
   "source": [
    "liver_data.head()"
   ]
  },
  {
   "cell_type": "code",
   "execution_count": 5,
   "metadata": {},
   "outputs": [
    {
     "data": {
      "text/html": [
       "<div>\n",
       "<style scoped>\n",
       "    .dataframe tbody tr th:only-of-type {\n",
       "        vertical-align: middle;\n",
       "    }\n",
       "\n",
       "    .dataframe tbody tr th {\n",
       "        vertical-align: top;\n",
       "    }\n",
       "\n",
       "    .dataframe thead th {\n",
       "        text-align: right;\n",
       "    }\n",
       "</style>\n",
       "<table border=\"1\" class=\"dataframe\">\n",
       "  <thead>\n",
       "    <tr style=\"text-align: right;\">\n",
       "      <th></th>\n",
       "      <th>Age</th>\n",
       "      <th>Gender</th>\n",
       "      <th>Total_Bilirubin</th>\n",
       "      <th>Direct_Bilirubin</th>\n",
       "      <th>Alkaline_Phosphotase</th>\n",
       "      <th>Alamine_Aminotransferase</th>\n",
       "      <th>Aspartate_Aminotransferase</th>\n",
       "      <th>Total_Protiens</th>\n",
       "      <th>Albumin</th>\n",
       "      <th>Albumin_and_Globulin_Ratio</th>\n",
       "      <th>Liver_Problem</th>\n",
       "    </tr>\n",
       "  </thead>\n",
       "  <tbody>\n",
       "    <tr>\n",
       "      <td>495</td>\n",
       "      <td>32</td>\n",
       "      <td>Male</td>\n",
       "      <td>0.7</td>\n",
       "      <td>0.2</td>\n",
       "      <td>165</td>\n",
       "      <td>31</td>\n",
       "      <td>29</td>\n",
       "      <td>6.1</td>\n",
       "      <td>3.0</td>\n",
       "      <td>0.96</td>\n",
       "      <td>2</td>\n",
       "    </tr>\n",
       "    <tr>\n",
       "      <td>496</td>\n",
       "      <td>24</td>\n",
       "      <td>Male</td>\n",
       "      <td>1.0</td>\n",
       "      <td>0.2</td>\n",
       "      <td>189</td>\n",
       "      <td>52</td>\n",
       "      <td>31</td>\n",
       "      <td>8.0</td>\n",
       "      <td>4.8</td>\n",
       "      <td>1.50</td>\n",
       "      <td>1</td>\n",
       "    </tr>\n",
       "    <tr>\n",
       "      <td>497</td>\n",
       "      <td>67</td>\n",
       "      <td>Male</td>\n",
       "      <td>2.2</td>\n",
       "      <td>1.1</td>\n",
       "      <td>198</td>\n",
       "      <td>42</td>\n",
       "      <td>39</td>\n",
       "      <td>7.2</td>\n",
       "      <td>3.0</td>\n",
       "      <td>0.70</td>\n",
       "      <td>1</td>\n",
       "    </tr>\n",
       "    <tr>\n",
       "      <td>498</td>\n",
       "      <td>68</td>\n",
       "      <td>Male</td>\n",
       "      <td>1.8</td>\n",
       "      <td>0.5</td>\n",
       "      <td>151</td>\n",
       "      <td>18</td>\n",
       "      <td>22</td>\n",
       "      <td>6.5</td>\n",
       "      <td>4.0</td>\n",
       "      <td>1.60</td>\n",
       "      <td>1</td>\n",
       "    </tr>\n",
       "    <tr>\n",
       "      <td>499</td>\n",
       "      <td>55</td>\n",
       "      <td>Male</td>\n",
       "      <td>3.6</td>\n",
       "      <td>1.6</td>\n",
       "      <td>349</td>\n",
       "      <td>40</td>\n",
       "      <td>70</td>\n",
       "      <td>7.2</td>\n",
       "      <td>2.9</td>\n",
       "      <td>0.60</td>\n",
       "      <td>1</td>\n",
       "    </tr>\n",
       "  </tbody>\n",
       "</table>\n",
       "</div>"
      ],
      "text/plain": [
       "     Age Gender  Total_Bilirubin  Direct_Bilirubin  Alkaline_Phosphotase  \\\n",
       "495   32   Male              0.7               0.2                   165   \n",
       "496   24   Male              1.0               0.2                   189   \n",
       "497   67   Male              2.2               1.1                   198   \n",
       "498   68   Male              1.8               0.5                   151   \n",
       "499   55   Male              3.6               1.6                   349   \n",
       "\n",
       "     Alamine_Aminotransferase  Aspartate_Aminotransferase  Total_Protiens  \\\n",
       "495                        31                          29             6.1   \n",
       "496                        52                          31             8.0   \n",
       "497                        42                          39             7.2   \n",
       "498                        18                          22             6.5   \n",
       "499                        40                          70             7.2   \n",
       "\n",
       "     Albumin  Albumin_and_Globulin_Ratio  Liver_Problem  \n",
       "495      3.0                        0.96              2  \n",
       "496      4.8                        1.50              1  \n",
       "497      3.0                        0.70              1  \n",
       "498      4.0                        1.60              1  \n",
       "499      2.9                        0.60              1  "
      ]
     },
     "execution_count": 5,
     "metadata": {},
     "output_type": "execute_result"
    }
   ],
   "source": [
    "liver_data.tail()"
   ]
  },
  {
   "cell_type": "code",
   "execution_count": 6,
   "metadata": {},
   "outputs": [
    {
     "data": {
      "text/plain": [
       "(500, 11)"
      ]
     },
     "execution_count": 6,
     "metadata": {},
     "output_type": "execute_result"
    }
   ],
   "source": [
    "liver_data.shape"
   ]
  },
  {
   "cell_type": "code",
   "execution_count": 7,
   "metadata": {},
   "outputs": [
    {
     "name": "stdout",
     "output_type": "stream",
     "text": [
      "<class 'pandas.core.frame.DataFrame'>\n",
      "RangeIndex: 500 entries, 0 to 499\n",
      "Data columns (total 11 columns):\n",
      "Age                           500 non-null int64\n",
      "Gender                        500 non-null object\n",
      "Total_Bilirubin               500 non-null float64\n",
      "Direct_Bilirubin              500 non-null float64\n",
      "Alkaline_Phosphotase          500 non-null int64\n",
      "Alamine_Aminotransferase      500 non-null int64\n",
      "Aspartate_Aminotransferase    500 non-null int64\n",
      "Total_Protiens                500 non-null float64\n",
      "Albumin                       500 non-null float64\n",
      "Albumin_and_Globulin_Ratio    496 non-null float64\n",
      "Liver_Problem                 500 non-null int64\n",
      "dtypes: float64(5), int64(5), object(1)\n",
      "memory usage: 43.1+ KB\n"
     ]
    }
   ],
   "source": [
    "liver_data.info()"
   ]
  },
  {
   "cell_type": "code",
   "execution_count": 8,
   "metadata": {},
   "outputs": [
    {
     "data": {
      "text/plain": [
       "Age                           0\n",
       "Gender                        0\n",
       "Total_Bilirubin               0\n",
       "Direct_Bilirubin              0\n",
       "Alkaline_Phosphotase          0\n",
       "Alamine_Aminotransferase      0\n",
       "Aspartate_Aminotransferase    0\n",
       "Total_Protiens                0\n",
       "Albumin                       0\n",
       "Albumin_and_Globulin_Ratio    4\n",
       "Liver_Problem                 0\n",
       "dtype: int64"
      ]
     },
     "execution_count": 8,
     "metadata": {},
     "output_type": "execute_result"
    }
   ],
   "source": [
    "liver_data.isnull().sum()"
   ]
  },
  {
   "cell_type": "code",
   "execution_count": 9,
   "metadata": {},
   "outputs": [
    {
     "data": {
      "text/html": [
       "<div>\n",
       "<style scoped>\n",
       "    .dataframe tbody tr th:only-of-type {\n",
       "        vertical-align: middle;\n",
       "    }\n",
       "\n",
       "    .dataframe tbody tr th {\n",
       "        vertical-align: top;\n",
       "    }\n",
       "\n",
       "    .dataframe thead th {\n",
       "        text-align: right;\n",
       "    }\n",
       "</style>\n",
       "<table border=\"1\" class=\"dataframe\">\n",
       "  <thead>\n",
       "    <tr style=\"text-align: right;\">\n",
       "      <th></th>\n",
       "      <th>Age</th>\n",
       "      <th>Total_Bilirubin</th>\n",
       "      <th>Direct_Bilirubin</th>\n",
       "      <th>Alkaline_Phosphotase</th>\n",
       "      <th>Alamine_Aminotransferase</th>\n",
       "      <th>Aspartate_Aminotransferase</th>\n",
       "      <th>Total_Protiens</th>\n",
       "      <th>Albumin</th>\n",
       "      <th>Albumin_and_Globulin_Ratio</th>\n",
       "      <th>Liver_Problem</th>\n",
       "    </tr>\n",
       "  </thead>\n",
       "  <tbody>\n",
       "    <tr>\n",
       "      <td>count</td>\n",
       "      <td>500.0000</td>\n",
       "      <td>500.000000</td>\n",
       "      <td>500.000000</td>\n",
       "      <td>500.000000</td>\n",
       "      <td>500.000000</td>\n",
       "      <td>500.000000</td>\n",
       "      <td>500.00000</td>\n",
       "      <td>500.000000</td>\n",
       "      <td>496.000000</td>\n",
       "      <td>500.000000</td>\n",
       "    </tr>\n",
       "    <tr>\n",
       "      <td>mean</td>\n",
       "      <td>44.5860</td>\n",
       "      <td>2.603800</td>\n",
       "      <td>1.117200</td>\n",
       "      <td>296.372000</td>\n",
       "      <td>82.736000</td>\n",
       "      <td>108.820000</td>\n",
       "      <td>6.44480</td>\n",
       "      <td>3.168800</td>\n",
       "      <td>0.960907</td>\n",
       "      <td>1.300000</td>\n",
       "    </tr>\n",
       "    <tr>\n",
       "      <td>std</td>\n",
       "      <td>16.5334</td>\n",
       "      <td>5.120238</td>\n",
       "      <td>2.066709</td>\n",
       "      <td>257.461676</td>\n",
       "      <td>194.366775</td>\n",
       "      <td>307.093557</td>\n",
       "      <td>1.08902</td>\n",
       "      <td>0.799741</td>\n",
       "      <td>0.294289</td>\n",
       "      <td>0.458717</td>\n",
       "    </tr>\n",
       "    <tr>\n",
       "      <td>min</td>\n",
       "      <td>4.0000</td>\n",
       "      <td>0.400000</td>\n",
       "      <td>0.100000</td>\n",
       "      <td>63.000000</td>\n",
       "      <td>10.000000</td>\n",
       "      <td>10.000000</td>\n",
       "      <td>2.70000</td>\n",
       "      <td>0.900000</td>\n",
       "      <td>0.300000</td>\n",
       "      <td>1.000000</td>\n",
       "    </tr>\n",
       "    <tr>\n",
       "      <td>25%</td>\n",
       "      <td>32.7500</td>\n",
       "      <td>0.800000</td>\n",
       "      <td>0.200000</td>\n",
       "      <td>175.000000</td>\n",
       "      <td>23.000000</td>\n",
       "      <td>24.750000</td>\n",
       "      <td>5.70000</td>\n",
       "      <td>2.600000</td>\n",
       "      <td>0.795000</td>\n",
       "      <td>1.000000</td>\n",
       "    </tr>\n",
       "    <tr>\n",
       "      <td>50%</td>\n",
       "      <td>45.0000</td>\n",
       "      <td>0.900000</td>\n",
       "      <td>0.300000</td>\n",
       "      <td>205.500000</td>\n",
       "      <td>33.500000</td>\n",
       "      <td>40.000000</td>\n",
       "      <td>6.50000</td>\n",
       "      <td>3.100000</td>\n",
       "      <td>1.000000</td>\n",
       "      <td>1.000000</td>\n",
       "    </tr>\n",
       "    <tr>\n",
       "      <td>75%</td>\n",
       "      <td>58.0000</td>\n",
       "      <td>2.200000</td>\n",
       "      <td>1.000000</td>\n",
       "      <td>298.000000</td>\n",
       "      <td>59.250000</td>\n",
       "      <td>79.250000</td>\n",
       "      <td>7.20000</td>\n",
       "      <td>3.800000</td>\n",
       "      <td>1.100000</td>\n",
       "      <td>2.000000</td>\n",
       "    </tr>\n",
       "    <tr>\n",
       "      <td>max</td>\n",
       "      <td>85.0000</td>\n",
       "      <td>75.000000</td>\n",
       "      <td>14.200000</td>\n",
       "      <td>2110.000000</td>\n",
       "      <td>2000.000000</td>\n",
       "      <td>4929.000000</td>\n",
       "      <td>9.60000</td>\n",
       "      <td>5.500000</td>\n",
       "      <td>1.900000</td>\n",
       "      <td>2.000000</td>\n",
       "    </tr>\n",
       "  </tbody>\n",
       "</table>\n",
       "</div>"
      ],
      "text/plain": [
       "            Age  Total_Bilirubin  Direct_Bilirubin  Alkaline_Phosphotase  \\\n",
       "count  500.0000       500.000000        500.000000            500.000000   \n",
       "mean    44.5860         2.603800          1.117200            296.372000   \n",
       "std     16.5334         5.120238          2.066709            257.461676   \n",
       "min      4.0000         0.400000          0.100000             63.000000   \n",
       "25%     32.7500         0.800000          0.200000            175.000000   \n",
       "50%     45.0000         0.900000          0.300000            205.500000   \n",
       "75%     58.0000         2.200000          1.000000            298.000000   \n",
       "max     85.0000        75.000000         14.200000           2110.000000   \n",
       "\n",
       "       Alamine_Aminotransferase  Aspartate_Aminotransferase  Total_Protiens  \\\n",
       "count                500.000000                  500.000000       500.00000   \n",
       "mean                  82.736000                  108.820000         6.44480   \n",
       "std                  194.366775                  307.093557         1.08902   \n",
       "min                   10.000000                   10.000000         2.70000   \n",
       "25%                   23.000000                   24.750000         5.70000   \n",
       "50%                   33.500000                   40.000000         6.50000   \n",
       "75%                   59.250000                   79.250000         7.20000   \n",
       "max                 2000.000000                 4929.000000         9.60000   \n",
       "\n",
       "          Albumin  Albumin_and_Globulin_Ratio  Liver_Problem  \n",
       "count  500.000000                  496.000000     500.000000  \n",
       "mean     3.168800                    0.960907       1.300000  \n",
       "std      0.799741                    0.294289       0.458717  \n",
       "min      0.900000                    0.300000       1.000000  \n",
       "25%      2.600000                    0.795000       1.000000  \n",
       "50%      3.100000                    1.000000       1.000000  \n",
       "75%      3.800000                    1.100000       2.000000  \n",
       "max      5.500000                    1.900000       2.000000  "
      ]
     },
     "execution_count": 9,
     "metadata": {},
     "output_type": "execute_result"
    }
   ],
   "source": [
    "liver_data.describe()"
   ]
  },
  {
   "cell_type": "code",
   "execution_count": 10,
   "metadata": {},
   "outputs": [
    {
     "data": {
      "text/html": [
       "<div>\n",
       "<style scoped>\n",
       "    .dataframe tbody tr th:only-of-type {\n",
       "        vertical-align: middle;\n",
       "    }\n",
       "\n",
       "    .dataframe tbody tr th {\n",
       "        vertical-align: top;\n",
       "    }\n",
       "\n",
       "    .dataframe thead th {\n",
       "        text-align: right;\n",
       "    }\n",
       "</style>\n",
       "<table border=\"1\" class=\"dataframe\">\n",
       "  <thead>\n",
       "    <tr style=\"text-align: right;\">\n",
       "      <th></th>\n",
       "      <th>Age</th>\n",
       "      <th>Total_Bilirubin</th>\n",
       "      <th>Direct_Bilirubin</th>\n",
       "      <th>Alkaline_Phosphotase</th>\n",
       "      <th>Alamine_Aminotransferase</th>\n",
       "      <th>Aspartate_Aminotransferase</th>\n",
       "      <th>Total_Protiens</th>\n",
       "      <th>Albumin</th>\n",
       "      <th>Albumin_and_Globulin_Ratio</th>\n",
       "      <th>Liver_Problem</th>\n",
       "    </tr>\n",
       "  </thead>\n",
       "  <tbody>\n",
       "    <tr>\n",
       "      <td>Age</td>\n",
       "      <td>1.000000</td>\n",
       "      <td>0.057387</td>\n",
       "      <td>0.066546</td>\n",
       "      <td>0.087363</td>\n",
       "      <td>-0.095215</td>\n",
       "      <td>-0.027219</td>\n",
       "      <td>-0.219490</td>\n",
       "      <td>-0.274713</td>\n",
       "      <td>-0.202507</td>\n",
       "      <td>-0.150588</td>\n",
       "    </tr>\n",
       "    <tr>\n",
       "      <td>Total_Bilirubin</td>\n",
       "      <td>0.057387</td>\n",
       "      <td>1.000000</td>\n",
       "      <td>0.781711</td>\n",
       "      <td>0.268049</td>\n",
       "      <td>0.273827</td>\n",
       "      <td>0.248864</td>\n",
       "      <td>-0.056948</td>\n",
       "      <td>-0.188618</td>\n",
       "      <td>-0.241890</td>\n",
       "      <td>-0.183162</td>\n",
       "    </tr>\n",
       "    <tr>\n",
       "      <td>Direct_Bilirubin</td>\n",
       "      <td>0.066546</td>\n",
       "      <td>0.781711</td>\n",
       "      <td>1.000000</td>\n",
       "      <td>0.345133</td>\n",
       "      <td>0.336719</td>\n",
       "      <td>0.305176</td>\n",
       "      <td>-0.052779</td>\n",
       "      <td>-0.204776</td>\n",
       "      <td>-0.271533</td>\n",
       "      <td>-0.223604</td>\n",
       "    </tr>\n",
       "    <tr>\n",
       "      <td>Alkaline_Phosphotase</td>\n",
       "      <td>0.087363</td>\n",
       "      <td>0.268049</td>\n",
       "      <td>0.345133</td>\n",
       "      <td>1.000000</td>\n",
       "      <td>0.123885</td>\n",
       "      <td>0.168421</td>\n",
       "      <td>-0.034374</td>\n",
       "      <td>-0.177984</td>\n",
       "      <td>-0.280934</td>\n",
       "      <td>-0.192232</td>\n",
       "    </tr>\n",
       "    <tr>\n",
       "      <td>Alamine_Aminotransferase</td>\n",
       "      <td>-0.095215</td>\n",
       "      <td>0.273827</td>\n",
       "      <td>0.336719</td>\n",
       "      <td>0.123885</td>\n",
       "      <td>1.000000</td>\n",
       "      <td>0.793521</td>\n",
       "      <td>-0.038924</td>\n",
       "      <td>-0.025469</td>\n",
       "      <td>0.006784</td>\n",
       "      <td>-0.163415</td>\n",
       "    </tr>\n",
       "    <tr>\n",
       "      <td>Aspartate_Aminotransferase</td>\n",
       "      <td>-0.027219</td>\n",
       "      <td>0.248864</td>\n",
       "      <td>0.305176</td>\n",
       "      <td>0.168421</td>\n",
       "      <td>0.793521</td>\n",
       "      <td>1.000000</td>\n",
       "      <td>-0.029802</td>\n",
       "      <td>-0.071393</td>\n",
       "      <td>-0.062038</td>\n",
       "      <td>-0.143285</td>\n",
       "    </tr>\n",
       "    <tr>\n",
       "      <td>Total_Protiens</td>\n",
       "      <td>-0.219490</td>\n",
       "      <td>-0.056948</td>\n",
       "      <td>-0.052779</td>\n",
       "      <td>-0.034374</td>\n",
       "      <td>-0.038924</td>\n",
       "      <td>-0.029802</td>\n",
       "      <td>1.000000</td>\n",
       "      <td>0.832103</td>\n",
       "      <td>0.297391</td>\n",
       "      <td>0.029205</td>\n",
       "    </tr>\n",
       "    <tr>\n",
       "      <td>Albumin</td>\n",
       "      <td>-0.274713</td>\n",
       "      <td>-0.188618</td>\n",
       "      <td>-0.204776</td>\n",
       "      <td>-0.177984</td>\n",
       "      <td>-0.025469</td>\n",
       "      <td>-0.071393</td>\n",
       "      <td>0.832103</td>\n",
       "      <td>1.000000</td>\n",
       "      <td>0.740581</td>\n",
       "      <td>0.140282</td>\n",
       "    </tr>\n",
       "    <tr>\n",
       "      <td>Albumin_and_Globulin_Ratio</td>\n",
       "      <td>-0.202507</td>\n",
       "      <td>-0.241890</td>\n",
       "      <td>-0.271533</td>\n",
       "      <td>-0.280934</td>\n",
       "      <td>0.006784</td>\n",
       "      <td>-0.062038</td>\n",
       "      <td>0.297391</td>\n",
       "      <td>0.740581</td>\n",
       "      <td>1.000000</td>\n",
       "      <td>0.179792</td>\n",
       "    </tr>\n",
       "    <tr>\n",
       "      <td>Liver_Problem</td>\n",
       "      <td>-0.150588</td>\n",
       "      <td>-0.183162</td>\n",
       "      <td>-0.223604</td>\n",
       "      <td>-0.192232</td>\n",
       "      <td>-0.163415</td>\n",
       "      <td>-0.143285</td>\n",
       "      <td>0.029205</td>\n",
       "      <td>0.140282</td>\n",
       "      <td>0.179792</td>\n",
       "      <td>1.000000</td>\n",
       "    </tr>\n",
       "  </tbody>\n",
       "</table>\n",
       "</div>"
      ],
      "text/plain": [
       "                                 Age  Total_Bilirubin  Direct_Bilirubin  \\\n",
       "Age                         1.000000         0.057387          0.066546   \n",
       "Total_Bilirubin             0.057387         1.000000          0.781711   \n",
       "Direct_Bilirubin            0.066546         0.781711          1.000000   \n",
       "Alkaline_Phosphotase        0.087363         0.268049          0.345133   \n",
       "Alamine_Aminotransferase   -0.095215         0.273827          0.336719   \n",
       "Aspartate_Aminotransferase -0.027219         0.248864          0.305176   \n",
       "Total_Protiens             -0.219490        -0.056948         -0.052779   \n",
       "Albumin                    -0.274713        -0.188618         -0.204776   \n",
       "Albumin_and_Globulin_Ratio -0.202507        -0.241890         -0.271533   \n",
       "Liver_Problem              -0.150588        -0.183162         -0.223604   \n",
       "\n",
       "                            Alkaline_Phosphotase  Alamine_Aminotransferase  \\\n",
       "Age                                     0.087363                 -0.095215   \n",
       "Total_Bilirubin                         0.268049                  0.273827   \n",
       "Direct_Bilirubin                        0.345133                  0.336719   \n",
       "Alkaline_Phosphotase                    1.000000                  0.123885   \n",
       "Alamine_Aminotransferase                0.123885                  1.000000   \n",
       "Aspartate_Aminotransferase              0.168421                  0.793521   \n",
       "Total_Protiens                         -0.034374                 -0.038924   \n",
       "Albumin                                -0.177984                 -0.025469   \n",
       "Albumin_and_Globulin_Ratio             -0.280934                  0.006784   \n",
       "Liver_Problem                          -0.192232                 -0.163415   \n",
       "\n",
       "                            Aspartate_Aminotransferase  Total_Protiens  \\\n",
       "Age                                          -0.027219       -0.219490   \n",
       "Total_Bilirubin                               0.248864       -0.056948   \n",
       "Direct_Bilirubin                              0.305176       -0.052779   \n",
       "Alkaline_Phosphotase                          0.168421       -0.034374   \n",
       "Alamine_Aminotransferase                      0.793521       -0.038924   \n",
       "Aspartate_Aminotransferase                    1.000000       -0.029802   \n",
       "Total_Protiens                               -0.029802        1.000000   \n",
       "Albumin                                      -0.071393        0.832103   \n",
       "Albumin_and_Globulin_Ratio                   -0.062038        0.297391   \n",
       "Liver_Problem                                -0.143285        0.029205   \n",
       "\n",
       "                             Albumin  Albumin_and_Globulin_Ratio  \\\n",
       "Age                        -0.274713                   -0.202507   \n",
       "Total_Bilirubin            -0.188618                   -0.241890   \n",
       "Direct_Bilirubin           -0.204776                   -0.271533   \n",
       "Alkaline_Phosphotase       -0.177984                   -0.280934   \n",
       "Alamine_Aminotransferase   -0.025469                    0.006784   \n",
       "Aspartate_Aminotransferase -0.071393                   -0.062038   \n",
       "Total_Protiens              0.832103                    0.297391   \n",
       "Albumin                     1.000000                    0.740581   \n",
       "Albumin_and_Globulin_Ratio  0.740581                    1.000000   \n",
       "Liver_Problem               0.140282                    0.179792   \n",
       "\n",
       "                            Liver_Problem  \n",
       "Age                             -0.150588  \n",
       "Total_Bilirubin                 -0.183162  \n",
       "Direct_Bilirubin                -0.223604  \n",
       "Alkaline_Phosphotase            -0.192232  \n",
       "Alamine_Aminotransferase        -0.163415  \n",
       "Aspartate_Aminotransferase      -0.143285  \n",
       "Total_Protiens                   0.029205  \n",
       "Albumin                          0.140282  \n",
       "Albumin_and_Globulin_Ratio       0.179792  \n",
       "Liver_Problem                    1.000000  "
      ]
     },
     "execution_count": 10,
     "metadata": {},
     "output_type": "execute_result"
    }
   ],
   "source": [
    "liver_data.corr()"
   ]
  },
  {
   "cell_type": "code",
   "execution_count": 11,
   "metadata": {},
   "outputs": [
    {
     "data": {
      "text/plain": [
       "1    350\n",
       "2    150\n",
       "Name: Liver_Problem, dtype: int64"
      ]
     },
     "execution_count": 11,
     "metadata": {},
     "output_type": "execute_result"
    }
   ],
   "source": [
    "liver_data['Liver_Problem'].value_counts()"
   ]
  },
  {
   "cell_type": "code",
   "execution_count": 12,
   "metadata": {},
   "outputs": [
    {
     "data": {
      "text/html": [
       "<div>\n",
       "<style scoped>\n",
       "    .dataframe tbody tr th:only-of-type {\n",
       "        vertical-align: middle;\n",
       "    }\n",
       "\n",
       "    .dataframe tbody tr th {\n",
       "        vertical-align: top;\n",
       "    }\n",
       "\n",
       "    .dataframe thead th {\n",
       "        text-align: right;\n",
       "    }\n",
       "</style>\n",
       "<table border=\"1\" class=\"dataframe\">\n",
       "  <thead>\n",
       "    <tr style=\"text-align: right;\">\n",
       "      <th></th>\n",
       "      <th>Age</th>\n",
       "      <th>Gender</th>\n",
       "      <th>Total_Bilirubin</th>\n",
       "      <th>Direct_Bilirubin</th>\n",
       "      <th>Alkaline_Phosphotase</th>\n",
       "      <th>Alamine_Aminotransferase</th>\n",
       "      <th>Aspartate_Aminotransferase</th>\n",
       "      <th>Total_Protiens</th>\n",
       "      <th>Albumin</th>\n",
       "      <th>Albumin_and_Globulin_Ratio</th>\n",
       "      <th>Liver_Problem</th>\n",
       "    </tr>\n",
       "  </thead>\n",
       "  <tbody>\n",
       "    <tr>\n",
       "      <td>209</td>\n",
       "      <td>45</td>\n",
       "      <td>Female</td>\n",
       "      <td>0.9</td>\n",
       "      <td>0.3</td>\n",
       "      <td>189</td>\n",
       "      <td>23</td>\n",
       "      <td>33</td>\n",
       "      <td>6.6</td>\n",
       "      <td>3.9</td>\n",
       "      <td>NaN</td>\n",
       "      <td>1</td>\n",
       "    </tr>\n",
       "    <tr>\n",
       "      <td>241</td>\n",
       "      <td>51</td>\n",
       "      <td>Male</td>\n",
       "      <td>0.8</td>\n",
       "      <td>0.2</td>\n",
       "      <td>230</td>\n",
       "      <td>24</td>\n",
       "      <td>46</td>\n",
       "      <td>6.5</td>\n",
       "      <td>3.1</td>\n",
       "      <td>NaN</td>\n",
       "      <td>1</td>\n",
       "    </tr>\n",
       "    <tr>\n",
       "      <td>253</td>\n",
       "      <td>35</td>\n",
       "      <td>Female</td>\n",
       "      <td>0.6</td>\n",
       "      <td>0.2</td>\n",
       "      <td>180</td>\n",
       "      <td>12</td>\n",
       "      <td>15</td>\n",
       "      <td>5.2</td>\n",
       "      <td>2.7</td>\n",
       "      <td>NaN</td>\n",
       "      <td>2</td>\n",
       "    </tr>\n",
       "    <tr>\n",
       "      <td>312</td>\n",
       "      <td>27</td>\n",
       "      <td>Male</td>\n",
       "      <td>1.3</td>\n",
       "      <td>0.6</td>\n",
       "      <td>106</td>\n",
       "      <td>25</td>\n",
       "      <td>54</td>\n",
       "      <td>8.5</td>\n",
       "      <td>4.8</td>\n",
       "      <td>NaN</td>\n",
       "      <td>2</td>\n",
       "    </tr>\n",
       "  </tbody>\n",
       "</table>\n",
       "</div>"
      ],
      "text/plain": [
       "     Age  Gender  Total_Bilirubin  Direct_Bilirubin  Alkaline_Phosphotase  \\\n",
       "209   45  Female              0.9               0.3                   189   \n",
       "241   51    Male              0.8               0.2                   230   \n",
       "253   35  Female              0.6               0.2                   180   \n",
       "312   27    Male              1.3               0.6                   106   \n",
       "\n",
       "     Alamine_Aminotransferase  Aspartate_Aminotransferase  Total_Protiens  \\\n",
       "209                        23                          33             6.6   \n",
       "241                        24                          46             6.5   \n",
       "253                        12                          15             5.2   \n",
       "312                        25                          54             8.5   \n",
       "\n",
       "     Albumin  Albumin_and_Globulin_Ratio  Liver_Problem  \n",
       "209      3.9                         NaN              1  \n",
       "241      3.1                         NaN              1  \n",
       "253      2.7                         NaN              2  \n",
       "312      4.8                         NaN              2  "
      ]
     },
     "execution_count": 12,
     "metadata": {},
     "output_type": "execute_result"
    }
   ],
   "source": [
    "liver_data[liver_data['Albumin_and_Globulin_Ratio'].isnull()]"
   ]
  },
  {
   "cell_type": "code",
   "execution_count": 13,
   "metadata": {},
   "outputs": [
    {
     "data": {
      "text/plain": [
       "Liver_Problem\n",
       "1    0.926437\n",
       "2    1.041959\n",
       "Name: Albumin_and_Globulin_Ratio, dtype: float64"
      ]
     },
     "execution_count": 13,
     "metadata": {},
     "output_type": "execute_result"
    }
   ],
   "source": [
    "x = liver_data.groupby(['Liver_Problem'])['Albumin_and_Globulin_Ratio'].mean()\n",
    "x"
   ]
  },
  {
   "cell_type": "code",
   "execution_count": 14,
   "metadata": {},
   "outputs": [
    {
     "data": {
      "text/plain": [
       "0.926436781609196"
      ]
     },
     "execution_count": 14,
     "metadata": {},
     "output_type": "execute_result"
    }
   ],
   "source": [
    "x[1]"
   ]
  },
  {
   "cell_type": "code",
   "execution_count": 15,
   "metadata": {},
   "outputs": [
    {
     "data": {
      "text/plain": [
       "1.0419594594594592"
      ]
     },
     "execution_count": 15,
     "metadata": {},
     "output_type": "execute_result"
    }
   ],
   "source": [
    "x[2]"
   ]
  },
  {
   "cell_type": "code",
   "execution_count": 16,
   "metadata": {},
   "outputs": [],
   "source": [
    "liver_data.loc[(liver_data['Liver_Problem'] == 1) & pd.isnull(liver_data['Albumin_and_Globulin_Ratio']), ['Albumin_and_Globulin_Ratio']] = x[1]"
   ]
  },
  {
   "cell_type": "code",
   "execution_count": 17,
   "metadata": {},
   "outputs": [],
   "source": [
    "liver_data.loc[(liver_data['Liver_Problem'] == 2) & pd.isnull(liver_data['Albumin_and_Globulin_Ratio']), ['Albumin_and_Globulin_Ratio']] = x[2]"
   ]
  },
  {
   "cell_type": "code",
   "execution_count": 18,
   "metadata": {},
   "outputs": [
    {
     "data": {
      "text/plain": [
       "0"
      ]
     },
     "execution_count": 18,
     "metadata": {},
     "output_type": "execute_result"
    }
   ],
   "source": [
    "liver_data['Albumin_and_Globulin_Ratio'].isnull().sum()"
   ]
  },
  {
   "cell_type": "code",
   "execution_count": 19,
   "metadata": {},
   "outputs": [
    {
     "data": {
      "text/html": [
       "<div>\n",
       "<style scoped>\n",
       "    .dataframe tbody tr th:only-of-type {\n",
       "        vertical-align: middle;\n",
       "    }\n",
       "\n",
       "    .dataframe tbody tr th {\n",
       "        vertical-align: top;\n",
       "    }\n",
       "\n",
       "    .dataframe thead th {\n",
       "        text-align: right;\n",
       "    }\n",
       "</style>\n",
       "<table border=\"1\" class=\"dataframe\">\n",
       "  <thead>\n",
       "    <tr style=\"text-align: right;\">\n",
       "      <th></th>\n",
       "      <th>Age</th>\n",
       "      <th>Gender</th>\n",
       "      <th>Total_Bilirubin</th>\n",
       "      <th>Direct_Bilirubin</th>\n",
       "      <th>Alkaline_Phosphotase</th>\n",
       "      <th>Alamine_Aminotransferase</th>\n",
       "      <th>Aspartate_Aminotransferase</th>\n",
       "      <th>Total_Protiens</th>\n",
       "      <th>Albumin</th>\n",
       "      <th>Albumin_and_Globulin_Ratio</th>\n",
       "      <th>Liver_Problem</th>\n",
       "    </tr>\n",
       "  </thead>\n",
       "  <tbody>\n",
       "    <tr>\n",
       "      <td>0</td>\n",
       "      <td>65</td>\n",
       "      <td>0</td>\n",
       "      <td>0.7</td>\n",
       "      <td>0.1</td>\n",
       "      <td>187</td>\n",
       "      <td>16</td>\n",
       "      <td>18</td>\n",
       "      <td>6.8</td>\n",
       "      <td>3.3</td>\n",
       "      <td>0.90</td>\n",
       "      <td>1</td>\n",
       "    </tr>\n",
       "    <tr>\n",
       "      <td>1</td>\n",
       "      <td>62</td>\n",
       "      <td>1</td>\n",
       "      <td>10.9</td>\n",
       "      <td>5.5</td>\n",
       "      <td>699</td>\n",
       "      <td>64</td>\n",
       "      <td>100</td>\n",
       "      <td>7.5</td>\n",
       "      <td>3.2</td>\n",
       "      <td>0.74</td>\n",
       "      <td>1</td>\n",
       "    </tr>\n",
       "    <tr>\n",
       "      <td>2</td>\n",
       "      <td>62</td>\n",
       "      <td>1</td>\n",
       "      <td>7.3</td>\n",
       "      <td>4.1</td>\n",
       "      <td>490</td>\n",
       "      <td>60</td>\n",
       "      <td>68</td>\n",
       "      <td>7.0</td>\n",
       "      <td>3.3</td>\n",
       "      <td>0.89</td>\n",
       "      <td>1</td>\n",
       "    </tr>\n",
       "    <tr>\n",
       "      <td>3</td>\n",
       "      <td>58</td>\n",
       "      <td>1</td>\n",
       "      <td>1.0</td>\n",
       "      <td>0.4</td>\n",
       "      <td>182</td>\n",
       "      <td>14</td>\n",
       "      <td>20</td>\n",
       "      <td>6.8</td>\n",
       "      <td>3.4</td>\n",
       "      <td>1.00</td>\n",
       "      <td>1</td>\n",
       "    </tr>\n",
       "    <tr>\n",
       "      <td>4</td>\n",
       "      <td>72</td>\n",
       "      <td>1</td>\n",
       "      <td>3.9</td>\n",
       "      <td>2.0</td>\n",
       "      <td>195</td>\n",
       "      <td>27</td>\n",
       "      <td>59</td>\n",
       "      <td>7.3</td>\n",
       "      <td>2.4</td>\n",
       "      <td>0.40</td>\n",
       "      <td>1</td>\n",
       "    </tr>\n",
       "  </tbody>\n",
       "</table>\n",
       "</div>"
      ],
      "text/plain": [
       "   Age  Gender  Total_Bilirubin  Direct_Bilirubin  Alkaline_Phosphotase  \\\n",
       "0   65       0              0.7               0.1                   187   \n",
       "1   62       1             10.9               5.5                   699   \n",
       "2   62       1              7.3               4.1                   490   \n",
       "3   58       1              1.0               0.4                   182   \n",
       "4   72       1              3.9               2.0                   195   \n",
       "\n",
       "   Alamine_Aminotransferase  Aspartate_Aminotransferase  Total_Protiens  \\\n",
       "0                        16                          18             6.8   \n",
       "1                        64                         100             7.5   \n",
       "2                        60                          68             7.0   \n",
       "3                        14                          20             6.8   \n",
       "4                        27                          59             7.3   \n",
       "\n",
       "   Albumin  Albumin_and_Globulin_Ratio  Liver_Problem  \n",
       "0      3.3                        0.90              1  \n",
       "1      3.2                        0.74              1  \n",
       "2      3.3                        0.89              1  \n",
       "3      3.4                        1.00              1  \n",
       "4      2.4                        0.40              1  "
      ]
     },
     "execution_count": 19,
     "metadata": {},
     "output_type": "execute_result"
    }
   ],
   "source": [
    "le = LabelEncoder()\n",
    "liver_data['Gender'] = le.fit_transform(liver_data['Gender'])\n",
    "liver_data.head()"
   ]
  },
  {
   "cell_type": "markdown",
   "metadata": {},
   "source": [
    "#### Separating input and target variables"
   ]
  },
  {
   "cell_type": "code",
   "execution_count": 20,
   "metadata": {},
   "outputs": [],
   "source": [
    "X = liver_data.drop('Liver_Problem', axis = 1)\n",
    "y = liver_data['Liver_Problem']"
   ]
  },
  {
   "cell_type": "markdown",
   "metadata": {},
   "source": [
    "#### Splitting into train and test set"
   ]
  },
  {
   "cell_type": "code",
   "execution_count": 21,
   "metadata": {},
   "outputs": [],
   "source": [
    "#Splitting into train and test set in 90:10 ratio\n",
    "X_train, X_test, y_train, y_test = train_test_split(X, y, test_size = 0.1, random_state = 21)"
   ]
  },
  {
   "cell_type": "markdown",
   "metadata": {},
   "source": [
    "#### Building Logistic Regression model"
   ]
  },
  {
   "cell_type": "code",
   "execution_count": 22,
   "metadata": {},
   "outputs": [
    {
     "data": {
      "text/plain": [
       "LogisticRegression(max_iter=1000)"
      ]
     },
     "execution_count": 22,
     "metadata": {},
     "output_type": "execute_result"
    }
   ],
   "source": [
    "lr = LogisticRegression(max_iter=1000)\n",
    "lr.fit(X_train, y_train)"
   ]
  },
  {
   "cell_type": "code",
   "execution_count": 23,
   "metadata": {},
   "outputs": [],
   "source": [
    "y_pred = lr.predict(X_test)"
   ]
  },
  {
   "cell_type": "code",
   "execution_count": 24,
   "metadata": {},
   "outputs": [
    {
     "data": {
      "text/plain": [
       "Index(['Age', 'Gender', 'Total_Bilirubin', 'Direct_Bilirubin',\n",
       "       'Alkaline_Phosphotase', 'Alamine_Aminotransferase',\n",
       "       'Aspartate_Aminotransferase', 'Total_Protiens', 'Albumin',\n",
       "       'Albumin_and_Globulin_Ratio', 'Liver_Problem'],\n",
       "      dtype='object')"
      ]
     },
     "execution_count": 24,
     "metadata": {},
     "output_type": "execute_result"
    }
   ],
   "source": [
    "liver_data.columns"
   ]
  },
  {
   "cell_type": "code",
   "execution_count": 25,
   "metadata": {},
   "outputs": [
    {
     "data": {
      "text/plain": [
       "array([[False,  True, False, False, False, False, False, False,  True,\n",
       "        False]])"
      ]
     },
     "execution_count": 25,
     "metadata": {},
     "output_type": "execute_result"
    }
   ],
   "source": [
    "np.round(lr.coef_, 2) > 0"
   ]
  },
  {
   "cell_type": "code",
   "execution_count": 26,
   "metadata": {},
   "outputs": [
    {
     "name": "stdout",
     "output_type": "stream",
     "text": [
      "accuracy score:  0.8\n"
     ]
    }
   ],
   "source": [
    "print(\"accuracy score: \",  accuracy_score(y_test, y_pred))"
   ]
  },
  {
   "cell_type": "code",
   "execution_count": 27,
   "metadata": {},
   "outputs": [
    {
     "name": "stdout",
     "output_type": "stream",
     "text": [
      "Train data f1 score:  0.8099415204678363\n",
      "Test data f1 score:  0.8863636363636364\n"
     ]
    }
   ],
   "source": [
    "print(\"Train data f1 score: \", f1_score(y_train,lr.predict(X_train)))\n",
    "print(\"Test data f1 score: \", f1_score(y_test,y_pred))"
   ]
  },
  {
   "cell_type": "code",
   "execution_count": 28,
   "metadata": {},
   "outputs": [
    {
     "name": "stdout",
     "output_type": "stream",
     "text": [
      "True Positive 1\n",
      "True Negative 39\n",
      "False Positive 2\n",
      "False Negative 8\n"
     ]
    }
   ],
   "source": [
    "tn, fp, fn, tp = confusion_matrix(y_test, y_pred).ravel()     # ravel() is used to convert a 2D array to 1D array. The output by confusion matrix is a 2D array.\n",
    "print(\"True Positive\", tp)\n",
    "print(\"True Negative\", tn)\n",
    "print(\"False Positive\", fp)\n",
    "print(\"False Negative\", fn)"
   ]
  },
  {
   "cell_type": "code",
   "execution_count": 29,
   "metadata": {},
   "outputs": [
    {
     "name": "stdout",
     "output_type": "stream",
     "text": [
      "recall score:  0.9512195121951219\n",
      "precision score:  0.8297872340425532\n"
     ]
    }
   ],
   "source": [
    "# Recall = TP / (TP + FN)\n",
    "# Precision = TP / (TP + FP)\n",
    "print(\"recall score: \", recall_score(y_test,y_pred))\n",
    "print(\"precision score: \", precision_score(y_test,y_pred))"
   ]
  },
  {
   "cell_type": "markdown",
   "metadata": {},
   "source": [
    "### Load New Test Data"
   ]
  },
  {
   "cell_type": "code",
   "execution_count": 30,
   "metadata": {},
   "outputs": [],
   "source": [
    "test_new = pd.read_csv('https://raw.githubusercontent.com/dphi-official/Datasets/master/liver_patient_data/indian_liver_patient_new_testdataset.csv')"
   ]
  },
  {
   "cell_type": "code",
   "execution_count": 31,
   "metadata": {},
   "outputs": [
    {
     "data": {
      "text/plain": [
       "Index(['Age', 'Gender', 'Total_Bilirubin', 'Direct_Bilirubin',\n",
       "       'Alkaline_Phosphotase', 'Alamine_Aminotransferase',\n",
       "       'Aspartate_Aminotransferase', 'Total_Protiens', 'Albumin',\n",
       "       'Albumin_and_Globulin_Ratio'],\n",
       "      dtype='object')"
      ]
     },
     "execution_count": 31,
     "metadata": {},
     "output_type": "execute_result"
    }
   ],
   "source": [
    "test_new.columns"
   ]
  },
  {
   "cell_type": "code",
   "execution_count": 32,
   "metadata": {},
   "outputs": [
    {
     "data": {
      "text/html": [
       "<div>\n",
       "<style scoped>\n",
       "    .dataframe tbody tr th:only-of-type {\n",
       "        vertical-align: middle;\n",
       "    }\n",
       "\n",
       "    .dataframe tbody tr th {\n",
       "        vertical-align: top;\n",
       "    }\n",
       "\n",
       "    .dataframe thead th {\n",
       "        text-align: right;\n",
       "    }\n",
       "</style>\n",
       "<table border=\"1\" class=\"dataframe\">\n",
       "  <thead>\n",
       "    <tr style=\"text-align: right;\">\n",
       "      <th></th>\n",
       "      <th>Age</th>\n",
       "      <th>Gender</th>\n",
       "      <th>Total_Bilirubin</th>\n",
       "      <th>Direct_Bilirubin</th>\n",
       "      <th>Alkaline_Phosphotase</th>\n",
       "      <th>Alamine_Aminotransferase</th>\n",
       "      <th>Aspartate_Aminotransferase</th>\n",
       "      <th>Total_Protiens</th>\n",
       "      <th>Albumin</th>\n",
       "      <th>Albumin_and_Globulin_Ratio</th>\n",
       "    </tr>\n",
       "  </thead>\n",
       "  <tbody>\n",
       "    <tr>\n",
       "      <td>0</td>\n",
       "      <td>36</td>\n",
       "      <td>Male</td>\n",
       "      <td>2.8</td>\n",
       "      <td>1.5</td>\n",
       "      <td>305</td>\n",
       "      <td>28</td>\n",
       "      <td>76</td>\n",
       "      <td>5.9</td>\n",
       "      <td>2.5</td>\n",
       "      <td>0.7</td>\n",
       "    </tr>\n",
       "    <tr>\n",
       "      <td>1</td>\n",
       "      <td>42</td>\n",
       "      <td>Male</td>\n",
       "      <td>0.8</td>\n",
       "      <td>0.2</td>\n",
       "      <td>127</td>\n",
       "      <td>29</td>\n",
       "      <td>30</td>\n",
       "      <td>4.9</td>\n",
       "      <td>2.7</td>\n",
       "      <td>1.2</td>\n",
       "    </tr>\n",
       "    <tr>\n",
       "      <td>2</td>\n",
       "      <td>53</td>\n",
       "      <td>Male</td>\n",
       "      <td>19.8</td>\n",
       "      <td>10.4</td>\n",
       "      <td>238</td>\n",
       "      <td>39</td>\n",
       "      <td>221</td>\n",
       "      <td>8.1</td>\n",
       "      <td>2.5</td>\n",
       "      <td>0.4</td>\n",
       "    </tr>\n",
       "    <tr>\n",
       "      <td>3</td>\n",
       "      <td>32</td>\n",
       "      <td>Male</td>\n",
       "      <td>30.5</td>\n",
       "      <td>17.1</td>\n",
       "      <td>218</td>\n",
       "      <td>39</td>\n",
       "      <td>79</td>\n",
       "      <td>5.5</td>\n",
       "      <td>2.7</td>\n",
       "      <td>0.9</td>\n",
       "    </tr>\n",
       "    <tr>\n",
       "      <td>4</td>\n",
       "      <td>32</td>\n",
       "      <td>Male</td>\n",
       "      <td>32.6</td>\n",
       "      <td>14.1</td>\n",
       "      <td>219</td>\n",
       "      <td>95</td>\n",
       "      <td>235</td>\n",
       "      <td>5.8</td>\n",
       "      <td>3.1</td>\n",
       "      <td>1.1</td>\n",
       "    </tr>\n",
       "  </tbody>\n",
       "</table>\n",
       "</div>"
      ],
      "text/plain": [
       "   Age Gender  Total_Bilirubin  Direct_Bilirubin  Alkaline_Phosphotase  \\\n",
       "0   36   Male              2.8               1.5                   305   \n",
       "1   42   Male              0.8               0.2                   127   \n",
       "2   53   Male             19.8              10.4                   238   \n",
       "3   32   Male             30.5              17.1                   218   \n",
       "4   32   Male             32.6              14.1                   219   \n",
       "\n",
       "   Alamine_Aminotransferase  Aspartate_Aminotransferase  Total_Protiens  \\\n",
       "0                        28                          76             5.9   \n",
       "1                        29                          30             4.9   \n",
       "2                        39                         221             8.1   \n",
       "3                        39                          79             5.5   \n",
       "4                        95                         235             5.8   \n",
       "\n",
       "   Albumin  Albumin_and_Globulin_Ratio  \n",
       "0      2.5                         0.7  \n",
       "1      2.7                         1.2  \n",
       "2      2.5                         0.4  \n",
       "3      2.7                         0.9  \n",
       "4      3.1                         1.1  "
      ]
     },
     "execution_count": 32,
     "metadata": {},
     "output_type": "execute_result"
    }
   ],
   "source": [
    "test_new.head()"
   ]
  },
  {
   "cell_type": "code",
   "execution_count": 33,
   "metadata": {},
   "outputs": [
    {
     "data": {
      "text/plain": [
       "(82, 10)"
      ]
     },
     "execution_count": 33,
     "metadata": {},
     "output_type": "execute_result"
    }
   ],
   "source": [
    "test_new.shape"
   ]
  },
  {
   "cell_type": "code",
   "execution_count": 34,
   "metadata": {},
   "outputs": [
    {
     "data": {
      "text/html": [
       "<div>\n",
       "<style scoped>\n",
       "    .dataframe tbody tr th:only-of-type {\n",
       "        vertical-align: middle;\n",
       "    }\n",
       "\n",
       "    .dataframe tbody tr th {\n",
       "        vertical-align: top;\n",
       "    }\n",
       "\n",
       "    .dataframe thead th {\n",
       "        text-align: right;\n",
       "    }\n",
       "</style>\n",
       "<table border=\"1\" class=\"dataframe\">\n",
       "  <thead>\n",
       "    <tr style=\"text-align: right;\">\n",
       "      <th></th>\n",
       "      <th>Age</th>\n",
       "      <th>Gender</th>\n",
       "      <th>Total_Bilirubin</th>\n",
       "      <th>Direct_Bilirubin</th>\n",
       "      <th>Alkaline_Phosphotase</th>\n",
       "      <th>Alamine_Aminotransferase</th>\n",
       "      <th>Aspartate_Aminotransferase</th>\n",
       "      <th>Total_Protiens</th>\n",
       "      <th>Albumin</th>\n",
       "      <th>Albumin_and_Globulin_Ratio</th>\n",
       "    </tr>\n",
       "  </thead>\n",
       "  <tbody>\n",
       "    <tr>\n",
       "      <td>0</td>\n",
       "      <td>36</td>\n",
       "      <td>1</td>\n",
       "      <td>2.8</td>\n",
       "      <td>1.5</td>\n",
       "      <td>305</td>\n",
       "      <td>28</td>\n",
       "      <td>76</td>\n",
       "      <td>5.9</td>\n",
       "      <td>2.5</td>\n",
       "      <td>0.7</td>\n",
       "    </tr>\n",
       "    <tr>\n",
       "      <td>1</td>\n",
       "      <td>42</td>\n",
       "      <td>1</td>\n",
       "      <td>0.8</td>\n",
       "      <td>0.2</td>\n",
       "      <td>127</td>\n",
       "      <td>29</td>\n",
       "      <td>30</td>\n",
       "      <td>4.9</td>\n",
       "      <td>2.7</td>\n",
       "      <td>1.2</td>\n",
       "    </tr>\n",
       "    <tr>\n",
       "      <td>2</td>\n",
       "      <td>53</td>\n",
       "      <td>1</td>\n",
       "      <td>19.8</td>\n",
       "      <td>10.4</td>\n",
       "      <td>238</td>\n",
       "      <td>39</td>\n",
       "      <td>221</td>\n",
       "      <td>8.1</td>\n",
       "      <td>2.5</td>\n",
       "      <td>0.4</td>\n",
       "    </tr>\n",
       "    <tr>\n",
       "      <td>3</td>\n",
       "      <td>32</td>\n",
       "      <td>1</td>\n",
       "      <td>30.5</td>\n",
       "      <td>17.1</td>\n",
       "      <td>218</td>\n",
       "      <td>39</td>\n",
       "      <td>79</td>\n",
       "      <td>5.5</td>\n",
       "      <td>2.7</td>\n",
       "      <td>0.9</td>\n",
       "    </tr>\n",
       "    <tr>\n",
       "      <td>4</td>\n",
       "      <td>32</td>\n",
       "      <td>1</td>\n",
       "      <td>32.6</td>\n",
       "      <td>14.1</td>\n",
       "      <td>219</td>\n",
       "      <td>95</td>\n",
       "      <td>235</td>\n",
       "      <td>5.8</td>\n",
       "      <td>3.1</td>\n",
       "      <td>1.1</td>\n",
       "    </tr>\n",
       "  </tbody>\n",
       "</table>\n",
       "</div>"
      ],
      "text/plain": [
       "   Age  Gender  Total_Bilirubin  Direct_Bilirubin  Alkaline_Phosphotase  \\\n",
       "0   36       1              2.8               1.5                   305   \n",
       "1   42       1              0.8               0.2                   127   \n",
       "2   53       1             19.8              10.4                   238   \n",
       "3   32       1             30.5              17.1                   218   \n",
       "4   32       1             32.6              14.1                   219   \n",
       "\n",
       "   Alamine_Aminotransferase  Aspartate_Aminotransferase  Total_Protiens  \\\n",
       "0                        28                          76             5.9   \n",
       "1                        29                          30             4.9   \n",
       "2                        39                         221             8.1   \n",
       "3                        39                          79             5.5   \n",
       "4                        95                         235             5.8   \n",
       "\n",
       "   Albumin  Albumin_and_Globulin_Ratio  \n",
       "0      2.5                         0.7  \n",
       "1      2.7                         1.2  \n",
       "2      2.5                         0.4  \n",
       "3      2.7                         0.9  \n",
       "4      3.1                         1.1  "
      ]
     },
     "execution_count": 34,
     "metadata": {},
     "output_type": "execute_result"
    }
   ],
   "source": [
    "test_new['Gender'] = le.fit_transform(test_new['Gender'])\n",
    "test_new.head()"
   ]
  },
  {
   "cell_type": "code",
   "execution_count": 35,
   "metadata": {},
   "outputs": [],
   "source": [
    "newtest_pred = lr.predict(test_new)"
   ]
  },
  {
   "cell_type": "code",
   "execution_count": 36,
   "metadata": {},
   "outputs": [],
   "source": [
    "res = pd.DataFrame(newtest_pred)\n",
    "res.index = test_new.index # its important for comparison\n",
    "res.columns = ['Liver_Problem']\n",
    "res.to_csv(\"'Liver_Problem'_results_9010AllColumns.csv\")      # the csv file will be saved locally on the same location where this notebook is located."
   ]
  }
 ],
 "metadata": {
  "kernelspec": {
   "display_name": "Python 3",
   "language": "python",
   "name": "python3"
  },
  "language_info": {
   "codemirror_mode": {
    "name": "ipython",
    "version": 3
   },
   "file_extension": ".py",
   "mimetype": "text/x-python",
   "name": "python",
   "nbconvert_exporter": "python",
   "pygments_lexer": "ipython3",
   "version": "3.7.4"
  }
 },
 "nbformat": 4,
 "nbformat_minor": 2
}

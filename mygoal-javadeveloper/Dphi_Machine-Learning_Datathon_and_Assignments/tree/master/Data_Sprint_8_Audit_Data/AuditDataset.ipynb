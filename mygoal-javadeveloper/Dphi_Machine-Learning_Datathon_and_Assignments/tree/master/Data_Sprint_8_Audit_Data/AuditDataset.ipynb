{
  "nbformat": 4,
  "nbformat_minor": 0,
  "metadata": {
    "colab": {
      "name": "AuditDataset.ipynb",
      "provenance": [],
      "collapsed_sections": [],
      "include_colab_link": true
    },
    "kernelspec": {
      "name": "python3",
      "display_name": "Python 3"
    }
  },
  "cells": [
    {
      "cell_type": "markdown",
      "metadata": {
        "id": "view-in-github",
        "colab_type": "text"
      },
      "source": [
        "<a href=\"https://colab.research.google.com/github/mygoal-javadeveloper/Dphi_Machine-Learning_Datathon_and_Assignments/blob/master/mygoal-javadeveloper/Dphi_Machine-Learning_Datathon_and_Assignments/tree/master/Data_Sprint_8_Audit_Data/AuditDataset.ipynb\" target=\"_parent\"><img src=\"https://colab.research.google.com/assets/colab-badge.svg\" alt=\"Open In Colab\"/></a>"
      ]
    },
    {
      "cell_type": "markdown",
      "metadata": {
        "id": "1er4Pg6PyXq6"
      },
      "source": [
        "# Context\n",
        "This Notebook is related to Audit dataset where the goal is to help the auditors by building a classification model that can predict the fraudulent firm on the basis of present and historical risk factors.\n",
        "\n",
        "# A brief overview what audit means and about the dataset\n",
        "\n",
        "The term **audit** usually refers to financial audit, which is an objective examination and evaluation of the financial statements of an organization to make sure that the financial records are a fair and accurate representation of the transactions they claim to represent.\n",
        "\n",
        "#### Dataset Description\n",
        "\n",
        "Many risk factors are examined from various areas like past records of audit office, audit-paras, environmental conditions reports, firm reputation summary, on-going issues report, profit-value records, loss-value records, follow-up reports etc.\n",
        "\n",
        "Some of the columns/features are:\n",
        "\n",
        "|Column Name|Description|\n",
        "|:----|:----|\n",
        "|Sector_score|sector score of the firm|\n",
        "|LOCATION_ID|location id of the firm|\n",
        "|score_X|different types of score values|\n",
        "|risk_X|different types of risk levels|\n",
        "|Inherent_Risk|the risk posed by an error or omission in a financial statement due to a factor other than a failure of internal control|\n",
        "|CONTROL_RISK|Control Risk is the risk of a material misstatement in the financial statements arising due to absence or failure in the operation of relevant controls of the entity|\n",
        "|Detection_Risk|Detection Risk is the risk that the auditors fail to detect a material misstatement in the financial statements|\n",
        "|Audit_Risk|Audit risk (AR) refers to the risk that an auditor may issue an unqualified report due to the auditor's failure to detect material misstatement either due to error or fraud. This risk is composed of Inherent risk (IR), Control risk (CR), and Detection risk (DR) Audit risk can be calculated as: AR = IR × CR × DR|\n",
        "|Money_Value|Value for money of an audit|\n",
        "|Risk|Whether the firm is fraudulent or not, it is the target value|\n",
        "\n",
        "\n",
        "\n",
        "\n",
        "\n"
      ]
    },
    {
      "cell_type": "markdown",
      "metadata": {
        "id": "cMhYa29rSrDh"
      },
      "source": [
        "# Importing all the necessary libraries and modules "
      ]
    },
    {
      "cell_type": "code",
      "metadata": {
        "id": "Ih7DnbneoiAs"
      },
      "source": [
        "#importing libraries \n",
        "import numpy as np\n",
        "import pandas as pd\n",
        "\n",
        "#importing libraries for visualization\n",
        "import matplotlib.pyplot as plt\n",
        "import seaborn as sns\n",
        "%matplotlib inline\n",
        "\n",
        "#libraries for data preprocessing and for machine learning model\n",
        "from sklearn import preprocessing\n",
        "from sklearn.model_selection import train_test_split\n",
        "from sklearn.model_selection import GridSearchCV\n",
        "from sklearn.ensemble import RandomForestClassifier\n",
        "from sklearn.metrics import confusion_matrix, accuracy_score, f1_score, recall_score, precision_score, precision_recall_curve,roc_auc_score"
      ],
      "execution_count": null,
      "outputs": []
    },
    {
      "cell_type": "markdown",
      "metadata": {
        "id": "RxO6U10DT4Ac"
      },
      "source": [
        "# Reading the Datasets - Train Dataset and new unseen Test Dataset"
      ]
    },
    {
      "cell_type": "code",
      "metadata": {
        "id": "oweeSscXIOMs"
      },
      "source": [
        "#reading training dataset\n",
        "audit_data  = pd.read_csv('https://raw.githubusercontent.com/dphi-official/Datasets/master/audit_data/training_set_label.csv')"
      ],
      "execution_count": null,
      "outputs": []
    },
    {
      "cell_type": "code",
      "metadata": {
        "id": "TYidIBqXIWmA"
      },
      "source": [
        "#reading newtest dataset\n",
        "audit_testdata = pd.read_csv('https://raw.githubusercontent.com/dphi-official/Datasets/master/audit_data/testing_set_label.csv')"
      ],
      "execution_count": null,
      "outputs": []
    },
    {
      "cell_type": "markdown",
      "metadata": {
        "id": "sI8QjLhHT-G3"
      },
      "source": [
        "# Analyzing and Understanding the Datasets - Train Dataset and new unseen Test Dataset"
      ]
    },
    {
      "cell_type": "code",
      "metadata": {
        "id": "iQYvLliQ1t2L",
        "outputId": "5ea2abbb-02ea-4820-fc89-6edca557756d",
        "colab": {
          "base_uri": "https://localhost:8080/",
          "height": 34
        }
      },
      "source": [
        "#finding the total rows and columns of dataset\n",
        "audit_data.shape"
      ],
      "execution_count": null,
      "outputs": [
        {
          "output_type": "execute_result",
          "data": {
            "text/plain": [
              "(543, 27)"
            ]
          },
          "metadata": {
            "tags": []
          },
          "execution_count": 4
        }
      ]
    },
    {
      "cell_type": "code",
      "metadata": {
        "id": "bzdBiQyU1uvJ",
        "outputId": "407d34ef-3b22-4787-99e3-454ebf74fff5",
        "colab": {
          "base_uri": "https://localhost:8080/",
          "height": 34
        }
      },
      "source": [
        "#finding the total rows and columns of new test dataset\n",
        "audit_testdata.shape"
      ],
      "execution_count": null,
      "outputs": [
        {
          "output_type": "execute_result",
          "data": {
            "text/plain": [
              "(233, 26)"
            ]
          },
          "metadata": {
            "tags": []
          },
          "execution_count": 5
        }
      ]
    },
    {
      "cell_type": "code",
      "metadata": {
        "id": "k9KM8kUdIpcK",
        "outputId": "98f24ccb-45a8-4804-9ce9-c53123237556",
        "colab": {
          "base_uri": "https://localhost:8080/",
          "height": 119
        }
      },
      "source": [
        "#getting the overview of all the columns in the dataset\n",
        "audit_data.columns"
      ],
      "execution_count": null,
      "outputs": [
        {
          "output_type": "execute_result",
          "data": {
            "text/plain": [
              "Index(['Sector_score', 'LOCATION_ID', 'PARA_A', 'Score_A', 'Risk_A', 'PARA_B',\n",
              "       'Score_B', 'Risk_B', 'TOTAL', 'numbers', 'Score_B.1', 'Risk_C',\n",
              "       'Money_Value', 'Score_MV', 'Risk_D', 'District_Loss', 'PROB', 'RiSk_E',\n",
              "       'History', 'Prob', 'Risk_F', 'Score', 'Inherent_Risk', 'CONTROL_RISK',\n",
              "       'Detection_Risk', 'Audit_Risk', 'Risk'],\n",
              "      dtype='object')"
            ]
          },
          "metadata": {
            "tags": []
          },
          "execution_count": 6
        }
      ]
    },
    {
      "cell_type": "code",
      "metadata": {
        "id": "-MzlWnaZId_c",
        "outputId": "01063405-aa90-4738-9082-52d1ca492b77",
        "colab": {
          "base_uri": "https://localhost:8080/",
          "height": 119
        }
      },
      "source": [
        "#getting the overview of all the columns in the new test dataset\n",
        "audit_testdata.columns"
      ],
      "execution_count": null,
      "outputs": [
        {
          "output_type": "execute_result",
          "data": {
            "text/plain": [
              "Index(['Sector_score', 'LOCATION_ID', 'PARA_A', 'Score_A', 'Risk_A', 'PARA_B',\n",
              "       'Score_B', 'Risk_B', 'TOTAL', 'numbers', 'Score_B.1', 'Risk_C',\n",
              "       'Money_Value', 'Score_MV', 'Risk_D', 'District_Loss', 'PROB', 'RiSk_E',\n",
              "       'History', 'Prob', 'Risk_F', 'Score', 'Inherent_Risk', 'CONTROL_RISK',\n",
              "       'Detection_Risk', 'Audit_Risk'],\n",
              "      dtype='object')"
            ]
          },
          "metadata": {
            "tags": []
          },
          "execution_count": 7
        }
      ]
    },
    {
      "cell_type": "code",
      "metadata": {
        "id": "evv4HXiUI_lV",
        "outputId": "3e19cf6d-7d25-4a18-d8ad-78ac5bc4ba88",
        "colab": {
          "base_uri": "https://localhost:8080/",
          "height": 224
        }
      },
      "source": [
        "#first 5 rows content of the dataset\n",
        "audit_data.head()"
      ],
      "execution_count": null,
      "outputs": [
        {
          "output_type": "execute_result",
          "data": {
            "text/html": [
              "<div>\n",
              "<style scoped>\n",
              "    .dataframe tbody tr th:only-of-type {\n",
              "        vertical-align: middle;\n",
              "    }\n",
              "\n",
              "    .dataframe tbody tr th {\n",
              "        vertical-align: top;\n",
              "    }\n",
              "\n",
              "    .dataframe thead th {\n",
              "        text-align: right;\n",
              "    }\n",
              "</style>\n",
              "<table border=\"1\" class=\"dataframe\">\n",
              "  <thead>\n",
              "    <tr style=\"text-align: right;\">\n",
              "      <th></th>\n",
              "      <th>Sector_score</th>\n",
              "      <th>LOCATION_ID</th>\n",
              "      <th>PARA_A</th>\n",
              "      <th>Score_A</th>\n",
              "      <th>Risk_A</th>\n",
              "      <th>PARA_B</th>\n",
              "      <th>Score_B</th>\n",
              "      <th>Risk_B</th>\n",
              "      <th>TOTAL</th>\n",
              "      <th>numbers</th>\n",
              "      <th>Score_B.1</th>\n",
              "      <th>Risk_C</th>\n",
              "      <th>Money_Value</th>\n",
              "      <th>Score_MV</th>\n",
              "      <th>Risk_D</th>\n",
              "      <th>District_Loss</th>\n",
              "      <th>PROB</th>\n",
              "      <th>RiSk_E</th>\n",
              "      <th>History</th>\n",
              "      <th>Prob</th>\n",
              "      <th>Risk_F</th>\n",
              "      <th>Score</th>\n",
              "      <th>Inherent_Risk</th>\n",
              "      <th>CONTROL_RISK</th>\n",
              "      <th>Detection_Risk</th>\n",
              "      <th>Audit_Risk</th>\n",
              "      <th>Risk</th>\n",
              "    </tr>\n",
              "  </thead>\n",
              "  <tbody>\n",
              "    <tr>\n",
              "      <th>0</th>\n",
              "      <td>2.72</td>\n",
              "      <td>8</td>\n",
              "      <td>1.13</td>\n",
              "      <td>0.4</td>\n",
              "      <td>0.452</td>\n",
              "      <td>0.00</td>\n",
              "      <td>0.2</td>\n",
              "      <td>0.000</td>\n",
              "      <td>1.13</td>\n",
              "      <td>5.0</td>\n",
              "      <td>0.2</td>\n",
              "      <td>1.0</td>\n",
              "      <td>0.00</td>\n",
              "      <td>0.2</td>\n",
              "      <td>0.000</td>\n",
              "      <td>2</td>\n",
              "      <td>0.2</td>\n",
              "      <td>0.4</td>\n",
              "      <td>0</td>\n",
              "      <td>0.2</td>\n",
              "      <td>0.0</td>\n",
              "      <td>2.2</td>\n",
              "      <td>1.852</td>\n",
              "      <td>0.4</td>\n",
              "      <td>0.5</td>\n",
              "      <td>0.3704</td>\n",
              "      <td>0</td>\n",
              "    </tr>\n",
              "    <tr>\n",
              "      <th>1</th>\n",
              "      <td>1.85</td>\n",
              "      <td>13</td>\n",
              "      <td>8.25</td>\n",
              "      <td>0.6</td>\n",
              "      <td>4.950</td>\n",
              "      <td>1.59</td>\n",
              "      <td>0.4</td>\n",
              "      <td>0.636</td>\n",
              "      <td>9.84</td>\n",
              "      <td>5.0</td>\n",
              "      <td>0.2</td>\n",
              "      <td>1.0</td>\n",
              "      <td>0.02</td>\n",
              "      <td>0.2</td>\n",
              "      <td>0.004</td>\n",
              "      <td>2</td>\n",
              "      <td>0.2</td>\n",
              "      <td>0.4</td>\n",
              "      <td>0</td>\n",
              "      <td>0.2</td>\n",
              "      <td>0.0</td>\n",
              "      <td>3.0</td>\n",
              "      <td>6.990</td>\n",
              "      <td>0.4</td>\n",
              "      <td>0.5</td>\n",
              "      <td>1.3980</td>\n",
              "      <td>1</td>\n",
              "    </tr>\n",
              "    <tr>\n",
              "      <th>2</th>\n",
              "      <td>2.72</td>\n",
              "      <td>19</td>\n",
              "      <td>2.13</td>\n",
              "      <td>0.6</td>\n",
              "      <td>1.278</td>\n",
              "      <td>0.59</td>\n",
              "      <td>0.2</td>\n",
              "      <td>0.118</td>\n",
              "      <td>2.72</td>\n",
              "      <td>5.0</td>\n",
              "      <td>0.2</td>\n",
              "      <td>1.0</td>\n",
              "      <td>0.76</td>\n",
              "      <td>0.2</td>\n",
              "      <td>0.152</td>\n",
              "      <td>2</td>\n",
              "      <td>0.2</td>\n",
              "      <td>0.4</td>\n",
              "      <td>0</td>\n",
              "      <td>0.2</td>\n",
              "      <td>0.0</td>\n",
              "      <td>2.4</td>\n",
              "      <td>2.948</td>\n",
              "      <td>0.4</td>\n",
              "      <td>0.5</td>\n",
              "      <td>0.5896</td>\n",
              "      <td>0</td>\n",
              "    </tr>\n",
              "    <tr>\n",
              "      <th>3</th>\n",
              "      <td>59.85</td>\n",
              "      <td>21</td>\n",
              "      <td>0.42</td>\n",
              "      <td>0.2</td>\n",
              "      <td>0.084</td>\n",
              "      <td>0.00</td>\n",
              "      <td>0.2</td>\n",
              "      <td>0.000</td>\n",
              "      <td>0.42</td>\n",
              "      <td>5.0</td>\n",
              "      <td>0.2</td>\n",
              "      <td>1.0</td>\n",
              "      <td>0.00</td>\n",
              "      <td>0.2</td>\n",
              "      <td>0.000</td>\n",
              "      <td>4</td>\n",
              "      <td>0.2</td>\n",
              "      <td>0.8</td>\n",
              "      <td>0</td>\n",
              "      <td>0.2</td>\n",
              "      <td>0.0</td>\n",
              "      <td>2.2</td>\n",
              "      <td>1.884</td>\n",
              "      <td>0.8</td>\n",
              "      <td>0.5</td>\n",
              "      <td>0.7536</td>\n",
              "      <td>0</td>\n",
              "    </tr>\n",
              "    <tr>\n",
              "      <th>4</th>\n",
              "      <td>2.72</td>\n",
              "      <td>4</td>\n",
              "      <td>1.33</td>\n",
              "      <td>0.4</td>\n",
              "      <td>0.532</td>\n",
              "      <td>0.35</td>\n",
              "      <td>0.2</td>\n",
              "      <td>0.070</td>\n",
              "      <td>1.68</td>\n",
              "      <td>5.0</td>\n",
              "      <td>0.2</td>\n",
              "      <td>1.0</td>\n",
              "      <td>0.00</td>\n",
              "      <td>0.2</td>\n",
              "      <td>0.000</td>\n",
              "      <td>2</td>\n",
              "      <td>0.2</td>\n",
              "      <td>0.4</td>\n",
              "      <td>0</td>\n",
              "      <td>0.2</td>\n",
              "      <td>0.0</td>\n",
              "      <td>2.2</td>\n",
              "      <td>2.002</td>\n",
              "      <td>0.4</td>\n",
              "      <td>0.5</td>\n",
              "      <td>0.4004</td>\n",
              "      <td>0</td>\n",
              "    </tr>\n",
              "  </tbody>\n",
              "</table>\n",
              "</div>"
            ],
            "text/plain": [
              "   Sector_score LOCATION_ID  PARA_A  ...  Detection_Risk  Audit_Risk  Risk\n",
              "0          2.72           8    1.13  ...             0.5      0.3704     0\n",
              "1          1.85          13    8.25  ...             0.5      1.3980     1\n",
              "2          2.72          19    2.13  ...             0.5      0.5896     0\n",
              "3         59.85          21    0.42  ...             0.5      0.7536     0\n",
              "4          2.72           4    1.33  ...             0.5      0.4004     0\n",
              "\n",
              "[5 rows x 27 columns]"
            ]
          },
          "metadata": {
            "tags": []
          },
          "execution_count": 8
        }
      ]
    },
    {
      "cell_type": "code",
      "metadata": {
        "id": "x3RsR5_mJ6L3",
        "outputId": "38700772-ed40-4785-e229-5f4c04384b50",
        "colab": {
          "base_uri": "https://localhost:8080/",
          "height": 224
        }
      },
      "source": [
        "#first 5 rows content of the new test dataset\n",
        "audit_testdata.head()"
      ],
      "execution_count": null,
      "outputs": [
        {
          "output_type": "execute_result",
          "data": {
            "text/html": [
              "<div>\n",
              "<style scoped>\n",
              "    .dataframe tbody tr th:only-of-type {\n",
              "        vertical-align: middle;\n",
              "    }\n",
              "\n",
              "    .dataframe tbody tr th {\n",
              "        vertical-align: top;\n",
              "    }\n",
              "\n",
              "    .dataframe thead th {\n",
              "        text-align: right;\n",
              "    }\n",
              "</style>\n",
              "<table border=\"1\" class=\"dataframe\">\n",
              "  <thead>\n",
              "    <tr style=\"text-align: right;\">\n",
              "      <th></th>\n",
              "      <th>Sector_score</th>\n",
              "      <th>LOCATION_ID</th>\n",
              "      <th>PARA_A</th>\n",
              "      <th>Score_A</th>\n",
              "      <th>Risk_A</th>\n",
              "      <th>PARA_B</th>\n",
              "      <th>Score_B</th>\n",
              "      <th>Risk_B</th>\n",
              "      <th>TOTAL</th>\n",
              "      <th>numbers</th>\n",
              "      <th>Score_B.1</th>\n",
              "      <th>Risk_C</th>\n",
              "      <th>Money_Value</th>\n",
              "      <th>Score_MV</th>\n",
              "      <th>Risk_D</th>\n",
              "      <th>District_Loss</th>\n",
              "      <th>PROB</th>\n",
              "      <th>RiSk_E</th>\n",
              "      <th>History</th>\n",
              "      <th>Prob</th>\n",
              "      <th>Risk_F</th>\n",
              "      <th>Score</th>\n",
              "      <th>Inherent_Risk</th>\n",
              "      <th>CONTROL_RISK</th>\n",
              "      <th>Detection_Risk</th>\n",
              "      <th>Audit_Risk</th>\n",
              "    </tr>\n",
              "  </thead>\n",
              "  <tbody>\n",
              "    <tr>\n",
              "      <th>0</th>\n",
              "      <td>3.89</td>\n",
              "      <td>22</td>\n",
              "      <td>0.00</td>\n",
              "      <td>0.2</td>\n",
              "      <td>0.000</td>\n",
              "      <td>18.05</td>\n",
              "      <td>0.6</td>\n",
              "      <td>10.830</td>\n",
              "      <td>18.05</td>\n",
              "      <td>5.0</td>\n",
              "      <td>0.2</td>\n",
              "      <td>1.0</td>\n",
              "      <td>2.29</td>\n",
              "      <td>0.2</td>\n",
              "      <td>0.458</td>\n",
              "      <td>2</td>\n",
              "      <td>0.2</td>\n",
              "      <td>0.4</td>\n",
              "      <td>0</td>\n",
              "      <td>0.2</td>\n",
              "      <td>0.0</td>\n",
              "      <td>3.2</td>\n",
              "      <td>12.688</td>\n",
              "      <td>0.4</td>\n",
              "      <td>0.5</td>\n",
              "      <td>2.5376</td>\n",
              "    </tr>\n",
              "    <tr>\n",
              "      <th>1</th>\n",
              "      <td>55.57</td>\n",
              "      <td>29</td>\n",
              "      <td>1.26</td>\n",
              "      <td>0.4</td>\n",
              "      <td>0.504</td>\n",
              "      <td>1.58</td>\n",
              "      <td>0.4</td>\n",
              "      <td>0.632</td>\n",
              "      <td>2.84</td>\n",
              "      <td>5.0</td>\n",
              "      <td>0.2</td>\n",
              "      <td>1.0</td>\n",
              "      <td>6.50</td>\n",
              "      <td>0.4</td>\n",
              "      <td>2.600</td>\n",
              "      <td>2</td>\n",
              "      <td>0.2</td>\n",
              "      <td>0.4</td>\n",
              "      <td>0</td>\n",
              "      <td>0.2</td>\n",
              "      <td>0.0</td>\n",
              "      <td>3.0</td>\n",
              "      <td>5.136</td>\n",
              "      <td>0.4</td>\n",
              "      <td>0.5</td>\n",
              "      <td>1.0272</td>\n",
              "    </tr>\n",
              "    <tr>\n",
              "      <th>2</th>\n",
              "      <td>2.72</td>\n",
              "      <td>16</td>\n",
              "      <td>0.00</td>\n",
              "      <td>0.2</td>\n",
              "      <td>0.000</td>\n",
              "      <td>0.00</td>\n",
              "      <td>0.2</td>\n",
              "      <td>0.000</td>\n",
              "      <td>0.00</td>\n",
              "      <td>5.0</td>\n",
              "      <td>0.2</td>\n",
              "      <td>1.0</td>\n",
              "      <td>0.00</td>\n",
              "      <td>0.2</td>\n",
              "      <td>0.000</td>\n",
              "      <td>4</td>\n",
              "      <td>0.2</td>\n",
              "      <td>0.8</td>\n",
              "      <td>0</td>\n",
              "      <td>0.2</td>\n",
              "      <td>0.0</td>\n",
              "      <td>2.2</td>\n",
              "      <td>1.800</td>\n",
              "      <td>0.8</td>\n",
              "      <td>0.5</td>\n",
              "      <td>0.7200</td>\n",
              "    </tr>\n",
              "    <tr>\n",
              "      <th>3</th>\n",
              "      <td>59.85</td>\n",
              "      <td>4</td>\n",
              "      <td>0.00</td>\n",
              "      <td>0.2</td>\n",
              "      <td>0.000</td>\n",
              "      <td>0.00</td>\n",
              "      <td>0.2</td>\n",
              "      <td>0.000</td>\n",
              "      <td>0.00</td>\n",
              "      <td>5.0</td>\n",
              "      <td>0.2</td>\n",
              "      <td>1.0</td>\n",
              "      <td>0.00</td>\n",
              "      <td>0.2</td>\n",
              "      <td>0.000</td>\n",
              "      <td>2</td>\n",
              "      <td>0.2</td>\n",
              "      <td>0.4</td>\n",
              "      <td>0</td>\n",
              "      <td>0.2</td>\n",
              "      <td>0.0</td>\n",
              "      <td>2.0</td>\n",
              "      <td>1.400</td>\n",
              "      <td>0.4</td>\n",
              "      <td>0.5</td>\n",
              "      <td>0.2800</td>\n",
              "    </tr>\n",
              "    <tr>\n",
              "      <th>4</th>\n",
              "      <td>3.41</td>\n",
              "      <td>16</td>\n",
              "      <td>11.73</td>\n",
              "      <td>0.6</td>\n",
              "      <td>7.038</td>\n",
              "      <td>85.87</td>\n",
              "      <td>0.6</td>\n",
              "      <td>51.522</td>\n",
              "      <td>97.60</td>\n",
              "      <td>5.0</td>\n",
              "      <td>0.2</td>\n",
              "      <td>1.0</td>\n",
              "      <td>6.96</td>\n",
              "      <td>0.4</td>\n",
              "      <td>2.784</td>\n",
              "      <td>2</td>\n",
              "      <td>0.2</td>\n",
              "      <td>0.4</td>\n",
              "      <td>1</td>\n",
              "      <td>0.4</td>\n",
              "      <td>0.4</td>\n",
              "      <td>4.0</td>\n",
              "      <td>63.144</td>\n",
              "      <td>0.8</td>\n",
              "      <td>0.5</td>\n",
              "      <td>25.2576</td>\n",
              "    </tr>\n",
              "  </tbody>\n",
              "</table>\n",
              "</div>"
            ],
            "text/plain": [
              "   Sector_score LOCATION_ID  PARA_A  ...  CONTROL_RISK  Detection_Risk  Audit_Risk\n",
              "0          3.89          22    0.00  ...           0.4             0.5      2.5376\n",
              "1         55.57          29    1.26  ...           0.4             0.5      1.0272\n",
              "2          2.72          16    0.00  ...           0.8             0.5      0.7200\n",
              "3         59.85           4    0.00  ...           0.4             0.5      0.2800\n",
              "4          3.41          16   11.73  ...           0.8             0.5     25.2576\n",
              "\n",
              "[5 rows x 26 columns]"
            ]
          },
          "metadata": {
            "tags": []
          },
          "execution_count": 9
        }
      ]
    },
    {
      "cell_type": "code",
      "metadata": {
        "id": "IOGiXrB1KPmG",
        "outputId": "2d848ff7-475d-42ac-de97-8586eb027d15",
        "colab": {
          "base_uri": "https://localhost:8080/",
          "height": 595
        }
      },
      "source": [
        "#getting brief overview of the dataset - number of columns and rows (shape of dataset), columns names and its dtype, how many non-null values it has and memory usage.\n",
        "audit_data.info()"
      ],
      "execution_count": null,
      "outputs": [
        {
          "output_type": "stream",
          "text": [
            "<class 'pandas.core.frame.DataFrame'>\n",
            "RangeIndex: 543 entries, 0 to 542\n",
            "Data columns (total 27 columns):\n",
            " #   Column          Non-Null Count  Dtype  \n",
            "---  ------          --------------  -----  \n",
            " 0   Sector_score    543 non-null    float64\n",
            " 1   LOCATION_ID     543 non-null    object \n",
            " 2   PARA_A          543 non-null    float64\n",
            " 3   Score_A         543 non-null    float64\n",
            " 4   Risk_A          543 non-null    float64\n",
            " 5   PARA_B          543 non-null    float64\n",
            " 6   Score_B         543 non-null    float64\n",
            " 7   Risk_B          543 non-null    float64\n",
            " 8   TOTAL           543 non-null    float64\n",
            " 9   numbers         543 non-null    float64\n",
            " 10  Score_B.1       543 non-null    float64\n",
            " 11  Risk_C          543 non-null    float64\n",
            " 12  Money_Value     543 non-null    float64\n",
            " 13  Score_MV        543 non-null    float64\n",
            " 14  Risk_D          543 non-null    float64\n",
            " 15  District_Loss   543 non-null    int64  \n",
            " 16  PROB            543 non-null    float64\n",
            " 17  RiSk_E          543 non-null    float64\n",
            " 18  History         543 non-null    int64  \n",
            " 19  Prob            543 non-null    float64\n",
            " 20  Risk_F          543 non-null    float64\n",
            " 21  Score           543 non-null    float64\n",
            " 22  Inherent_Risk   543 non-null    float64\n",
            " 23  CONTROL_RISK    543 non-null    float64\n",
            " 24  Detection_Risk  543 non-null    float64\n",
            " 25  Audit_Risk      543 non-null    float64\n",
            " 26  Risk            543 non-null    int64  \n",
            "dtypes: float64(23), int64(3), object(1)\n",
            "memory usage: 114.7+ KB\n"
          ],
          "name": "stdout"
        }
      ]
    },
    {
      "cell_type": "code",
      "metadata": {
        "id": "4lc1UbmpKg4Z",
        "outputId": "73874c10-2f84-400b-cc9c-bd1ce2e7c8ea",
        "colab": {
          "base_uri": "https://localhost:8080/",
          "height": 578
        }
      },
      "source": [
        "#getting brief overview of the new test dataset - number of columns and rows (shape of dataset), columns names and its dtype, how many non-null values it has \n",
        "#and memory usage.\n",
        "audit_testdata.info()"
      ],
      "execution_count": null,
      "outputs": [
        {
          "output_type": "stream",
          "text": [
            "<class 'pandas.core.frame.DataFrame'>\n",
            "RangeIndex: 233 entries, 0 to 232\n",
            "Data columns (total 26 columns):\n",
            " #   Column          Non-Null Count  Dtype  \n",
            "---  ------          --------------  -----  \n",
            " 0   Sector_score    233 non-null    float64\n",
            " 1   LOCATION_ID     233 non-null    object \n",
            " 2   PARA_A          233 non-null    float64\n",
            " 3   Score_A         233 non-null    float64\n",
            " 4   Risk_A          233 non-null    float64\n",
            " 5   PARA_B          233 non-null    float64\n",
            " 6   Score_B         233 non-null    float64\n",
            " 7   Risk_B          233 non-null    float64\n",
            " 8   TOTAL           233 non-null    float64\n",
            " 9   numbers         233 non-null    float64\n",
            " 10  Score_B.1       233 non-null    float64\n",
            " 11  Risk_C          233 non-null    float64\n",
            " 12  Money_Value     232 non-null    float64\n",
            " 13  Score_MV        233 non-null    float64\n",
            " 14  Risk_D          233 non-null    float64\n",
            " 15  District_Loss   233 non-null    int64  \n",
            " 16  PROB            233 non-null    float64\n",
            " 17  RiSk_E          233 non-null    float64\n",
            " 18  History         233 non-null    int64  \n",
            " 19  Prob            233 non-null    float64\n",
            " 20  Risk_F          233 non-null    float64\n",
            " 21  Score           233 non-null    float64\n",
            " 22  Inherent_Risk   233 non-null    float64\n",
            " 23  CONTROL_RISK    233 non-null    float64\n",
            " 24  Detection_Risk  233 non-null    float64\n",
            " 25  Audit_Risk      233 non-null    float64\n",
            "dtypes: float64(23), int64(2), object(1)\n",
            "memory usage: 47.5+ KB\n"
          ],
          "name": "stdout"
        }
      ]
    },
    {
      "cell_type": "code",
      "metadata": {
        "id": "J_2tH3Y8LPZt",
        "outputId": "94387aa8-5b17-4606-acfb-075a3c100c8e",
        "colab": {
          "base_uri": "https://localhost:8080/",
          "height": 493
        }
      },
      "source": [
        "#just extra checking for null values\n",
        "audit_data.isnull().sum()"
      ],
      "execution_count": null,
      "outputs": [
        {
          "output_type": "execute_result",
          "data": {
            "text/plain": [
              "Sector_score      0\n",
              "LOCATION_ID       0\n",
              "PARA_A            0\n",
              "Score_A           0\n",
              "Risk_A            0\n",
              "PARA_B            0\n",
              "Score_B           0\n",
              "Risk_B            0\n",
              "TOTAL             0\n",
              "numbers           0\n",
              "Score_B.1         0\n",
              "Risk_C            0\n",
              "Money_Value       0\n",
              "Score_MV          0\n",
              "Risk_D            0\n",
              "District_Loss     0\n",
              "PROB              0\n",
              "RiSk_E            0\n",
              "History           0\n",
              "Prob              0\n",
              "Risk_F            0\n",
              "Score             0\n",
              "Inherent_Risk     0\n",
              "CONTROL_RISK      0\n",
              "Detection_Risk    0\n",
              "Audit_Risk        0\n",
              "Risk              0\n",
              "dtype: int64"
            ]
          },
          "metadata": {
            "tags": []
          },
          "execution_count": 12
        }
      ]
    },
    {
      "cell_type": "code",
      "metadata": {
        "id": "gpeRvBnhxPFU",
        "outputId": "ccf6479a-ecba-43d9-f75f-fa6d895ff78a",
        "colab": {
          "base_uri": "https://localhost:8080/",
          "height": 34
        }
      },
      "source": [
        "#checking for duplicates values\n",
        "audit_data.duplicated().sum()"
      ],
      "execution_count": null,
      "outputs": [
        {
          "output_type": "execute_result",
          "data": {
            "text/plain": [
              "6"
            ]
          },
          "metadata": {
            "tags": []
          },
          "execution_count": 13
        }
      ]
    },
    {
      "cell_type": "code",
      "metadata": {
        "id": "io2fm_tPBjjO",
        "outputId": "5769b5a5-f0dd-4809-e453-c1dd85e23154",
        "colab": {
          "base_uri": "https://localhost:8080/",
          "height": 34
        }
      },
      "source": [
        "#rough checking how many times may each of the 6 values (output above) exists in the dataset\n",
        "audit_data.duplicated(keep=False).sum()"
      ],
      "execution_count": null,
      "outputs": [
        {
          "output_type": "execute_result",
          "data": {
            "text/plain": [
              "11"
            ]
          },
          "metadata": {
            "tags": []
          },
          "execution_count": 14
        }
      ]
    },
    {
      "cell_type": "markdown",
      "metadata": {
        "id": "LKdlB_uYUR3_"
      },
      "source": [
        "# Pre-processing of the data in Train Dataset and new unseen Test Dataset"
      ]
    },
    {
      "cell_type": "code",
      "metadata": {
        "id": "g3eoDZXoBkKW"
      },
      "source": [
        "#sorting the dataset to delete the duplicates, to make duplicates come together one after another. The sorted dataset index values are also changed\n",
        "cols = list(audit_data.columns)\n",
        "audit_data.sort_values(by=cols, inplace=True, ignore_index=True)"
      ],
      "execution_count": null,
      "outputs": []
    },
    {
      "cell_type": "code",
      "metadata": {
        "id": "Pxz95evdCzpc"
      },
      "source": [
        "#dropping the duplicates only keeping the last value (ordinally last row from sorted) of each duplicates\n",
        "audit_data.drop_duplicates(keep='last', inplace=True, ignore_index=True)"
      ],
      "execution_count": null,
      "outputs": []
    },
    {
      "cell_type": "code",
      "metadata": {
        "id": "djBbZ3rHC9V5",
        "outputId": "c4889ede-87fe-4980-a930-0bce1b282b69",
        "colab": {
          "base_uri": "https://localhost:8080/",
          "height": 34
        }
      },
      "source": [
        "#re-checking everything worked well with drop_duplicates() carried out earlier on the dataset\n",
        "audit_data.duplicated().sum()"
      ],
      "execution_count": null,
      "outputs": [
        {
          "output_type": "execute_result",
          "data": {
            "text/plain": [
              "0"
            ]
          },
          "metadata": {
            "tags": []
          },
          "execution_count": 17
        }
      ]
    },
    {
      "cell_type": "code",
      "metadata": {
        "id": "mrQHpu3OxSb6",
        "outputId": "8bf59072-4b80-495e-eea9-ef13292a299a",
        "colab": {
          "base_uri": "https://localhost:8080/",
          "height": 34
        }
      },
      "source": [
        "#getting list of all object datatypes column names\n",
        "list(audit_data.select_dtypes(['object']).columns)"
      ],
      "execution_count": null,
      "outputs": [
        {
          "output_type": "execute_result",
          "data": {
            "text/plain": [
              "['LOCATION_ID']"
            ]
          },
          "metadata": {
            "tags": []
          },
          "execution_count": 18
        }
      ]
    },
    {
      "cell_type": "code",
      "metadata": {
        "id": "WTBLZawxBcpG",
        "outputId": "39b2840a-ae8d-488b-ec4d-042dcb32deb1",
        "colab": {
          "base_uri": "https://localhost:8080/",
          "height": 748
        }
      },
      "source": [
        "#checking all the values count (unique values total count) of train dataset \n",
        "audit_data['LOCATION_ID'].value_counts()"
      ],
      "execution_count": null,
      "outputs": [
        {
          "output_type": "execute_result",
          "data": {
            "text/plain": [
              "8          53\n",
              "19         51\n",
              "16         37\n",
              "5          32\n",
              "9          32\n",
              "2          29\n",
              "12         29\n",
              "6          28\n",
              "4          24\n",
              "15         23\n",
              "13         20\n",
              "11         18\n",
              "32         17\n",
              "29         14\n",
              "14         13\n",
              "22         13\n",
              "18         11\n",
              "39          9\n",
              "27          7\n",
              "21          7\n",
              "1           7\n",
              "31          7\n",
              "43          7\n",
              "25          6\n",
              "20          5\n",
              "37          5\n",
              "28          4\n",
              "38          4\n",
              "36          3\n",
              "40          3\n",
              "7           3\n",
              "30          3\n",
              "3           3\n",
              "35          2\n",
              "34          1\n",
              "41          1\n",
              "17          1\n",
              "44          1\n",
              "NUH         1\n",
              "23          1\n",
              "SAFIDON     1\n",
              "33          1\n",
              "Name: LOCATION_ID, dtype: int64"
            ]
          },
          "metadata": {
            "tags": []
          },
          "execution_count": 19
        }
      ]
    },
    {
      "cell_type": "code",
      "metadata": {
        "id": "chVboZFAcNqv",
        "outputId": "d81d5426-30b8-4f26-8463-58cc8baf0ec1",
        "colab": {
          "base_uri": "https://localhost:8080/",
          "height": 34
        }
      },
      "source": [
        "#total unique values count\n",
        "audit_data['LOCATION_ID'].value_counts().count()"
      ],
      "execution_count": null,
      "outputs": [
        {
          "output_type": "execute_result",
          "data": {
            "text/plain": [
              "42"
            ]
          },
          "metadata": {
            "tags": []
          },
          "execution_count": 20
        }
      ]
    },
    {
      "cell_type": "code",
      "metadata": {
        "id": "OcfB0a3mDe7E",
        "outputId": "12660e76-bac1-4723-e43e-dbf3dd6f09e0",
        "colab": {
          "base_uri": "https://localhost:8080/",
          "height": 527
        }
      },
      "source": [
        "#since the same column in new test dataset is object dtype too so checking its values count (unique values total count) too\n",
        "audit_testdata['LOCATION_ID'].value_counts()"
      ],
      "execution_count": null,
      "outputs": [
        {
          "output_type": "execute_result",
          "data": {
            "text/plain": [
              "8         22\n",
              "9         19\n",
              "19        17\n",
              "12        16\n",
              "16        15\n",
              "13        15\n",
              "4         13\n",
              "32        12\n",
              "15        12\n",
              "5         12\n",
              "22        11\n",
              "2         11\n",
              "11         8\n",
              "14         7\n",
              "29         7\n",
              "6          5\n",
              "37         5\n",
              "18         5\n",
              "31         5\n",
              "28         4\n",
              "1          4\n",
              "42         1\n",
              "LOHARU     1\n",
              "7          1\n",
              "21         1\n",
              "30         1\n",
              "24         1\n",
              "27         1\n",
              "36         1\n",
              "Name: LOCATION_ID, dtype: int64"
            ]
          },
          "metadata": {
            "tags": []
          },
          "execution_count": 21
        }
      ]
    },
    {
      "cell_type": "code",
      "metadata": {
        "id": "58CohOiecCJk",
        "outputId": "4a42cb2a-a7a3-496a-d902-d3e156c2ccee",
        "colab": {
          "base_uri": "https://localhost:8080/",
          "height": 34
        }
      },
      "source": [
        "#total unique values count\n",
        "audit_testdata['LOCATION_ID'].value_counts().count()"
      ],
      "execution_count": null,
      "outputs": [
        {
          "output_type": "execute_result",
          "data": {
            "text/plain": [
              "29"
            ]
          },
          "metadata": {
            "tags": []
          },
          "execution_count": 22
        }
      ]
    },
    {
      "cell_type": "markdown",
      "metadata": {
        "id": "dP2VVlxHwQ1Z"
      },
      "source": [
        "Since LOCATION_ID column in both train and new test dataset has maximum datapoint values as numbers whereas the string values are two and one respectively and all are different.\n",
        "So lets convert each string values to number starting from 45 as 44 is the highest Location Id value in train dataset, and 42 is the highest Location Id value in new test dataset "
      ]
    },
    {
      "cell_type": "code",
      "metadata": {
        "id": "_24Qi3uoGIql"
      },
      "source": [
        "#converting object dtype column to numeric dtype"
      ],
      "execution_count": null,
      "outputs": []
    },
    {
      "cell_type": "code",
      "metadata": {
        "id": "heOrraQNvyMF"
      },
      "source": [
        "audit_data['LOCATION_ID'].replace('SAFIDON', 45, inplace=True)"
      ],
      "execution_count": null,
      "outputs": []
    },
    {
      "cell_type": "code",
      "metadata": {
        "id": "2_ndRC401zo3"
      },
      "source": [
        "audit_data['LOCATION_ID'].replace('NUH', 46, inplace=True)"
      ],
      "execution_count": null,
      "outputs": []
    },
    {
      "cell_type": "code",
      "metadata": {
        "id": "rkTDDYcl23Wk"
      },
      "source": [
        "audit_data['LOCATION_ID'] = audit_data['LOCATION_ID'].astype('int')"
      ],
      "execution_count": null,
      "outputs": []
    },
    {
      "cell_type": "code",
      "metadata": {
        "id": "04Ku5J6hjFaK"
      },
      "source": [
        "# #converting object dtype column to numeric dtype\n",
        "# le = LabelEncoder()\n",
        "# audit_data['LOCATION_ID'] = le.fit_transform(audit_data['LOCATION_ID'])\n",
        "# audit_data.head()"
      ],
      "execution_count": null,
      "outputs": []
    },
    {
      "cell_type": "code",
      "metadata": {
        "id": "H5GK00y-ZNBl",
        "outputId": "b4a587f4-6553-4f44-d403-a0a0a66f7080",
        "colab": {
          "base_uri": "https://localhost:8080/",
          "height": 595
        }
      },
      "source": [
        "#getting brief overview of the dataset to check dtypes of all columns\n",
        "audit_data.info()"
      ],
      "execution_count": null,
      "outputs": [
        {
          "output_type": "stream",
          "text": [
            "<class 'pandas.core.frame.DataFrame'>\n",
            "RangeIndex: 537 entries, 0 to 536\n",
            "Data columns (total 27 columns):\n",
            " #   Column          Non-Null Count  Dtype  \n",
            "---  ------          --------------  -----  \n",
            " 0   Sector_score    537 non-null    float64\n",
            " 1   LOCATION_ID     537 non-null    int64  \n",
            " 2   PARA_A          537 non-null    float64\n",
            " 3   Score_A         537 non-null    float64\n",
            " 4   Risk_A          537 non-null    float64\n",
            " 5   PARA_B          537 non-null    float64\n",
            " 6   Score_B         537 non-null    float64\n",
            " 7   Risk_B          537 non-null    float64\n",
            " 8   TOTAL           537 non-null    float64\n",
            " 9   numbers         537 non-null    float64\n",
            " 10  Score_B.1       537 non-null    float64\n",
            " 11  Risk_C          537 non-null    float64\n",
            " 12  Money_Value     537 non-null    float64\n",
            " 13  Score_MV        537 non-null    float64\n",
            " 14  Risk_D          537 non-null    float64\n",
            " 15  District_Loss   537 non-null    int64  \n",
            " 16  PROB            537 non-null    float64\n",
            " 17  RiSk_E          537 non-null    float64\n",
            " 18  History         537 non-null    int64  \n",
            " 19  Prob            537 non-null    float64\n",
            " 20  Risk_F          537 non-null    float64\n",
            " 21  Score           537 non-null    float64\n",
            " 22  Inherent_Risk   537 non-null    float64\n",
            " 23  CONTROL_RISK    537 non-null    float64\n",
            " 24  Detection_Risk  537 non-null    float64\n",
            " 25  Audit_Risk      537 non-null    float64\n",
            " 26  Risk            537 non-null    int64  \n",
            "dtypes: float64(23), int64(4)\n",
            "memory usage: 113.4 KB\n"
          ],
          "name": "stdout"
        }
      ]
    },
    {
      "cell_type": "code",
      "metadata": {
        "id": "nLDz5YPVGDTg"
      },
      "source": [
        "#converting object dtype column to numeric dtype"
      ],
      "execution_count": null,
      "outputs": []
    },
    {
      "cell_type": "code",
      "metadata": {
        "id": "Xs__DdoJ4PrW"
      },
      "source": [
        "audit_testdata['LOCATION_ID'].replace('LOHARU', 47, inplace=True)"
      ],
      "execution_count": null,
      "outputs": []
    },
    {
      "cell_type": "code",
      "metadata": {
        "id": "bsQxtyUX4Ue-"
      },
      "source": [
        "audit_testdata['LOCATION_ID'] = audit_testdata['LOCATION_ID'].astype('int')"
      ],
      "execution_count": null,
      "outputs": []
    },
    {
      "cell_type": "code",
      "metadata": {
        "id": "tQaKKAstWahZ"
      },
      "source": [
        "# #converting object dtype column to numeric dtype\n",
        "# audit_testdata['LOCATION_ID'] = le.fit_transform(audit_testdata['LOCATION_ID'])\n",
        "# audit_testdata.head()"
      ],
      "execution_count": null,
      "outputs": []
    },
    {
      "cell_type": "code",
      "metadata": {
        "id": "g-tJzqH6ZObe",
        "outputId": "e77a2fa3-e1d2-4fc0-d607-4ba2d5726183",
        "colab": {
          "base_uri": "https://localhost:8080/",
          "height": 578
        }
      },
      "source": [
        "#getting brief overview of the dataset to check dtypes of all columns\n",
        "audit_testdata.info()"
      ],
      "execution_count": null,
      "outputs": [
        {
          "output_type": "stream",
          "text": [
            "<class 'pandas.core.frame.DataFrame'>\n",
            "RangeIndex: 233 entries, 0 to 232\n",
            "Data columns (total 26 columns):\n",
            " #   Column          Non-Null Count  Dtype  \n",
            "---  ------          --------------  -----  \n",
            " 0   Sector_score    233 non-null    float64\n",
            " 1   LOCATION_ID     233 non-null    int64  \n",
            " 2   PARA_A          233 non-null    float64\n",
            " 3   Score_A         233 non-null    float64\n",
            " 4   Risk_A          233 non-null    float64\n",
            " 5   PARA_B          233 non-null    float64\n",
            " 6   Score_B         233 non-null    float64\n",
            " 7   Risk_B          233 non-null    float64\n",
            " 8   TOTAL           233 non-null    float64\n",
            " 9   numbers         233 non-null    float64\n",
            " 10  Score_B.1       233 non-null    float64\n",
            " 11  Risk_C          233 non-null    float64\n",
            " 12  Money_Value     232 non-null    float64\n",
            " 13  Score_MV        233 non-null    float64\n",
            " 14  Risk_D          233 non-null    float64\n",
            " 15  District_Loss   233 non-null    int64  \n",
            " 16  PROB            233 non-null    float64\n",
            " 17  RiSk_E          233 non-null    float64\n",
            " 18  History         233 non-null    int64  \n",
            " 19  Prob            233 non-null    float64\n",
            " 20  Risk_F          233 non-null    float64\n",
            " 21  Score           233 non-null    float64\n",
            " 22  Inherent_Risk   233 non-null    float64\n",
            " 23  CONTROL_RISK    233 non-null    float64\n",
            " 24  Detection_Risk  233 non-null    float64\n",
            " 25  Audit_Risk      233 non-null    float64\n",
            "dtypes: float64(23), int64(3)\n",
            "memory usage: 47.5 KB\n"
          ],
          "name": "stdout"
        }
      ]
    },
    {
      "cell_type": "code",
      "metadata": {
        "id": "u1B0FnbhmyR7",
        "outputId": "704099a4-a28b-4522-8bfe-8632dd4a68b1",
        "colab": {
          "base_uri": "https://localhost:8080/",
          "height": 224
        }
      },
      "source": [
        "# normalizing the data with MinMaxScalar\n",
        "minmax_auditdata = audit_data.drop('Risk', axis = 1)\n",
        "col_name = audit_data.drop(['Risk'], axis = 1).columns[:]\n",
        "minmax_scaler = preprocessing.MinMaxScaler()\n",
        "minmax_auditdata = minmax_scaler.fit_transform(minmax_auditdata)\n",
        "minmax_auditdata = pd.DataFrame(minmax_auditdata, columns = col_name)\n",
        "minmax_auditdata['Risk'] = audit_data['Risk']\n",
        "minmax_auditdata.head()"
      ],
      "execution_count": null,
      "outputs": [
        {
          "output_type": "execute_result",
          "data": {
            "text/html": [
              "<div>\n",
              "<style scoped>\n",
              "    .dataframe tbody tr th:only-of-type {\n",
              "        vertical-align: middle;\n",
              "    }\n",
              "\n",
              "    .dataframe tbody tr th {\n",
              "        vertical-align: top;\n",
              "    }\n",
              "\n",
              "    .dataframe thead th {\n",
              "        text-align: right;\n",
              "    }\n",
              "</style>\n",
              "<table border=\"1\" class=\"dataframe\">\n",
              "  <thead>\n",
              "    <tr style=\"text-align: right;\">\n",
              "      <th></th>\n",
              "      <th>Sector_score</th>\n",
              "      <th>LOCATION_ID</th>\n",
              "      <th>PARA_A</th>\n",
              "      <th>Score_A</th>\n",
              "      <th>Risk_A</th>\n",
              "      <th>PARA_B</th>\n",
              "      <th>Score_B</th>\n",
              "      <th>Risk_B</th>\n",
              "      <th>TOTAL</th>\n",
              "      <th>numbers</th>\n",
              "      <th>Score_B.1</th>\n",
              "      <th>Risk_C</th>\n",
              "      <th>Money_Value</th>\n",
              "      <th>Score_MV</th>\n",
              "      <th>Risk_D</th>\n",
              "      <th>District_Loss</th>\n",
              "      <th>PROB</th>\n",
              "      <th>RiSk_E</th>\n",
              "      <th>History</th>\n",
              "      <th>Prob</th>\n",
              "      <th>Risk_F</th>\n",
              "      <th>Score</th>\n",
              "      <th>Inherent_Risk</th>\n",
              "      <th>CONTROL_RISK</th>\n",
              "      <th>Detection_Risk</th>\n",
              "      <th>Audit_Risk</th>\n",
              "      <th>Risk</th>\n",
              "    </tr>\n",
              "  </thead>\n",
              "  <tbody>\n",
              "    <tr>\n",
              "      <th>0</th>\n",
              "      <td>0.0</td>\n",
              "      <td>0.222222</td>\n",
              "      <td>0.029634</td>\n",
              "      <td>0.5</td>\n",
              "      <td>0.019756</td>\n",
              "      <td>0.001454</td>\n",
              "      <td>0.0</td>\n",
              "      <td>0.000485</td>\n",
              "      <td>0.009929</td>\n",
              "      <td>0.0</td>\n",
              "      <td>0.0</td>\n",
              "      <td>0.0</td>\n",
              "      <td>0.000000</td>\n",
              "      <td>0.0</td>\n",
              "      <td>0.000000</td>\n",
              "      <td>0.0</td>\n",
              "      <td>0.0</td>\n",
              "      <td>0.0</td>\n",
              "      <td>0.0</td>\n",
              "      <td>0.0</td>\n",
              "      <td>0.0</td>\n",
              "      <td>0.0625</td>\n",
              "      <td>0.001155</td>\n",
              "      <td>0.0</td>\n",
              "      <td>0.0</td>\n",
              "      <td>0.000960</td>\n",
              "      <td>0</td>\n",
              "    </tr>\n",
              "    <tr>\n",
              "      <th>1</th>\n",
              "      <td>0.0</td>\n",
              "      <td>0.244444</td>\n",
              "      <td>0.010521</td>\n",
              "      <td>0.0</td>\n",
              "      <td>0.003507</td>\n",
              "      <td>0.007895</td>\n",
              "      <td>0.5</td>\n",
              "      <td>0.005264</td>\n",
              "      <td>0.009093</td>\n",
              "      <td>0.0</td>\n",
              "      <td>0.0</td>\n",
              "      <td>0.0</td>\n",
              "      <td>0.000460</td>\n",
              "      <td>0.0</td>\n",
              "      <td>0.000153</td>\n",
              "      <td>0.0</td>\n",
              "      <td>0.0</td>\n",
              "      <td>0.0</td>\n",
              "      <td>0.0</td>\n",
              "      <td>0.0</td>\n",
              "      <td>0.0</td>\n",
              "      <td>0.1875</td>\n",
              "      <td>0.001065</td>\n",
              "      <td>0.0</td>\n",
              "      <td>0.0</td>\n",
              "      <td>0.000885</td>\n",
              "      <td>0</td>\n",
              "    </tr>\n",
              "    <tr>\n",
              "      <th>2</th>\n",
              "      <td>0.0</td>\n",
              "      <td>0.244444</td>\n",
              "      <td>0.243907</td>\n",
              "      <td>1.0</td>\n",
              "      <td>0.243907</td>\n",
              "      <td>0.003463</td>\n",
              "      <td>0.0</td>\n",
              "      <td>0.001154</td>\n",
              "      <td>0.075303</td>\n",
              "      <td>0.0</td>\n",
              "      <td>0.0</td>\n",
              "      <td>0.0</td>\n",
              "      <td>0.000203</td>\n",
              "      <td>0.0</td>\n",
              "      <td>0.000068</td>\n",
              "      <td>0.0</td>\n",
              "      <td>0.0</td>\n",
              "      <td>0.0</td>\n",
              "      <td>0.0</td>\n",
              "      <td>0.0</td>\n",
              "      <td>0.0</td>\n",
              "      <td>0.1250</td>\n",
              "      <td>0.013652</td>\n",
              "      <td>0.0</td>\n",
              "      <td>0.0</td>\n",
              "      <td>0.011347</td>\n",
              "      <td>1</td>\n",
              "    </tr>\n",
              "    <tr>\n",
              "      <th>3</th>\n",
              "      <td>0.0</td>\n",
              "      <td>0.266667</td>\n",
              "      <td>0.060670</td>\n",
              "      <td>1.0</td>\n",
              "      <td>0.060670</td>\n",
              "      <td>0.000623</td>\n",
              "      <td>0.0</td>\n",
              "      <td>0.000208</td>\n",
              "      <td>0.018551</td>\n",
              "      <td>0.0</td>\n",
              "      <td>0.0</td>\n",
              "      <td>0.0</td>\n",
              "      <td>0.000064</td>\n",
              "      <td>0.0</td>\n",
              "      <td>0.000021</td>\n",
              "      <td>0.0</td>\n",
              "      <td>0.0</td>\n",
              "      <td>0.0</td>\n",
              "      <td>0.0</td>\n",
              "      <td>0.0</td>\n",
              "      <td>0.0</td>\n",
              "      <td>0.1250</td>\n",
              "      <td>0.003389</td>\n",
              "      <td>0.0</td>\n",
              "      <td>0.0</td>\n",
              "      <td>0.002817</td>\n",
              "      <td>0</td>\n",
              "    </tr>\n",
              "    <tr>\n",
              "      <th>4</th>\n",
              "      <td>0.0</td>\n",
              "      <td>0.266667</td>\n",
              "      <td>0.087498</td>\n",
              "      <td>1.0</td>\n",
              "      <td>0.087498</td>\n",
              "      <td>0.004432</td>\n",
              "      <td>0.0</td>\n",
              "      <td>0.001477</td>\n",
              "      <td>0.029421</td>\n",
              "      <td>0.0</td>\n",
              "      <td>0.0</td>\n",
              "      <td>0.0</td>\n",
              "      <td>0.000000</td>\n",
              "      <td>0.0</td>\n",
              "      <td>0.000000</td>\n",
              "      <td>0.0</td>\n",
              "      <td>0.0</td>\n",
              "      <td>0.0</td>\n",
              "      <td>0.0</td>\n",
              "      <td>0.0</td>\n",
              "      <td>0.0</td>\n",
              "      <td>0.1250</td>\n",
              "      <td>0.005024</td>\n",
              "      <td>0.0</td>\n",
              "      <td>0.0</td>\n",
              "      <td>0.004176</td>\n",
              "      <td>0</td>\n",
              "    </tr>\n",
              "  </tbody>\n",
              "</table>\n",
              "</div>"
            ],
            "text/plain": [
              "   Sector_score  LOCATION_ID    PARA_A  ...  Detection_Risk  Audit_Risk  Risk\n",
              "0           0.0     0.222222  0.029634  ...             0.0    0.000960     0\n",
              "1           0.0     0.244444  0.010521  ...             0.0    0.000885     0\n",
              "2           0.0     0.244444  0.243907  ...             0.0    0.011347     1\n",
              "3           0.0     0.266667  0.060670  ...             0.0    0.002817     0\n",
              "4           0.0     0.266667  0.087498  ...             0.0    0.004176     0\n",
              "\n",
              "[5 rows x 27 columns]"
            ]
          },
          "metadata": {
            "tags": []
          },
          "execution_count": 34
        }
      ]
    },
    {
      "cell_type": "code",
      "metadata": {
        "id": "nelz6YmCmyt7",
        "outputId": "497b9450-07e0-4303-c3d2-0710583dae42",
        "colab": {
          "base_uri": "https://localhost:8080/",
          "height": 224
        }
      },
      "source": [
        "# normalizing the data with MinMaxScalar\n",
        "col_name = audit_testdata.columns\n",
        "minmax_audittestdata = minmax_scaler.fit_transform(audit_testdata)\n",
        "minmax_audittestdata = pd.DataFrame(minmax_audittestdata, columns = col_name)\n",
        "minmax_audittestdata.head()"
      ],
      "execution_count": null,
      "outputs": [
        {
          "output_type": "execute_result",
          "data": {
            "text/html": [
              "<div>\n",
              "<style scoped>\n",
              "    .dataframe tbody tr th:only-of-type {\n",
              "        vertical-align: middle;\n",
              "    }\n",
              "\n",
              "    .dataframe tbody tr th {\n",
              "        vertical-align: top;\n",
              "    }\n",
              "\n",
              "    .dataframe thead th {\n",
              "        text-align: right;\n",
              "    }\n",
              "</style>\n",
              "<table border=\"1\" class=\"dataframe\">\n",
              "  <thead>\n",
              "    <tr style=\"text-align: right;\">\n",
              "      <th></th>\n",
              "      <th>Sector_score</th>\n",
              "      <th>LOCATION_ID</th>\n",
              "      <th>PARA_A</th>\n",
              "      <th>Score_A</th>\n",
              "      <th>Risk_A</th>\n",
              "      <th>PARA_B</th>\n",
              "      <th>Score_B</th>\n",
              "      <th>Risk_B</th>\n",
              "      <th>TOTAL</th>\n",
              "      <th>numbers</th>\n",
              "      <th>Score_B.1</th>\n",
              "      <th>Risk_C</th>\n",
              "      <th>Money_Value</th>\n",
              "      <th>Score_MV</th>\n",
              "      <th>Risk_D</th>\n",
              "      <th>District_Loss</th>\n",
              "      <th>PROB</th>\n",
              "      <th>RiSk_E</th>\n",
              "      <th>History</th>\n",
              "      <th>Prob</th>\n",
              "      <th>Risk_F</th>\n",
              "      <th>Score</th>\n",
              "      <th>Inherent_Risk</th>\n",
              "      <th>CONTROL_RISK</th>\n",
              "      <th>Detection_Risk</th>\n",
              "      <th>Audit_Risk</th>\n",
              "    </tr>\n",
              "  </thead>\n",
              "  <tbody>\n",
              "    <tr>\n",
              "      <th>0</th>\n",
              "      <td>0.035172</td>\n",
              "      <td>0.456522</td>\n",
              "      <td>0.000000</td>\n",
              "      <td>0.0</td>\n",
              "      <td>0.000000</td>\n",
              "      <td>0.014273</td>\n",
              "      <td>1.0</td>\n",
              "      <td>0.014273</td>\n",
              "      <td>0.014225</td>\n",
              "      <td>0.0</td>\n",
              "      <td>0.0</td>\n",
              "      <td>0.0</td>\n",
              "      <td>0.002622</td>\n",
              "      <td>0.0</td>\n",
              "      <td>0.000874</td>\n",
              "      <td>0.0</td>\n",
              "      <td>0.0</td>\n",
              "      <td>0.0</td>\n",
              "      <td>0.00</td>\n",
              "      <td>0.0</td>\n",
              "      <td>0.000000</td>\n",
              "      <td>0.3750</td>\n",
              "      <td>0.014112</td>\n",
              "      <td>0.000</td>\n",
              "      <td>0.0</td>\n",
              "      <td>0.002349</td>\n",
              "    </tr>\n",
              "    <tr>\n",
              "      <th>1</th>\n",
              "      <td>0.926207</td>\n",
              "      <td>0.608696</td>\n",
              "      <td>0.014824</td>\n",
              "      <td>0.5</td>\n",
              "      <td>0.009882</td>\n",
              "      <td>0.001249</td>\n",
              "      <td>0.5</td>\n",
              "      <td>0.000833</td>\n",
              "      <td>0.002238</td>\n",
              "      <td>0.0</td>\n",
              "      <td>0.0</td>\n",
              "      <td>0.0</td>\n",
              "      <td>0.007442</td>\n",
              "      <td>0.5</td>\n",
              "      <td>0.004962</td>\n",
              "      <td>0.0</td>\n",
              "      <td>0.0</td>\n",
              "      <td>0.0</td>\n",
              "      <td>0.00</td>\n",
              "      <td>0.0</td>\n",
              "      <td>0.000000</td>\n",
              "      <td>0.3125</td>\n",
              "      <td>0.004671</td>\n",
              "      <td>0.000</td>\n",
              "      <td>0.0</td>\n",
              "      <td>0.000777</td>\n",
              "    </tr>\n",
              "    <tr>\n",
              "      <th>2</th>\n",
              "      <td>0.015000</td>\n",
              "      <td>0.326087</td>\n",
              "      <td>0.000000</td>\n",
              "      <td>0.0</td>\n",
              "      <td>0.000000</td>\n",
              "      <td>0.000000</td>\n",
              "      <td>0.0</td>\n",
              "      <td>0.000000</td>\n",
              "      <td>0.000000</td>\n",
              "      <td>0.0</td>\n",
              "      <td>0.0</td>\n",
              "      <td>0.0</td>\n",
              "      <td>0.000000</td>\n",
              "      <td>0.0</td>\n",
              "      <td>0.000000</td>\n",
              "      <td>0.5</td>\n",
              "      <td>0.0</td>\n",
              "      <td>0.5</td>\n",
              "      <td>0.00</td>\n",
              "      <td>0.0</td>\n",
              "      <td>0.000000</td>\n",
              "      <td>0.0625</td>\n",
              "      <td>0.000500</td>\n",
              "      <td>0.125</td>\n",
              "      <td>0.0</td>\n",
              "      <td>0.000458</td>\n",
              "    </tr>\n",
              "    <tr>\n",
              "      <th>3</th>\n",
              "      <td>1.000000</td>\n",
              "      <td>0.065217</td>\n",
              "      <td>0.000000</td>\n",
              "      <td>0.0</td>\n",
              "      <td>0.000000</td>\n",
              "      <td>0.000000</td>\n",
              "      <td>0.0</td>\n",
              "      <td>0.000000</td>\n",
              "      <td>0.000000</td>\n",
              "      <td>0.0</td>\n",
              "      <td>0.0</td>\n",
              "      <td>0.0</td>\n",
              "      <td>0.000000</td>\n",
              "      <td>0.0</td>\n",
              "      <td>0.000000</td>\n",
              "      <td>0.0</td>\n",
              "      <td>0.0</td>\n",
              "      <td>0.0</td>\n",
              "      <td>0.00</td>\n",
              "      <td>0.0</td>\n",
              "      <td>0.000000</td>\n",
              "      <td>0.0000</td>\n",
              "      <td>0.000000</td>\n",
              "      <td>0.000</td>\n",
              "      <td>0.0</td>\n",
              "      <td>0.000000</td>\n",
              "    </tr>\n",
              "    <tr>\n",
              "      <th>4</th>\n",
              "      <td>0.026897</td>\n",
              "      <td>0.326087</td>\n",
              "      <td>0.138000</td>\n",
              "      <td>1.0</td>\n",
              "      <td>0.138000</td>\n",
              "      <td>0.067901</td>\n",
              "      <td>1.0</td>\n",
              "      <td>0.067901</td>\n",
              "      <td>0.076916</td>\n",
              "      <td>0.0</td>\n",
              "      <td>0.0</td>\n",
              "      <td>0.0</td>\n",
              "      <td>0.007969</td>\n",
              "      <td>0.5</td>\n",
              "      <td>0.005313</td>\n",
              "      <td>0.0</td>\n",
              "      <td>0.0</td>\n",
              "      <td>0.0</td>\n",
              "      <td>0.25</td>\n",
              "      <td>0.5</td>\n",
              "      <td>0.166667</td>\n",
              "      <td>0.6250</td>\n",
              "      <td>0.077193</td>\n",
              "      <td>0.125</td>\n",
              "      <td>0.0</td>\n",
              "      <td>0.025985</td>\n",
              "    </tr>\n",
              "  </tbody>\n",
              "</table>\n",
              "</div>"
            ],
            "text/plain": [
              "   Sector_score  LOCATION_ID  ...  Detection_Risk  Audit_Risk\n",
              "0      0.035172     0.456522  ...             0.0    0.002349\n",
              "1      0.926207     0.608696  ...             0.0    0.000777\n",
              "2      0.015000     0.326087  ...             0.0    0.000458\n",
              "3      1.000000     0.065217  ...             0.0    0.000000\n",
              "4      0.026897     0.326087  ...             0.0    0.025985\n",
              "\n",
              "[5 rows x 26 columns]"
            ]
          },
          "metadata": {
            "tags": []
          },
          "execution_count": 35
        }
      ]
    },
    {
      "cell_type": "code",
      "metadata": {
        "id": "vWK1KRUI0haF",
        "outputId": "ca5d8dda-e867-4db2-8f7a-3731709bbacb",
        "colab": {
          "base_uri": "https://localhost:8080/",
          "height": 578
        }
      },
      "source": [
        "#getting brief overview of the dataset to check dtypes of all columns\n",
        "minmax_audittestdata.info()"
      ],
      "execution_count": null,
      "outputs": [
        {
          "output_type": "stream",
          "text": [
            "<class 'pandas.core.frame.DataFrame'>\n",
            "RangeIndex: 233 entries, 0 to 232\n",
            "Data columns (total 26 columns):\n",
            " #   Column          Non-Null Count  Dtype  \n",
            "---  ------          --------------  -----  \n",
            " 0   Sector_score    233 non-null    float64\n",
            " 1   LOCATION_ID     233 non-null    float64\n",
            " 2   PARA_A          233 non-null    float64\n",
            " 3   Score_A         233 non-null    float64\n",
            " 4   Risk_A          233 non-null    float64\n",
            " 5   PARA_B          233 non-null    float64\n",
            " 6   Score_B         233 non-null    float64\n",
            " 7   Risk_B          233 non-null    float64\n",
            " 8   TOTAL           233 non-null    float64\n",
            " 9   numbers         233 non-null    float64\n",
            " 10  Score_B.1       233 non-null    float64\n",
            " 11  Risk_C          233 non-null    float64\n",
            " 12  Money_Value     232 non-null    float64\n",
            " 13  Score_MV        233 non-null    float64\n",
            " 14  Risk_D          233 non-null    float64\n",
            " 15  District_Loss   233 non-null    float64\n",
            " 16  PROB            233 non-null    float64\n",
            " 17  RiSk_E          233 non-null    float64\n",
            " 18  History         233 non-null    float64\n",
            " 19  Prob            233 non-null    float64\n",
            " 20  Risk_F          233 non-null    float64\n",
            " 21  Score           233 non-null    float64\n",
            " 22  Inherent_Risk   233 non-null    float64\n",
            " 23  CONTROL_RISK    233 non-null    float64\n",
            " 24  Detection_Risk  233 non-null    float64\n",
            " 25  Audit_Risk      233 non-null    float64\n",
            "dtypes: float64(26)\n",
            "memory usage: 47.5 KB\n"
          ],
          "name": "stdout"
        }
      ]
    },
    {
      "cell_type": "code",
      "metadata": {
        "id": "2yOEotF43caE",
        "outputId": "80a132fc-ff76-4936-8f68-fd95cb1d3de3",
        "colab": {
          "base_uri": "https://localhost:8080/",
          "height": 476
        }
      },
      "source": [
        "#doing MinMaxScalar one value in Money_Value column as blown off.\n",
        "np.isnan(minmax_audittestdata).sum()"
      ],
      "execution_count": null,
      "outputs": [
        {
          "output_type": "execute_result",
          "data": {
            "text/plain": [
              "Sector_score      0\n",
              "LOCATION_ID       0\n",
              "PARA_A            0\n",
              "Score_A           0\n",
              "Risk_A            0\n",
              "PARA_B            0\n",
              "Score_B           0\n",
              "Risk_B            0\n",
              "TOTAL             0\n",
              "numbers           0\n",
              "Score_B.1         0\n",
              "Risk_C            0\n",
              "Money_Value       1\n",
              "Score_MV          0\n",
              "Risk_D            0\n",
              "District_Loss     0\n",
              "PROB              0\n",
              "RiSk_E            0\n",
              "History           0\n",
              "Prob              0\n",
              "Risk_F            0\n",
              "Score             0\n",
              "Inherent_Risk     0\n",
              "CONTROL_RISK      0\n",
              "Detection_Risk    0\n",
              "Audit_Risk        0\n",
              "dtype: int64"
            ]
          },
          "metadata": {
            "tags": []
          },
          "execution_count": 37
        }
      ]
    },
    {
      "cell_type": "code",
      "metadata": {
        "id": "BIO__JKv3lMv",
        "outputId": "1fe4a563-7130-48b8-a5da-f38561b60628",
        "colab": {
          "base_uri": "https://localhost:8080/",
          "height": 476
        }
      },
      "source": [
        "#checking if there is any infinite value\n",
        "minmax_audittestdata[minmax_audittestdata==np.inf].sum()"
      ],
      "execution_count": null,
      "outputs": [
        {
          "output_type": "execute_result",
          "data": {
            "text/plain": [
              "Sector_score      0.0\n",
              "LOCATION_ID       0.0\n",
              "PARA_A            0.0\n",
              "Score_A           0.0\n",
              "Risk_A            0.0\n",
              "PARA_B            0.0\n",
              "Score_B           0.0\n",
              "Risk_B            0.0\n",
              "TOTAL             0.0\n",
              "numbers           0.0\n",
              "Score_B.1         0.0\n",
              "Risk_C            0.0\n",
              "Money_Value       0.0\n",
              "Score_MV          0.0\n",
              "Risk_D            0.0\n",
              "District_Loss     0.0\n",
              "PROB              0.0\n",
              "RiSk_E            0.0\n",
              "History           0.0\n",
              "Prob              0.0\n",
              "Risk_F            0.0\n",
              "Score             0.0\n",
              "Inherent_Risk     0.0\n",
              "CONTROL_RISK      0.0\n",
              "Detection_Risk    0.0\n",
              "Audit_Risk        0.0\n",
              "dtype: float64"
            ]
          },
          "metadata": {
            "tags": []
          },
          "execution_count": 38
        }
      ]
    },
    {
      "cell_type": "code",
      "metadata": {
        "id": "xM_ws8HyGTR5"
      },
      "source": [
        "#replacing the Nan with mean value\n",
        "minmax_audittestdata['Money_Value'].fillna(minmax_audittestdata['Money_Value'].mean(), inplace=True)"
      ],
      "execution_count": null,
      "outputs": []
    },
    {
      "cell_type": "code",
      "metadata": {
        "id": "3WdkXAVLHfd6",
        "outputId": "9a20edd1-cc89-4496-e747-ff5245b3a458",
        "colab": {
          "base_uri": "https://localhost:8080/",
          "height": 476
        }
      },
      "source": [
        "#re-checking to ensure there is no Nan in any columns\n",
        "np.isnan(minmax_audittestdata).sum()"
      ],
      "execution_count": null,
      "outputs": [
        {
          "output_type": "execute_result",
          "data": {
            "text/plain": [
              "Sector_score      0\n",
              "LOCATION_ID       0\n",
              "PARA_A            0\n",
              "Score_A           0\n",
              "Risk_A            0\n",
              "PARA_B            0\n",
              "Score_B           0\n",
              "Risk_B            0\n",
              "TOTAL             0\n",
              "numbers           0\n",
              "Score_B.1         0\n",
              "Risk_C            0\n",
              "Money_Value       0\n",
              "Score_MV          0\n",
              "Risk_D            0\n",
              "District_Loss     0\n",
              "PROB              0\n",
              "RiSk_E            0\n",
              "History           0\n",
              "Prob              0\n",
              "Risk_F            0\n",
              "Score             0\n",
              "Inherent_Risk     0\n",
              "CONTROL_RISK      0\n",
              "Detection_Risk    0\n",
              "Audit_Risk        0\n",
              "dtype: int64"
            ]
          },
          "metadata": {
            "tags": []
          },
          "execution_count": 40
        }
      ]
    },
    {
      "cell_type": "markdown",
      "metadata": {
        "id": "U9NJR-q0Ux7_"
      },
      "source": [
        "# Understanding the relationships between the variables of the Train Dataset"
      ]
    },
    {
      "cell_type": "code",
      "metadata": {
        "id": "hpV7a1I-5b_F",
        "outputId": "bbfa8410-9649-4380-9e48-b5dd0621a153",
        "colab": {
          "base_uri": "https://localhost:8080/",
          "height": 162
        }
      },
      "source": [
        "#finding the mean relationship of independent variables with the dependent variable\n",
        "minmax_auditdata.groupby('Risk').mean()"
      ],
      "execution_count": null,
      "outputs": [
        {
          "output_type": "execute_result",
          "data": {
            "text/html": [
              "<div>\n",
              "<style scoped>\n",
              "    .dataframe tbody tr th:only-of-type {\n",
              "        vertical-align: middle;\n",
              "    }\n",
              "\n",
              "    .dataframe tbody tr th {\n",
              "        vertical-align: top;\n",
              "    }\n",
              "\n",
              "    .dataframe thead th {\n",
              "        text-align: right;\n",
              "    }\n",
              "</style>\n",
              "<table border=\"1\" class=\"dataframe\">\n",
              "  <thead>\n",
              "    <tr style=\"text-align: right;\">\n",
              "      <th></th>\n",
              "      <th>Sector_score</th>\n",
              "      <th>LOCATION_ID</th>\n",
              "      <th>PARA_A</th>\n",
              "      <th>Score_A</th>\n",
              "      <th>Risk_A</th>\n",
              "      <th>PARA_B</th>\n",
              "      <th>Score_B</th>\n",
              "      <th>Risk_B</th>\n",
              "      <th>TOTAL</th>\n",
              "      <th>numbers</th>\n",
              "      <th>Score_B.1</th>\n",
              "      <th>Risk_C</th>\n",
              "      <th>Money_Value</th>\n",
              "      <th>Score_MV</th>\n",
              "      <th>Risk_D</th>\n",
              "      <th>District_Loss</th>\n",
              "      <th>PROB</th>\n",
              "      <th>RiSk_E</th>\n",
              "      <th>History</th>\n",
              "      <th>Prob</th>\n",
              "      <th>Risk_F</th>\n",
              "      <th>Score</th>\n",
              "      <th>Inherent_Risk</th>\n",
              "      <th>CONTROL_RISK</th>\n",
              "      <th>Detection_Risk</th>\n",
              "      <th>Audit_Risk</th>\n",
              "    </tr>\n",
              "    <tr>\n",
              "      <th>Risk</th>\n",
              "      <th></th>\n",
              "      <th></th>\n",
              "      <th></th>\n",
              "      <th></th>\n",
              "      <th></th>\n",
              "      <th></th>\n",
              "      <th></th>\n",
              "      <th></th>\n",
              "      <th></th>\n",
              "      <th></th>\n",
              "      <th></th>\n",
              "      <th></th>\n",
              "      <th></th>\n",
              "      <th></th>\n",
              "      <th></th>\n",
              "      <th></th>\n",
              "      <th></th>\n",
              "      <th></th>\n",
              "      <th></th>\n",
              "      <th></th>\n",
              "      <th></th>\n",
              "      <th></th>\n",
              "      <th></th>\n",
              "      <th></th>\n",
              "      <th></th>\n",
              "      <th></th>\n",
              "    </tr>\n",
              "  </thead>\n",
              "  <tbody>\n",
              "    <tr>\n",
              "      <th>0</th>\n",
              "      <td>0.448737</td>\n",
              "      <td>0.304410</td>\n",
              "      <td>0.012689</td>\n",
              "      <td>0.153846</td>\n",
              "      <td>0.008154</td>\n",
              "      <td>0.003401</td>\n",
              "      <td>0.073846</td>\n",
              "      <td>0.002070</td>\n",
              "      <td>0.006348</td>\n",
              "      <td>0.000385</td>\n",
              "      <td>0.001538</td>\n",
              "      <td>0.000839</td>\n",
              "      <td>0.000405</td>\n",
              "      <td>0.006154</td>\n",
              "      <td>0.000168</td>\n",
              "      <td>0.029231</td>\n",
              "      <td>0.001538</td>\n",
              "      <td>0.012308</td>\n",
              "      <td>0.000342</td>\n",
              "      <td>0.001538</td>\n",
              "      <td>0.000228</td>\n",
              "      <td>0.052115</td>\n",
              "      <td>0.000937</td>\n",
              "      <td>0.004786</td>\n",
              "      <td>0.0</td>\n",
              "      <td>0.000955</td>\n",
              "    </tr>\n",
              "    <tr>\n",
              "      <th>1</th>\n",
              "      <td>0.107882</td>\n",
              "      <td>0.329665</td>\n",
              "      <td>0.076747</td>\n",
              "      <td>0.702830</td>\n",
              "      <td>0.074490</td>\n",
              "      <td>0.162942</td>\n",
              "      <td>0.629717</td>\n",
              "      <td>0.160556</td>\n",
              "      <td>0.145723</td>\n",
              "      <td>0.044222</td>\n",
              "      <td>0.150943</td>\n",
              "      <td>0.089301</td>\n",
              "      <td>0.033459</td>\n",
              "      <td>0.556604</td>\n",
              "      <td>0.032787</td>\n",
              "      <td>0.271226</td>\n",
              "      <td>0.033019</td>\n",
              "      <td>0.132075</td>\n",
              "      <td>0.024109</td>\n",
              "      <td>0.080189</td>\n",
              "      <td>0.020615</td>\n",
              "      <td>0.479363</td>\n",
              "      <td>0.057347</td>\n",
              "      <td>0.069532</td>\n",
              "      <td>0.0</td>\n",
              "      <td>0.080273</td>\n",
              "    </tr>\n",
              "  </tbody>\n",
              "</table>\n",
              "</div>"
            ],
            "text/plain": [
              "      Sector_score  LOCATION_ID  ...  Detection_Risk  Audit_Risk\n",
              "Risk                             ...                            \n",
              "0         0.448737     0.304410  ...             0.0    0.000955\n",
              "1         0.107882     0.329665  ...             0.0    0.080273\n",
              "\n",
              "[2 rows x 26 columns]"
            ]
          },
          "metadata": {
            "tags": []
          },
          "execution_count": 41
        }
      ]
    },
    {
      "cell_type": "code",
      "metadata": {
        "id": "2HvC93KT5-W0",
        "outputId": "0e6b0979-280e-4982-8468-376663308ebf",
        "colab": {
          "base_uri": "https://localhost:8080/",
          "height": 906
        }
      },
      "source": [
        "#finding the correlation between all the variables in a dataset\n",
        "minmax_auditdata.corr()"
      ],
      "execution_count": null,
      "outputs": [
        {
          "output_type": "execute_result",
          "data": {
            "text/html": [
              "<div>\n",
              "<style scoped>\n",
              "    .dataframe tbody tr th:only-of-type {\n",
              "        vertical-align: middle;\n",
              "    }\n",
              "\n",
              "    .dataframe tbody tr th {\n",
              "        vertical-align: top;\n",
              "    }\n",
              "\n",
              "    .dataframe thead th {\n",
              "        text-align: right;\n",
              "    }\n",
              "</style>\n",
              "<table border=\"1\" class=\"dataframe\">\n",
              "  <thead>\n",
              "    <tr style=\"text-align: right;\">\n",
              "      <th></th>\n",
              "      <th>Sector_score</th>\n",
              "      <th>LOCATION_ID</th>\n",
              "      <th>PARA_A</th>\n",
              "      <th>Score_A</th>\n",
              "      <th>Risk_A</th>\n",
              "      <th>PARA_B</th>\n",
              "      <th>Score_B</th>\n",
              "      <th>Risk_B</th>\n",
              "      <th>TOTAL</th>\n",
              "      <th>numbers</th>\n",
              "      <th>Score_B.1</th>\n",
              "      <th>Risk_C</th>\n",
              "      <th>Money_Value</th>\n",
              "      <th>Score_MV</th>\n",
              "      <th>Risk_D</th>\n",
              "      <th>District_Loss</th>\n",
              "      <th>PROB</th>\n",
              "      <th>RiSk_E</th>\n",
              "      <th>History</th>\n",
              "      <th>Prob</th>\n",
              "      <th>Risk_F</th>\n",
              "      <th>Score</th>\n",
              "      <th>Inherent_Risk</th>\n",
              "      <th>CONTROL_RISK</th>\n",
              "      <th>Detection_Risk</th>\n",
              "      <th>Audit_Risk</th>\n",
              "      <th>Risk</th>\n",
              "    </tr>\n",
              "  </thead>\n",
              "  <tbody>\n",
              "    <tr>\n",
              "      <th>Sector_score</th>\n",
              "      <td>1.000000</td>\n",
              "      <td>-0.069222</td>\n",
              "      <td>-0.268577</td>\n",
              "      <td>-0.419034</td>\n",
              "      <td>-0.269543</td>\n",
              "      <td>-0.254085</td>\n",
              "      <td>-0.228836</td>\n",
              "      <td>-0.248706</td>\n",
              "      <td>-0.276158</td>\n",
              "      <td>-0.154831</td>\n",
              "      <td>-0.179437</td>\n",
              "      <td>-0.174158</td>\n",
              "      <td>-0.125832</td>\n",
              "      <td>-0.327193</td>\n",
              "      <td>-0.123464</td>\n",
              "      <td>-0.099124</td>\n",
              "      <td>-0.089031</td>\n",
              "      <td>-0.120199</td>\n",
              "      <td>-0.106319</td>\n",
              "      <td>-0.141088</td>\n",
              "      <td>-0.095164</td>\n",
              "      <td>-0.344691</td>\n",
              "      <td>-0.199010</td>\n",
              "      <td>-0.147824</td>\n",
              "      <td>NaN</td>\n",
              "      <td>-0.205195</td>\n",
              "      <td>-0.398171</td>\n",
              "    </tr>\n",
              "    <tr>\n",
              "      <th>LOCATION_ID</th>\n",
              "      <td>-0.069222</td>\n",
              "      <td>1.000000</td>\n",
              "      <td>0.061964</td>\n",
              "      <td>0.115318</td>\n",
              "      <td>0.065312</td>\n",
              "      <td>0.152601</td>\n",
              "      <td>0.132708</td>\n",
              "      <td>0.151867</td>\n",
              "      <td>0.149487</td>\n",
              "      <td>0.045889</td>\n",
              "      <td>0.020095</td>\n",
              "      <td>0.024108</td>\n",
              "      <td>-0.009198</td>\n",
              "      <td>0.119776</td>\n",
              "      <td>-0.009785</td>\n",
              "      <td>-0.118147</td>\n",
              "      <td>-0.014568</td>\n",
              "      <td>-0.107721</td>\n",
              "      <td>-0.039896</td>\n",
              "      <td>0.017624</td>\n",
              "      <td>-0.052320</td>\n",
              "      <td>0.113127</td>\n",
              "      <td>0.042599</td>\n",
              "      <td>-0.109481</td>\n",
              "      <td>NaN</td>\n",
              "      <td>-0.025089</td>\n",
              "      <td>0.053749</td>\n",
              "    </tr>\n",
              "    <tr>\n",
              "      <th>PARA_A</th>\n",
              "      <td>-0.268577</td>\n",
              "      <td>0.061964</td>\n",
              "      <td>1.000000</td>\n",
              "      <td>0.576409</td>\n",
              "      <td>0.998703</td>\n",
              "      <td>0.473742</td>\n",
              "      <td>0.431316</td>\n",
              "      <td>0.473040</td>\n",
              "      <td>0.599996</td>\n",
              "      <td>0.151780</td>\n",
              "      <td>0.158740</td>\n",
              "      <td>0.156928</td>\n",
              "      <td>0.433536</td>\n",
              "      <td>0.322885</td>\n",
              "      <td>0.431783</td>\n",
              "      <td>0.077677</td>\n",
              "      <td>0.005536</td>\n",
              "      <td>0.064344</td>\n",
              "      <td>0.068354</td>\n",
              "      <td>0.146990</td>\n",
              "      <td>0.050020</td>\n",
              "      <td>0.487901</td>\n",
              "      <td>0.564729</td>\n",
              "      <td>0.078488</td>\n",
              "      <td>NaN</td>\n",
              "      <td>0.463366</td>\n",
              "      <td>0.423703</td>\n",
              "    </tr>\n",
              "    <tr>\n",
              "      <th>Score_A</th>\n",
              "      <td>-0.419034</td>\n",
              "      <td>0.115318</td>\n",
              "      <td>0.576409</td>\n",
              "      <td>1.000000</td>\n",
              "      <td>0.586472</td>\n",
              "      <td>0.471938</td>\n",
              "      <td>0.579409</td>\n",
              "      <td>0.468904</td>\n",
              "      <td>0.526085</td>\n",
              "      <td>0.234757</td>\n",
              "      <td>0.273437</td>\n",
              "      <td>0.262672</td>\n",
              "      <td>0.208132</td>\n",
              "      <td>0.487882</td>\n",
              "      <td>0.204636</td>\n",
              "      <td>0.069940</td>\n",
              "      <td>0.059730</td>\n",
              "      <td>0.075179</td>\n",
              "      <td>0.124740</td>\n",
              "      <td>0.233641</td>\n",
              "      <td>0.100969</td>\n",
              "      <td>0.722372</td>\n",
              "      <td>0.354293</td>\n",
              "      <td>0.121373</td>\n",
              "      <td>NaN</td>\n",
              "      <td>0.368972</td>\n",
              "      <td>0.619510</td>\n",
              "    </tr>\n",
              "    <tr>\n",
              "      <th>Risk_A</th>\n",
              "      <td>-0.269543</td>\n",
              "      <td>0.065312</td>\n",
              "      <td>0.998703</td>\n",
              "      <td>0.586472</td>\n",
              "      <td>1.000000</td>\n",
              "      <td>0.479275</td>\n",
              "      <td>0.436641</td>\n",
              "      <td>0.478442</td>\n",
              "      <td>0.604788</td>\n",
              "      <td>0.153973</td>\n",
              "      <td>0.162319</td>\n",
              "      <td>0.160049</td>\n",
              "      <td>0.432472</td>\n",
              "      <td>0.328249</td>\n",
              "      <td>0.430656</td>\n",
              "      <td>0.078321</td>\n",
              "      <td>0.006063</td>\n",
              "      <td>0.065125</td>\n",
              "      <td>0.071982</td>\n",
              "      <td>0.151269</td>\n",
              "      <td>0.053353</td>\n",
              "      <td>0.495228</td>\n",
              "      <td>0.565643</td>\n",
              "      <td>0.081343</td>\n",
              "      <td>NaN</td>\n",
              "      <td>0.465306</td>\n",
              "      <td>0.432177</td>\n",
              "    </tr>\n",
              "    <tr>\n",
              "      <th>PARA_B</th>\n",
              "      <td>-0.254085</td>\n",
              "      <td>0.152601</td>\n",
              "      <td>0.473742</td>\n",
              "      <td>0.471938</td>\n",
              "      <td>0.479275</td>\n",
              "      <td>1.000000</td>\n",
              "      <td>0.661021</td>\n",
              "      <td>0.999652</td>\n",
              "      <td>0.988751</td>\n",
              "      <td>0.373481</td>\n",
              "      <td>0.387043</td>\n",
              "      <td>0.388000</td>\n",
              "      <td>0.305776</td>\n",
              "      <td>0.594822</td>\n",
              "      <td>0.304002</td>\n",
              "      <td>-0.042394</td>\n",
              "      <td>0.130944</td>\n",
              "      <td>-0.007612</td>\n",
              "      <td>0.127242</td>\n",
              "      <td>0.249398</td>\n",
              "      <td>0.096578</td>\n",
              "      <td>0.693946</td>\n",
              "      <td>0.596263</td>\n",
              "      <td>0.062218</td>\n",
              "      <td>NaN</td>\n",
              "      <td>0.570550</td>\n",
              "      <td>0.499845</td>\n",
              "    </tr>\n",
              "    <tr>\n",
              "      <th>Score_B</th>\n",
              "      <td>-0.228836</td>\n",
              "      <td>0.132708</td>\n",
              "      <td>0.431316</td>\n",
              "      <td>0.579409</td>\n",
              "      <td>0.436641</td>\n",
              "      <td>0.661021</td>\n",
              "      <td>1.000000</td>\n",
              "      <td>0.661200</td>\n",
              "      <td>0.673780</td>\n",
              "      <td>0.297214</td>\n",
              "      <td>0.345197</td>\n",
              "      <td>0.333179</td>\n",
              "      <td>0.232385</td>\n",
              "      <td>0.572421</td>\n",
              "      <td>0.228249</td>\n",
              "      <td>-0.027245</td>\n",
              "      <td>0.088843</td>\n",
              "      <td>-0.008194</td>\n",
              "      <td>0.134947</td>\n",
              "      <td>0.253347</td>\n",
              "      <td>0.108170</td>\n",
              "      <td>0.908748</td>\n",
              "      <td>0.424996</td>\n",
              "      <td>0.069910</td>\n",
              "      <td>NaN</td>\n",
              "      <td>0.403330</td>\n",
              "      <td>0.632639</td>\n",
              "    </tr>\n",
              "    <tr>\n",
              "      <th>Risk_B</th>\n",
              "      <td>-0.248706</td>\n",
              "      <td>0.151867</td>\n",
              "      <td>0.473040</td>\n",
              "      <td>0.468904</td>\n",
              "      <td>0.478442</td>\n",
              "      <td>0.999652</td>\n",
              "      <td>0.661200</td>\n",
              "      <td>1.000000</td>\n",
              "      <td>0.988312</td>\n",
              "      <td>0.371763</td>\n",
              "      <td>0.385166</td>\n",
              "      <td>0.386063</td>\n",
              "      <td>0.305283</td>\n",
              "      <td>0.590694</td>\n",
              "      <td>0.303549</td>\n",
              "      <td>-0.041382</td>\n",
              "      <td>0.132302</td>\n",
              "      <td>-0.006170</td>\n",
              "      <td>0.124617</td>\n",
              "      <td>0.248567</td>\n",
              "      <td>0.093903</td>\n",
              "      <td>0.692465</td>\n",
              "      <td>0.595908</td>\n",
              "      <td>0.061329</td>\n",
              "      <td>NaN</td>\n",
              "      <td>0.570681</td>\n",
              "      <td>0.494956</td>\n",
              "    </tr>\n",
              "    <tr>\n",
              "      <th>TOTAL</th>\n",
              "      <td>-0.276158</td>\n",
              "      <td>0.149487</td>\n",
              "      <td>0.599996</td>\n",
              "      <td>0.526085</td>\n",
              "      <td>0.604788</td>\n",
              "      <td>0.988751</td>\n",
              "      <td>0.673780</td>\n",
              "      <td>0.988312</td>\n",
              "      <td>1.000000</td>\n",
              "      <td>0.364509</td>\n",
              "      <td>0.377818</td>\n",
              "      <td>0.378458</td>\n",
              "      <td>0.350987</td>\n",
              "      <td>0.594451</td>\n",
              "      <td>0.349077</td>\n",
              "      <td>-0.026160</td>\n",
              "      <td>0.119903</td>\n",
              "      <td>0.003351</td>\n",
              "      <td>0.126662</td>\n",
              "      <td>0.250521</td>\n",
              "      <td>0.095866</td>\n",
              "      <td>0.712713</td>\n",
              "      <td>0.637157</td>\n",
              "      <td>0.069149</td>\n",
              "      <td>NaN</td>\n",
              "      <td>0.595978</td>\n",
              "      <td>0.525547</td>\n",
              "    </tr>\n",
              "    <tr>\n",
              "      <th>numbers</th>\n",
              "      <td>-0.154831</td>\n",
              "      <td>0.045889</td>\n",
              "      <td>0.151780</td>\n",
              "      <td>0.234757</td>\n",
              "      <td>0.153973</td>\n",
              "      <td>0.373481</td>\n",
              "      <td>0.297214</td>\n",
              "      <td>0.371763</td>\n",
              "      <td>0.364509</td>\n",
              "      <td>1.000000</td>\n",
              "      <td>0.888751</td>\n",
              "      <td>0.947068</td>\n",
              "      <td>0.132173</td>\n",
              "      <td>0.449749</td>\n",
              "      <td>0.132573</td>\n",
              "      <td>0.071050</td>\n",
              "      <td>0.053993</td>\n",
              "      <td>0.097608</td>\n",
              "      <td>0.143364</td>\n",
              "      <td>0.179402</td>\n",
              "      <td>0.144203</td>\n",
              "      <td>0.503558</td>\n",
              "      <td>0.248010</td>\n",
              "      <td>0.166729</td>\n",
              "      <td>NaN</td>\n",
              "      <td>0.367925</td>\n",
              "      <td>0.303561</td>\n",
              "    </tr>\n",
              "    <tr>\n",
              "      <th>Score_B.1</th>\n",
              "      <td>-0.179437</td>\n",
              "      <td>0.020095</td>\n",
              "      <td>0.158740</td>\n",
              "      <td>0.273437</td>\n",
              "      <td>0.162319</td>\n",
              "      <td>0.387043</td>\n",
              "      <td>0.345197</td>\n",
              "      <td>0.385166</td>\n",
              "      <td>0.377818</td>\n",
              "      <td>0.888751</td>\n",
              "      <td>1.000000</td>\n",
              "      <td>0.987988</td>\n",
              "      <td>0.153369</td>\n",
              "      <td>0.523891</td>\n",
              "      <td>0.153628</td>\n",
              "      <td>0.088999</td>\n",
              "      <td>0.056820</td>\n",
              "      <td>0.112765</td>\n",
              "      <td>0.172865</td>\n",
              "      <td>0.228784</td>\n",
              "      <td>0.171837</td>\n",
              "      <td>0.581231</td>\n",
              "      <td>0.270814</td>\n",
              "      <td>0.196276</td>\n",
              "      <td>NaN</td>\n",
              "      <td>0.420731</td>\n",
              "      <td>0.358509</td>\n",
              "    </tr>\n",
              "    <tr>\n",
              "      <th>Risk_C</th>\n",
              "      <td>-0.174158</td>\n",
              "      <td>0.024108</td>\n",
              "      <td>0.156928</td>\n",
              "      <td>0.262672</td>\n",
              "      <td>0.160049</td>\n",
              "      <td>0.388000</td>\n",
              "      <td>0.333179</td>\n",
              "      <td>0.386063</td>\n",
              "      <td>0.378458</td>\n",
              "      <td>0.947068</td>\n",
              "      <td>0.987988</td>\n",
              "      <td>1.000000</td>\n",
              "      <td>0.148470</td>\n",
              "      <td>0.507139</td>\n",
              "      <td>0.148804</td>\n",
              "      <td>0.085496</td>\n",
              "      <td>0.056505</td>\n",
              "      <td>0.110562</td>\n",
              "      <td>0.166059</td>\n",
              "      <td>0.216342</td>\n",
              "      <td>0.165723</td>\n",
              "      <td>0.565067</td>\n",
              "      <td>0.267091</td>\n",
              "      <td>0.190518</td>\n",
              "      <td>NaN</td>\n",
              "      <td>0.412223</td>\n",
              "      <td>0.345085</td>\n",
              "    </tr>\n",
              "    <tr>\n",
              "      <th>Money_Value</th>\n",
              "      <td>-0.125832</td>\n",
              "      <td>-0.009198</td>\n",
              "      <td>0.433536</td>\n",
              "      <td>0.208132</td>\n",
              "      <td>0.432472</td>\n",
              "      <td>0.305776</td>\n",
              "      <td>0.232385</td>\n",
              "      <td>0.305283</td>\n",
              "      <td>0.350987</td>\n",
              "      <td>0.132173</td>\n",
              "      <td>0.153369</td>\n",
              "      <td>0.148470</td>\n",
              "      <td>1.000000</td>\n",
              "      <td>0.394855</td>\n",
              "      <td>0.999909</td>\n",
              "      <td>0.002611</td>\n",
              "      <td>0.064139</td>\n",
              "      <td>0.019184</td>\n",
              "      <td>0.042059</td>\n",
              "      <td>0.068716</td>\n",
              "      <td>0.034002</td>\n",
              "      <td>0.291847</td>\n",
              "      <td>0.945022</td>\n",
              "      <td>0.036718</td>\n",
              "      <td>NaN</td>\n",
              "      <td>0.714787</td>\n",
              "      <td>0.254539</td>\n",
              "    </tr>\n",
              "    <tr>\n",
              "      <th>Score_MV</th>\n",
              "      <td>-0.327193</td>\n",
              "      <td>0.119776</td>\n",
              "      <td>0.322885</td>\n",
              "      <td>0.487882</td>\n",
              "      <td>0.328249</td>\n",
              "      <td>0.594822</td>\n",
              "      <td>0.572421</td>\n",
              "      <td>0.590694</td>\n",
              "      <td>0.594451</td>\n",
              "      <td>0.449749</td>\n",
              "      <td>0.523891</td>\n",
              "      <td>0.507139</td>\n",
              "      <td>0.394855</td>\n",
              "      <td>1.000000</td>\n",
              "      <td>0.394021</td>\n",
              "      <td>0.031814</td>\n",
              "      <td>0.152539</td>\n",
              "      <td>0.064379</td>\n",
              "      <td>0.167869</td>\n",
              "      <td>0.268353</td>\n",
              "      <td>0.140912</td>\n",
              "      <td>0.756959</td>\n",
              "      <td>0.535739</td>\n",
              "      <td>0.141920</td>\n",
              "      <td>NaN</td>\n",
              "      <td>0.562619</td>\n",
              "      <td>0.685691</td>\n",
              "    </tr>\n",
              "    <tr>\n",
              "      <th>Risk_D</th>\n",
              "      <td>-0.123464</td>\n",
              "      <td>-0.009785</td>\n",
              "      <td>0.431783</td>\n",
              "      <td>0.204636</td>\n",
              "      <td>0.430656</td>\n",
              "      <td>0.304002</td>\n",
              "      <td>0.228249</td>\n",
              "      <td>0.303549</td>\n",
              "      <td>0.349077</td>\n",
              "      <td>0.132573</td>\n",
              "      <td>0.153628</td>\n",
              "      <td>0.148804</td>\n",
              "      <td>0.999909</td>\n",
              "      <td>0.394021</td>\n",
              "      <td>1.000000</td>\n",
              "      <td>0.002858</td>\n",
              "      <td>0.064170</td>\n",
              "      <td>0.019347</td>\n",
              "      <td>0.041497</td>\n",
              "      <td>0.067212</td>\n",
              "      <td>0.033604</td>\n",
              "      <td>0.288472</td>\n",
              "      <td>0.944445</td>\n",
              "      <td>0.036551</td>\n",
              "      <td>NaN</td>\n",
              "      <td>0.714430</td>\n",
              "      <td>0.250972</td>\n",
              "    </tr>\n",
              "    <tr>\n",
              "      <th>District_Loss</th>\n",
              "      <td>-0.099124</td>\n",
              "      <td>-0.118147</td>\n",
              "      <td>0.077677</td>\n",
              "      <td>0.069940</td>\n",
              "      <td>0.078321</td>\n",
              "      <td>-0.042394</td>\n",
              "      <td>-0.027245</td>\n",
              "      <td>-0.041382</td>\n",
              "      <td>-0.026160</td>\n",
              "      <td>0.071050</td>\n",
              "      <td>0.088999</td>\n",
              "      <td>0.085496</td>\n",
              "      <td>0.002611</td>\n",
              "      <td>0.031814</td>\n",
              "      <td>0.002858</td>\n",
              "      <td>1.000000</td>\n",
              "      <td>0.127116</td>\n",
              "      <td>0.905014</td>\n",
              "      <td>-0.009904</td>\n",
              "      <td>-0.028527</td>\n",
              "      <td>-0.003847</td>\n",
              "      <td>0.165404</td>\n",
              "      <td>0.001349</td>\n",
              "      <td>0.610464</td>\n",
              "      <td>NaN</td>\n",
              "      <td>0.175964</td>\n",
              "      <td>0.391030</td>\n",
              "    </tr>\n",
              "    <tr>\n",
              "      <th>PROB</th>\n",
              "      <td>-0.089031</td>\n",
              "      <td>-0.014568</td>\n",
              "      <td>0.005536</td>\n",
              "      <td>0.059730</td>\n",
              "      <td>0.006063</td>\n",
              "      <td>0.130944</td>\n",
              "      <td>0.088843</td>\n",
              "      <td>0.132302</td>\n",
              "      <td>0.119903</td>\n",
              "      <td>0.053993</td>\n",
              "      <td>0.056820</td>\n",
              "      <td>0.056505</td>\n",
              "      <td>0.064139</td>\n",
              "      <td>0.152539</td>\n",
              "      <td>0.064170</td>\n",
              "      <td>0.127116</td>\n",
              "      <td>1.000000</td>\n",
              "      <td>0.484515</td>\n",
              "      <td>0.112223</td>\n",
              "      <td>0.144520</td>\n",
              "      <td>0.113429</td>\n",
              "      <td>0.173629</td>\n",
              "      <td>0.099341</td>\n",
              "      <td>0.407390</td>\n",
              "      <td>NaN</td>\n",
              "      <td>0.300040</td>\n",
              "      <td>0.175141</td>\n",
              "    </tr>\n",
              "    <tr>\n",
              "      <th>RiSk_E</th>\n",
              "      <td>-0.120199</td>\n",
              "      <td>-0.107721</td>\n",
              "      <td>0.064344</td>\n",
              "      <td>0.075179</td>\n",
              "      <td>0.065125</td>\n",
              "      <td>-0.007612</td>\n",
              "      <td>-0.008194</td>\n",
              "      <td>-0.006170</td>\n",
              "      <td>0.003351</td>\n",
              "      <td>0.097608</td>\n",
              "      <td>0.112765</td>\n",
              "      <td>0.110562</td>\n",
              "      <td>0.019184</td>\n",
              "      <td>0.064379</td>\n",
              "      <td>0.019347</td>\n",
              "      <td>0.905014</td>\n",
              "      <td>0.484515</td>\n",
              "      <td>1.000000</td>\n",
              "      <td>0.050483</td>\n",
              "      <td>0.038215</td>\n",
              "      <td>0.057455</td>\n",
              "      <td>0.194322</td>\n",
              "      <td>0.026550</td>\n",
              "      <td>0.717583</td>\n",
              "      <td>NaN</td>\n",
              "      <td>0.275137</td>\n",
              "      <td>0.387560</td>\n",
              "    </tr>\n",
              "    <tr>\n",
              "      <th>History</th>\n",
              "      <td>-0.106319</td>\n",
              "      <td>-0.039896</td>\n",
              "      <td>0.068354</td>\n",
              "      <td>0.124740</td>\n",
              "      <td>0.071982</td>\n",
              "      <td>0.127242</td>\n",
              "      <td>0.134947</td>\n",
              "      <td>0.124617</td>\n",
              "      <td>0.126662</td>\n",
              "      <td>0.143364</td>\n",
              "      <td>0.172865</td>\n",
              "      <td>0.166059</td>\n",
              "      <td>0.042059</td>\n",
              "      <td>0.167869</td>\n",
              "      <td>0.041497</td>\n",
              "      <td>-0.009904</td>\n",
              "      <td>0.112223</td>\n",
              "      <td>0.050483</td>\n",
              "      <td>1.000000</td>\n",
              "      <td>0.822153</td>\n",
              "      <td>0.993123</td>\n",
              "      <td>0.230422</td>\n",
              "      <td>0.086886</td>\n",
              "      <td>0.727030</td>\n",
              "      <td>NaN</td>\n",
              "      <td>0.383094</td>\n",
              "      <td>0.194686</td>\n",
              "    </tr>\n",
              "    <tr>\n",
              "      <th>Prob</th>\n",
              "      <td>-0.141088</td>\n",
              "      <td>0.017624</td>\n",
              "      <td>0.146990</td>\n",
              "      <td>0.233641</td>\n",
              "      <td>0.151269</td>\n",
              "      <td>0.249398</td>\n",
              "      <td>0.253347</td>\n",
              "      <td>0.248567</td>\n",
              "      <td>0.250521</td>\n",
              "      <td>0.179402</td>\n",
              "      <td>0.228784</td>\n",
              "      <td>0.216342</td>\n",
              "      <td>0.068716</td>\n",
              "      <td>0.268353</td>\n",
              "      <td>0.067212</td>\n",
              "      <td>-0.028527</td>\n",
              "      <td>0.144520</td>\n",
              "      <td>0.038215</td>\n",
              "      <td>0.822153</td>\n",
              "      <td>1.000000</td>\n",
              "      <td>0.771935</td>\n",
              "      <td>0.363986</td>\n",
              "      <td>0.150423</td>\n",
              "      <td>0.564412</td>\n",
              "      <td>NaN</td>\n",
              "      <td>0.461353</td>\n",
              "      <td>0.260679</td>\n",
              "    </tr>\n",
              "    <tr>\n",
              "      <th>Risk_F</th>\n",
              "      <td>-0.095164</td>\n",
              "      <td>-0.052320</td>\n",
              "      <td>0.050020</td>\n",
              "      <td>0.100969</td>\n",
              "      <td>0.053353</td>\n",
              "      <td>0.096578</td>\n",
              "      <td>0.108170</td>\n",
              "      <td>0.093903</td>\n",
              "      <td>0.095866</td>\n",
              "      <td>0.144203</td>\n",
              "      <td>0.171837</td>\n",
              "      <td>0.165723</td>\n",
              "      <td>0.034002</td>\n",
              "      <td>0.140912</td>\n",
              "      <td>0.033604</td>\n",
              "      <td>-0.003847</td>\n",
              "      <td>0.113429</td>\n",
              "      <td>0.057455</td>\n",
              "      <td>0.993123</td>\n",
              "      <td>0.771935</td>\n",
              "      <td>1.000000</td>\n",
              "      <td>0.201749</td>\n",
              "      <td>0.069791</td>\n",
              "      <td>0.736551</td>\n",
              "      <td>NaN</td>\n",
              "      <td>0.364622</td>\n",
              "      <td>0.172984</td>\n",
              "    </tr>\n",
              "    <tr>\n",
              "      <th>Score</th>\n",
              "      <td>-0.344691</td>\n",
              "      <td>0.113127</td>\n",
              "      <td>0.487901</td>\n",
              "      <td>0.722372</td>\n",
              "      <td>0.495228</td>\n",
              "      <td>0.693946</td>\n",
              "      <td>0.908748</td>\n",
              "      <td>0.692465</td>\n",
              "      <td>0.712713</td>\n",
              "      <td>0.503558</td>\n",
              "      <td>0.581231</td>\n",
              "      <td>0.565067</td>\n",
              "      <td>0.291847</td>\n",
              "      <td>0.756959</td>\n",
              "      <td>0.288472</td>\n",
              "      <td>0.165404</td>\n",
              "      <td>0.173629</td>\n",
              "      <td>0.194322</td>\n",
              "      <td>0.230422</td>\n",
              "      <td>0.363986</td>\n",
              "      <td>0.201749</td>\n",
              "      <td>1.000000</td>\n",
              "      <td>0.492810</td>\n",
              "      <td>0.272399</td>\n",
              "      <td>NaN</td>\n",
              "      <td>0.570680</td>\n",
              "      <td>0.781958</td>\n",
              "    </tr>\n",
              "    <tr>\n",
              "      <th>Inherent_Risk</th>\n",
              "      <td>-0.199010</td>\n",
              "      <td>0.042599</td>\n",
              "      <td>0.564729</td>\n",
              "      <td>0.354293</td>\n",
              "      <td>0.565643</td>\n",
              "      <td>0.596263</td>\n",
              "      <td>0.424996</td>\n",
              "      <td>0.595908</td>\n",
              "      <td>0.637157</td>\n",
              "      <td>0.248010</td>\n",
              "      <td>0.270814</td>\n",
              "      <td>0.267091</td>\n",
              "      <td>0.945022</td>\n",
              "      <td>0.535739</td>\n",
              "      <td>0.944445</td>\n",
              "      <td>0.001349</td>\n",
              "      <td>0.099341</td>\n",
              "      <td>0.026550</td>\n",
              "      <td>0.086886</td>\n",
              "      <td>0.150423</td>\n",
              "      <td>0.069791</td>\n",
              "      <td>0.492810</td>\n",
              "      <td>1.000000</td>\n",
              "      <td>0.066676</td>\n",
              "      <td>NaN</td>\n",
              "      <td>0.802824</td>\n",
              "      <td>0.395092</td>\n",
              "    </tr>\n",
              "    <tr>\n",
              "      <th>CONTROL_RISK</th>\n",
              "      <td>-0.147824</td>\n",
              "      <td>-0.109481</td>\n",
              "      <td>0.078488</td>\n",
              "      <td>0.121373</td>\n",
              "      <td>0.081343</td>\n",
              "      <td>0.062218</td>\n",
              "      <td>0.069910</td>\n",
              "      <td>0.061329</td>\n",
              "      <td>0.069149</td>\n",
              "      <td>0.166729</td>\n",
              "      <td>0.196276</td>\n",
              "      <td>0.190518</td>\n",
              "      <td>0.036718</td>\n",
              "      <td>0.141920</td>\n",
              "      <td>0.036551</td>\n",
              "      <td>0.610464</td>\n",
              "      <td>0.407390</td>\n",
              "      <td>0.717583</td>\n",
              "      <td>0.727030</td>\n",
              "      <td>0.564412</td>\n",
              "      <td>0.736551</td>\n",
              "      <td>0.272399</td>\n",
              "      <td>0.066676</td>\n",
              "      <td>1.000000</td>\n",
              "      <td>NaN</td>\n",
              "      <td>0.440775</td>\n",
              "      <td>0.383250</td>\n",
              "    </tr>\n",
              "    <tr>\n",
              "      <th>Detection_Risk</th>\n",
              "      <td>NaN</td>\n",
              "      <td>NaN</td>\n",
              "      <td>NaN</td>\n",
              "      <td>NaN</td>\n",
              "      <td>NaN</td>\n",
              "      <td>NaN</td>\n",
              "      <td>NaN</td>\n",
              "      <td>NaN</td>\n",
              "      <td>NaN</td>\n",
              "      <td>NaN</td>\n",
              "      <td>NaN</td>\n",
              "      <td>NaN</td>\n",
              "      <td>NaN</td>\n",
              "      <td>NaN</td>\n",
              "      <td>NaN</td>\n",
              "      <td>NaN</td>\n",
              "      <td>NaN</td>\n",
              "      <td>NaN</td>\n",
              "      <td>NaN</td>\n",
              "      <td>NaN</td>\n",
              "      <td>NaN</td>\n",
              "      <td>NaN</td>\n",
              "      <td>NaN</td>\n",
              "      <td>NaN</td>\n",
              "      <td>NaN</td>\n",
              "      <td>NaN</td>\n",
              "      <td>NaN</td>\n",
              "    </tr>\n",
              "    <tr>\n",
              "      <th>Audit_Risk</th>\n",
              "      <td>-0.205195</td>\n",
              "      <td>-0.025089</td>\n",
              "      <td>0.463366</td>\n",
              "      <td>0.368972</td>\n",
              "      <td>0.465306</td>\n",
              "      <td>0.570550</td>\n",
              "      <td>0.403330</td>\n",
              "      <td>0.570681</td>\n",
              "      <td>0.595978</td>\n",
              "      <td>0.367925</td>\n",
              "      <td>0.420731</td>\n",
              "      <td>0.412223</td>\n",
              "      <td>0.714787</td>\n",
              "      <td>0.562619</td>\n",
              "      <td>0.714430</td>\n",
              "      <td>0.175964</td>\n",
              "      <td>0.300040</td>\n",
              "      <td>0.275137</td>\n",
              "      <td>0.383094</td>\n",
              "      <td>0.461353</td>\n",
              "      <td>0.364622</td>\n",
              "      <td>0.570680</td>\n",
              "      <td>0.802824</td>\n",
              "      <td>0.440775</td>\n",
              "      <td>NaN</td>\n",
              "      <td>1.000000</td>\n",
              "      <td>0.431112</td>\n",
              "    </tr>\n",
              "    <tr>\n",
              "      <th>Risk</th>\n",
              "      <td>-0.398171</td>\n",
              "      <td>0.053749</td>\n",
              "      <td>0.423703</td>\n",
              "      <td>0.619510</td>\n",
              "      <td>0.432177</td>\n",
              "      <td>0.499845</td>\n",
              "      <td>0.632639</td>\n",
              "      <td>0.494956</td>\n",
              "      <td>0.525547</td>\n",
              "      <td>0.303561</td>\n",
              "      <td>0.358509</td>\n",
              "      <td>0.345085</td>\n",
              "      <td>0.254539</td>\n",
              "      <td>0.685691</td>\n",
              "      <td>0.250972</td>\n",
              "      <td>0.391030</td>\n",
              "      <td>0.175141</td>\n",
              "      <td>0.387560</td>\n",
              "      <td>0.194686</td>\n",
              "      <td>0.260679</td>\n",
              "      <td>0.172984</td>\n",
              "      <td>0.781958</td>\n",
              "      <td>0.395092</td>\n",
              "      <td>0.383250</td>\n",
              "      <td>NaN</td>\n",
              "      <td>0.431112</td>\n",
              "      <td>1.000000</td>\n",
              "    </tr>\n",
              "  </tbody>\n",
              "</table>\n",
              "</div>"
            ],
            "text/plain": [
              "                Sector_score  LOCATION_ID  ...  Audit_Risk      Risk\n",
              "Sector_score        1.000000    -0.069222  ...   -0.205195 -0.398171\n",
              "LOCATION_ID        -0.069222     1.000000  ...   -0.025089  0.053749\n",
              "PARA_A             -0.268577     0.061964  ...    0.463366  0.423703\n",
              "Score_A            -0.419034     0.115318  ...    0.368972  0.619510\n",
              "Risk_A             -0.269543     0.065312  ...    0.465306  0.432177\n",
              "PARA_B             -0.254085     0.152601  ...    0.570550  0.499845\n",
              "Score_B            -0.228836     0.132708  ...    0.403330  0.632639\n",
              "Risk_B             -0.248706     0.151867  ...    0.570681  0.494956\n",
              "TOTAL              -0.276158     0.149487  ...    0.595978  0.525547\n",
              "numbers            -0.154831     0.045889  ...    0.367925  0.303561\n",
              "Score_B.1          -0.179437     0.020095  ...    0.420731  0.358509\n",
              "Risk_C             -0.174158     0.024108  ...    0.412223  0.345085\n",
              "Money_Value        -0.125832    -0.009198  ...    0.714787  0.254539\n",
              "Score_MV           -0.327193     0.119776  ...    0.562619  0.685691\n",
              "Risk_D             -0.123464    -0.009785  ...    0.714430  0.250972\n",
              "District_Loss      -0.099124    -0.118147  ...    0.175964  0.391030\n",
              "PROB               -0.089031    -0.014568  ...    0.300040  0.175141\n",
              "RiSk_E             -0.120199    -0.107721  ...    0.275137  0.387560\n",
              "History            -0.106319    -0.039896  ...    0.383094  0.194686\n",
              "Prob               -0.141088     0.017624  ...    0.461353  0.260679\n",
              "Risk_F             -0.095164    -0.052320  ...    0.364622  0.172984\n",
              "Score              -0.344691     0.113127  ...    0.570680  0.781958\n",
              "Inherent_Risk      -0.199010     0.042599  ...    0.802824  0.395092\n",
              "CONTROL_RISK       -0.147824    -0.109481  ...    0.440775  0.383250\n",
              "Detection_Risk           NaN          NaN  ...         NaN       NaN\n",
              "Audit_Risk         -0.205195    -0.025089  ...    1.000000  0.431112\n",
              "Risk               -0.398171     0.053749  ...    0.431112  1.000000\n",
              "\n",
              "[27 rows x 27 columns]"
            ]
          },
          "metadata": {
            "tags": []
          },
          "execution_count": 42
        }
      ]
    },
    {
      "cell_type": "markdown",
      "metadata": {
        "id": "VhA4VZExVHJv"
      },
      "source": [
        "# Checking the balance of Dataset with related to Target variable"
      ]
    },
    {
      "cell_type": "code",
      "metadata": {
        "id": "AhBx2B61mAiA",
        "outputId": "135750ce-8f12-43af-cb00-ed639a4a891c",
        "colab": {
          "base_uri": "https://localhost:8080/",
          "height": 68
        }
      },
      "source": [
        "#find the percentage of all the unique values in the target column (dependent variable) \n",
        "round(minmax_auditdata['Risk'].value_counts(normalize = True)* 100, 2)"
      ],
      "execution_count": null,
      "outputs": [
        {
          "output_type": "execute_result",
          "data": {
            "text/plain": [
              "0    60.52\n",
              "1    39.48\n",
              "Name: Risk, dtype: float64"
            ]
          },
          "metadata": {
            "tags": []
          },
          "execution_count": 43
        }
      ]
    },
    {
      "cell_type": "code",
      "metadata": {
        "id": "m54eZx3gZOSD",
        "cellView": "both",
        "outputId": "f0fc2dd0-5196-4ca9-f3ea-c4acc1ea8983",
        "colab": {
          "base_uri": "https://localhost:8080/",
          "height": 285
        }
      },
      "source": [
        "#visual representation of the target column (dependent variable) all unique values count\n",
        "sns.set(style=\"darkgrid\")\n",
        "ax = sns.countplot(x='Risk',  data=minmax_auditdata)\n",
        "plt.show()"
      ],
      "execution_count": null,
      "outputs": [
        {
          "output_type": "display_data",
          "data": {
            "image/png": "[encoded data removed]",
            "text/plain": [
              "<Figure size 432x288 with 1 Axes>"
            ]
          },
          "metadata": {
            "tags": []
          }
        }
      ]
    },
    {
      "cell_type": "markdown",
      "metadata": {
        "id": "77Ch1cSKpudC"
      },
      "source": [
        "# Preparing Train Dataset to feed in model to train it and Test Dataset to evaluate the model performance to guage its performance on unseen new Test Dataset."
      ]
    },
    {
      "cell_type": "code",
      "metadata": {
        "id": "Qd3iSCx8gul2"
      },
      "source": [
        "#initializing the X (independent variables) and y (dependent variable)\n",
        "X = minmax_auditdata.drop('Risk', axis = 1)\n",
        "y = minmax_auditdata['Risk']"
      ],
      "execution_count": null,
      "outputs": []
    },
    {
      "cell_type": "code",
      "metadata": {
        "id": "W01zWzZpwz--"
      },
      "source": [
        "#splitting the X (independent variables) and y (dependent variable) into train and test dataset\n",
        "X_train, X_test, y_train, y_test = train_test_split(X, y, test_size=0.20, random_state=5)"
      ],
      "execution_count": null,
      "outputs": []
    },
    {
      "cell_type": "markdown",
      "metadata": {
        "id": "pnrdPuARqek-"
      },
      "source": [
        "# Building the model with hyperparameter and training the model"
      ]
    },
    {
      "cell_type": "code",
      "metadata": {
        "id": "GVjikMugAM0D"
      },
      "source": [
        "#creating object of RandomForestClassifier\n",
        "rfcparam =  RandomForestClassifier(random_state=5, n_estimators = 500, max_features='auto', max_depth=8, criterion='entropy', class_weight = 'balanced')"
      ],
      "execution_count": null,
      "outputs": []
    },
    {
      "cell_type": "code",
      "metadata": {
        "id": "xDEzAgtZAMCR",
        "outputId": "b4802b67-1b3e-4949-edbb-953b2ee12778",
        "colab": {
          "base_uri": "https://localhost:8080/",
          "height": 153
        }
      },
      "source": [
        "#training the model\n",
        "rfcparam.fit(X_train, y_train)"
      ],
      "execution_count": null,
      "outputs": [
        {
          "output_type": "execute_result",
          "data": {
            "text/plain": [
              "RandomForestClassifier(bootstrap=True, ccp_alpha=0.0, class_weight='balanced',\n",
              "                       criterion='entropy', max_depth=8, max_features='auto',\n",
              "                       max_leaf_nodes=None, max_samples=None,\n",
              "                       min_impurity_decrease=0.0, min_impurity_split=None,\n",
              "                       min_samples_leaf=1, min_samples_split=2,\n",
              "                       min_weight_fraction_leaf=0.0, n_estimators=500,\n",
              "                       n_jobs=None, oob_score=False, random_state=5, verbose=0,\n",
              "                       warm_start=False)"
            ]
          },
          "metadata": {
            "tags": []
          },
          "execution_count": 48
        }
      ]
    },
    {
      "cell_type": "markdown",
      "metadata": {
        "id": "A_6xqBW5q36V"
      },
      "source": [
        "# Predicting the Target variable of Test Dataset to evaluate the model performance"
      ]
    },
    {
      "cell_type": "code",
      "metadata": {
        "id": "6nAh3nVpGol2"
      },
      "source": [
        "#finding the predicted values for test dataset\n",
        "rfcparam_pred = rfcparam.predict(X_test)"
      ],
      "execution_count": null,
      "outputs": []
    },
    {
      "cell_type": "code",
      "metadata": {
        "id": "gAqNYx70Gp0R",
        "outputId": "82d54a5f-b78c-482b-80f2-30e25ff88b4e",
        "colab": {
          "base_uri": "https://localhost:8080/",
          "height": 34
        }
      },
      "source": [
        "#score of the model\n",
        "rfcparam.score(X_test, y_test)"
      ],
      "execution_count": null,
      "outputs": [
        {
          "output_type": "execute_result",
          "data": {
            "text/plain": [
              "1.0"
            ]
          },
          "metadata": {
            "tags": []
          },
          "execution_count": 50
        }
      ]
    },
    {
      "cell_type": "code",
      "metadata": {
        "id": "Z-rx88iNGpc9",
        "outputId": "2ea13d2e-38e8-40dd-dc92-32b76bb8dcda",
        "colab": {
          "base_uri": "https://localhost:8080/",
          "height": 85
        }
      },
      "source": [
        "#confusion_matrix of the model's prediction \n",
        "tn, fp, fn, tp = confusion_matrix(y_test, rfcparam_pred).ravel()     # ravel() is used to convert a 2D array to 1D array. The output by confusion matrix is a 2D array.\n",
        "print(\"True Positive\", tp)\n",
        "print(\"True Negative\", tn)\n",
        "print(\"False Positive\", fp)\n",
        "print(\"False Negative\", fn)"
      ],
      "execution_count": null,
      "outputs": [
        {
          "output_type": "stream",
          "text": [
            "True Positive 42\n",
            "True Negative 66\n",
            "False Positive 0\n",
            "False Negative 0\n"
          ],
          "name": "stdout"
        }
      ]
    },
    {
      "cell_type": "code",
      "metadata": {
        "id": "1DvexR4nNdUf",
        "outputId": "68fb8ab7-164e-47f7-ba31-436f4cd1086e",
        "colab": {
          "base_uri": "https://localhost:8080/",
          "height": 34
        }
      },
      "source": [
        "#precision score of the model's prediction \n",
        "precision_score(y_test, rfcparam_pred)"
      ],
      "execution_count": null,
      "outputs": [
        {
          "output_type": "execute_result",
          "data": {
            "text/plain": [
              "1.0"
            ]
          },
          "metadata": {
            "tags": []
          },
          "execution_count": 52
        }
      ]
    },
    {
      "cell_type": "code",
      "metadata": {
        "id": "Nya0TcxmNdv0",
        "outputId": "ac80384d-e9cd-4df0-85d8-d44b23d987e4",
        "colab": {
          "base_uri": "https://localhost:8080/",
          "height": 34
        }
      },
      "source": [
        "#f1 score of the model's prediction \n",
        "f1_score(y_test, rfcparam_pred)"
      ],
      "execution_count": null,
      "outputs": [
        {
          "output_type": "execute_result",
          "data": {
            "text/plain": [
              "1.0"
            ]
          },
          "metadata": {
            "tags": []
          },
          "execution_count": 53
        }
      ]
    },
    {
      "cell_type": "code",
      "metadata": {
        "id": "a5xmNkh1Nc7x",
        "outputId": "ec2f3a2f-992d-44be-872c-bb8092c508ab",
        "colab": {
          "base_uri": "https://localhost:8080/",
          "height": 34
        }
      },
      "source": [
        "#roc auc score of the model's prediction \n",
        "roc_auc_score(y_test, rfcparam_pred)"
      ],
      "execution_count": null,
      "outputs": [
        {
          "output_type": "execute_result",
          "data": {
            "text/plain": [
              "1.0"
            ]
          },
          "metadata": {
            "tags": []
          },
          "execution_count": 54
        }
      ]
    },
    {
      "cell_type": "markdown",
      "metadata": {
        "id": "H6Cxa2v8rGyF"
      },
      "source": [
        "# Predicting the Target variable of new unseen Test Dataset and getting the predicted values in a csv file to download it.\n"
      ]
    },
    {
      "cell_type": "code",
      "metadata": {
        "id": "1nw94YJPGoQf"
      },
      "source": [
        "#finding the predicted values for test dataset\n",
        "testnew_pred = rfcparam.predict(minmax_audittestdata)"
      ],
      "execution_count": null,
      "outputs": []
    },
    {
      "cell_type": "code",
      "metadata": {
        "id": "yPEu1aRVlvcI",
        "outputId": "3d9f1a94-327f-43b2-9aa0-2b003d170419",
        "colab": {
          "base_uri": "https://localhost:8080/",
          "height": 17
        }
      },
      "source": [
        "# To create Dataframe of predicted value with particular respective index\n",
        "res = pd.DataFrame(testnew_pred) #testnew_pred are nothing but the final predictions of the model on input features of the new unseen test data\n",
        "res.index = minmax_audittestdata.index # its important for comparison. Here \"minmax_audittestdata\" is the new unseen test dataset\n",
        "res.columns = ['Risk']\n",
        "\n",
        "# To download the csv file locally\n",
        "from google.colab import files\n",
        "res.to_csv('submissionfileA.csv')         \n",
        "files.download('submissionfileA.csv') "
      ],
      "execution_count": null,
      "outputs": [
        {
          "output_type": "display_data",
          "data": {
            "application/javascript": [
              "\n",
              "    async function download(id, filename, size) {\n",
              "      if (!google.colab.kernel.accessAllowed) {\n",
              "        return;\n",
              "      }\n",
              "      const div = document.createElement('div');\n",
              "      const label = document.createElement('label');\n",
              "      label.textContent = `Downloading \"${filename}\": `;\n",
              "      div.appendChild(label);\n",
              "      const progress = document.createElement('progress');\n",
              "      progress.max = size;\n",
              "      div.appendChild(progress);\n",
              "      document.body.appendChild(div);\n",
              "\n",
              "      const buffers = [];\n",
              "      let downloaded = 0;\n",
              "\n",
              "      const channel = await google.colab.kernel.comms.open(id);\n",
              "      // Send a message to notify the kernel that we're ready.\n",
              "      channel.send({})\n",
              "\n",
              "      for await (const message of channel.messages) {\n",
              "        // Send a message to notify the kernel that we're ready.\n",
              "        channel.send({})\n",
              "        if (message.buffers) {\n",
              "          for (const buffer of message.buffers) {\n",
              "            buffers.push(buffer);\n",
              "            downloaded += buffer.byteLength;\n",
              "            progress.value = downloaded;\n",
              "          }\n",
              "        }\n",
              "      }\n",
              "      const blob = new Blob(buffers, {type: 'application/binary'});\n",
              "      const a = document.createElement('a');\n",
              "      a.href = window.URL.createObjectURL(blob);\n",
              "      a.download = filename;\n",
              "      div.appendChild(a);\n",
              "      a.click();\n",
              "      div.remove();\n",
              "    }\n",
              "  "
            ],
            "text/plain": [
              "<IPython.core.display.Javascript object>"
            ]
          },
          "metadata": {
            "tags": []
          }
        },
        {
          "output_type": "display_data",
          "data": {
            "application/javascript": [
              "download(\"download_37cffac7-1639-43bb-a41c-6f49868e95d7\", \"submissionfileA.csv\", 1294)"
            ],
            "text/plain": [
              "<IPython.core.display.Javascript object>"
            ]
          },
          "metadata": {
            "tags": []
          }
        }
      ]
    },
    {
      "cell_type": "markdown",
      "metadata": {
        "id": "j38EJwQwoqax"
      },
      "source": [
        "# Doing hyperparameter tuning\n"
      ]
    },
    {
      "cell_type": "code",
      "metadata": {
        "id": "I59OzxRwomX0"
      },
      "source": [
        "#creating object of our RandomForestClassifier model\n",
        "rfc1 = RandomForestClassifier(random_state=5)"
      ],
      "execution_count": null,
      "outputs": []
    },
    {
      "cell_type": "code",
      "metadata": {
        "id": "u-xDEaZXo9at"
      },
      "source": [
        "# #setting the hyperparameter tuning also setting class_weight as the dataset is little imbalance\n",
        "# parameters = {\n",
        "#     'n_estimators': [120, 150, 200, 400, 600, 800, 1000, 1200, 1400, 1600, 1800, 2000],\n",
        "#     'max_depth': [8, 9, 10, 11, 12, 30, 50, 60, 70, 80, 90, 100,],\n",
        "#     'max_features': ['auto', 'sqrt', 'log2', 0.25, 0.5, 0.75, 1.0],\n",
        "#     'max_depth' : [4,5,6,7,8],\n",
        "#     'criterion' :['gini', 'entropy'],\n",
        "#     'min_samples_split': [2, 3, 4, 6, 8, 10],\n",
        "#     'min_samples_leaf': [1, 2, 4],\n",
        "#     'class_weight': [{0:1,1:1},{0:1,1:3},{0:1,1:5}, 'balanced'],\n",
        "# }"
      ],
      "execution_count": null,
      "outputs": []
    },
    {
      "cell_type": "code",
      "metadata": {
        "id": "LADKo0Vrp3ZK"
      },
      "source": [
        "#setting the hyperparameter tuning also setting class_weight as the dataset is little imbalance\n",
        "parameters = {\n",
        "    'n_estimators': [800, 1000],\n",
        "    'max_depth': [10, 30, 50],\n",
        "    'max_features': ['auto', 'sqrt', 'log2'],\n",
        "    'criterion' :['gini', 'entropy'],\n",
        "    'min_samples_split': [2, 3, 4],\n",
        "    'min_samples_leaf': [1, 2, 4],\n",
        "    'class_weight': [{0:1,1:1}, 'balanced'],\n",
        "}"
      ],
      "execution_count": null,
      "outputs": []
    },
    {
      "cell_type": "code",
      "metadata": {
        "id": "xRhakJ0Wo2cQ",
        "outputId": "b860c69c-79ba-4e47-e19e-0ce2ce22aac1",
        "colab": {
          "base_uri": "https://localhost:8080/",
          "height": 425
        }
      },
      "source": [
        "gs = GridSearchCV(estimator=rfc1, param_grid=parameters, scoring = 'roc_auc', cv=10, n_jobs=-1)\n",
        "gs.fit(X_train, y_train)"
      ],
      "execution_count": null,
      "outputs": [
        {
          "output_type": "execute_result",
          "data": {
            "text/plain": [
              "GridSearchCV(cv=10, error_score=nan,\n",
              "             estimator=RandomForestClassifier(bootstrap=True, ccp_alpha=0.0,\n",
              "                                              class_weight=None,\n",
              "                                              criterion='gini', max_depth=None,\n",
              "                                              max_features='auto',\n",
              "                                              max_leaf_nodes=None,\n",
              "                                              max_samples=None,\n",
              "                                              min_impurity_decrease=0.0,\n",
              "                                              min_impurity_split=None,\n",
              "                                              min_samples_leaf=1,\n",
              "                                              min_samples_split=2,\n",
              "                                              min_weight_fraction_leaf=0.0,\n",
              "                                              n_estimators=100, n_jobs=None...\n",
              "                                              verbose=0, warm_start=False),\n",
              "             iid='deprecated', n_jobs=-1,\n",
              "             param_grid={'class_weight': [{0: 1, 1: 1}, 'balanced'],\n",
              "                         'criterion': ['gini', 'entropy'],\n",
              "                         'max_depth': [10, 30, 50],\n",
              "                         'max_features': ['auto', 'sqrt', 'log2'],\n",
              "                         'min_samples_leaf': [1, 2, 4],\n",
              "                         'min_samples_split': [2, 3, 4],\n",
              "                         'n_estimators': [800, 1000]},\n",
              "             pre_dispatch='2*n_jobs', refit=True, return_train_score=False,\n",
              "             scoring='roc_auc', verbose=0)"
            ]
          },
          "metadata": {
            "tags": []
          },
          "execution_count": 49
        }
      ]
    },
    {
      "cell_type": "code",
      "metadata": {
        "id": "WTXaBm79pH9F",
        "outputId": "036796aa-6652-46e0-e7c5-8796e3d4f692",
        "colab": {
          "base_uri": "https://localhost:8080/",
          "height": 136
        }
      },
      "source": [
        "#getting the best parameter of the model for the given dataset\n",
        "gs.best_params_"
      ],
      "execution_count": null,
      "outputs": [
        {
          "output_type": "execute_result",
          "data": {
            "text/plain": [
              "{'class_weight': {0: 1, 1: 1},\n",
              " 'criterion': 'gini',\n",
              " 'max_depth': 10,\n",
              " 'max_features': 'auto',\n",
              " 'min_samples_leaf': 1,\n",
              " 'min_samples_split': 2,\n",
              " 'n_estimators': 800}"
            ]
          },
          "metadata": {
            "tags": []
          },
          "execution_count": 51
        }
      ]
    },
    {
      "cell_type": "code",
      "metadata": {
        "id": "-dK3Mvq3pOlh"
      },
      "source": [
        "#creating object of RandomForestClassifier from the best parameter found for the given dataset\n",
        "rfcbestparam =  RandomForestClassifier(random_state=5, class_weight = {0: 1, 1: 1}, criterion = 'gini', max_depth = 10, max_features = 'auto', \n",
        "                                       min_samples_leaf = 1, min_samples_split = 2, n_estimators = 800)"
      ],
      "execution_count": null,
      "outputs": []
    },
    {
      "cell_type": "code",
      "metadata": {
        "id": "l7FGMgZErdJp",
        "outputId": "a627ae3b-3820-4cfd-e6f1-3dbdc70ad904",
        "colab": {
          "base_uri": "https://localhost:8080/",
          "height": 153
        }
      },
      "source": [
        "#training the model\n",
        "rfcbestparam.fit(X_train, y_train)"
      ],
      "execution_count": null,
      "outputs": [
        {
          "output_type": "execute_result",
          "data": {
            "text/plain": [
              "RandomForestClassifier(bootstrap=True, ccp_alpha=0.0, class_weight={0: 1, 1: 1},\n",
              "                       criterion='gini', max_depth=10, max_features='auto',\n",
              "                       max_leaf_nodes=None, max_samples=None,\n",
              "                       min_impurity_decrease=0.0, min_impurity_split=None,\n",
              "                       min_samples_leaf=1, min_samples_split=2,\n",
              "                       min_weight_fraction_leaf=0.0, n_estimators=800,\n",
              "                       n_jobs=None, oob_score=False, random_state=5, verbose=0,\n",
              "                       warm_start=False)"
            ]
          },
          "metadata": {
            "tags": []
          },
          "execution_count": 49
        }
      ]
    },
    {
      "cell_type": "code",
      "metadata": {
        "id": "ANezfzS4rnsq"
      },
      "source": [
        "#finding the predicted values for test dataset\n",
        "rfcbestparam_pred = rfcbestparam.predict(X_test)"
      ],
      "execution_count": null,
      "outputs": []
    },
    {
      "cell_type": "code",
      "metadata": {
        "id": "Erf4HHRorxGK",
        "outputId": "9f527859-3dff-4aef-8a63-a02de279e3e4",
        "colab": {
          "base_uri": "https://localhost:8080/",
          "height": 34
        }
      },
      "source": [
        "#score of the model\n",
        "rfcbestparam.score(X_test, y_test)"
      ],
      "execution_count": null,
      "outputs": [
        {
          "output_type": "execute_result",
          "data": {
            "text/plain": [
              "1.0"
            ]
          },
          "metadata": {
            "tags": []
          },
          "execution_count": 51
        }
      ]
    },
    {
      "cell_type": "code",
      "metadata": {
        "id": "ljGDEwQ9uCEN",
        "outputId": "b96fe874-efb5-4e2f-f8e4-4060d9eb4616",
        "colab": {
          "base_uri": "https://localhost:8080/",
          "height": 85
        }
      },
      "source": [
        "#confusion_matrix of the model's prediction \n",
        "tn, fp, fn, tp = confusion_matrix(y_test, rfcbestparam_pred).ravel()     # ravel() is used to convert a 2D array to 1D array. The output by confusion matrix is a 2D array.\n",
        "print(\"True Positive\", tp)\n",
        "print(\"True Negative\", tn)\n",
        "print(\"False Positive\", fp)\n",
        "print(\"False Negative\", fn)"
      ],
      "execution_count": null,
      "outputs": [
        {
          "output_type": "stream",
          "text": [
            "True Positive 42\n",
            "True Negative 66\n",
            "False Positive 0\n",
            "False Negative 0\n"
          ],
          "name": "stdout"
        }
      ]
    },
    {
      "cell_type": "code",
      "metadata": {
        "id": "8zwQoBLTui0l",
        "outputId": "f22298ff-645c-41fb-d304-7804722c44ac",
        "colab": {
          "base_uri": "https://localhost:8080/",
          "height": 34
        }
      },
      "source": [
        "#precision score of the model's prediction \n",
        "precision_score(y_test, rfcbestparam_pred)"
      ],
      "execution_count": null,
      "outputs": [
        {
          "output_type": "execute_result",
          "data": {
            "text/plain": [
              "1.0"
            ]
          },
          "metadata": {
            "tags": []
          },
          "execution_count": 53
        }
      ]
    },
    {
      "cell_type": "code",
      "metadata": {
        "id": "Yx60UzmLu_M-",
        "outputId": "196c195f-5a49-461b-c395-254f29e8e720",
        "colab": {
          "base_uri": "https://localhost:8080/",
          "height": 34
        }
      },
      "source": [
        "#f1 score of the model's prediction \n",
        "f1_score(y_test, rfcbestparam_pred)"
      ],
      "execution_count": null,
      "outputs": [
        {
          "output_type": "execute_result",
          "data": {
            "text/plain": [
              "1.0"
            ]
          },
          "metadata": {
            "tags": []
          },
          "execution_count": 54
        }
      ]
    },
    {
      "cell_type": "code",
      "metadata": {
        "id": "sR6m9nwsvAJL",
        "outputId": "f2a56466-1f73-476f-ddb9-23342a264ef1",
        "colab": {
          "base_uri": "https://localhost:8080/",
          "height": 34
        }
      },
      "source": [
        "#roc auc score of the model's prediction \n",
        "roc_auc_score(y_test, rfcbestparam_pred)"
      ],
      "execution_count": null,
      "outputs": [
        {
          "output_type": "execute_result",
          "data": {
            "text/plain": [
              "1.0"
            ]
          },
          "metadata": {
            "tags": []
          },
          "execution_count": 55
        }
      ]
    },
    {
      "cell_type": "code",
      "metadata": {
        "id": "weDMnMdNvQAS"
      },
      "source": [
        "#finding the predicted values for test dataset\n",
        "rfcbesttestnew_pred = rfcbestparam.predict(minmax_audittestdata)"
      ],
      "execution_count": null,
      "outputs": []
    },
    {
      "cell_type": "code",
      "metadata": {
        "id": "rZSLITpodh3u"
      },
      "source": [
        "# To create Dataframe of predicted value with particular respective index\n",
        "rfcbestres = pd.DataFrame(rfcbesttestnew_pred) #testnew_pred are nothing but the final predictions of the model on input features of the new unseen test data\n",
        "rfcbestres.index = minmax_audittestdata.index # its important for comparison. Here \"minmax_audittestdata\" is the new unseen test dataset\n",
        "rfcbestres.columns = ['prediction']\n",
        "\n",
        "# To download the csv file locally\n",
        "from google.colab import files\n",
        "rfcbestres.to_csv('submissionfileB.csv', index = False)         \n",
        "files.download('submissionfileB.csv')  "
      ],
      "execution_count": null,
      "outputs": []
    }
  ]
}
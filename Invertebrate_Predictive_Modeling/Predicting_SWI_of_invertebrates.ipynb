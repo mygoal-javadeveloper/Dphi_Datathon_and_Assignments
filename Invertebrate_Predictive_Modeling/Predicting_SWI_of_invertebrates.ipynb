{
  "nbformat": 4,
  "nbformat_minor": 0,
  "metadata": {
    "kernelspec": {
      "display_name": "Python 3",
      "language": "python",
      "name": "python3"
    },
    "language_info": {
      "codemirror_mode": {
        "name": "ipython",
        "version": 3
      },
      "file_extension": ".py",
      "mimetype": "text/x-python",
      "name": "python",
      "nbconvert_exporter": "python",
      "pygments_lexer": "ipython3",
      "version": "3.7.4"
    },
    "colab": {
      "name": "Invertebrate - Predictive Modeling (Non-Graded) - 7030.ipynb",
      "provenance": [],
      "collapsed_sections": []
    }
  },
  "cells": [
    {
      "cell_type": "markdown",
      "metadata": {
        "id": "pzuOU6_BSjql",
        "colab_type": "text"
      },
      "source": [
        "Consider the dataset invertebrate. It holds 280 records of flying nocturnal invertebrate (e.g., insects such as moths, beetles, mosquitos, etc.) biodiversity, based on 280 sampling events in 2017 in a province in France. The outcome of interest is the Shannon-Wiener index (SWI), which is a measure of biodiversity. Within the context of this project, it suffices to know that SWI is a non-negative metric that is usually in practice smaller than 4.5. Low values denote low diversity, while higher values denote higher diversity. In addition to SWI, a number of explanatory variables are collected as well. An overview of all variables in the data is given in the variable description table mentioned below.\n",
        "\n",
        "The goal of this analysis is to build a model of SWI as a function of SWF, temperature, size, management, and, duration. You will build the model via the Invertebrate_Dataset and submit your predictions for the new_test data in the format mentioned under \"Submission format\" section."
      ]
    },
    {
      "cell_type": "code",
      "metadata": {
        "id": "qPW-Q01a4Kf1",
        "colab_type": "code",
        "colab": {
          "base_uri": "https://localhost:8080/",
          "height": 343
        },
        "outputId": "009c3e57-1548-4555-9009-12ad6abe3019"
      },
      "source": [
        "!pip install catboost"
      ],
      "execution_count": 1,
      "outputs": [
        {
          "output_type": "stream",
          "text": [
            "Collecting catboost\n",
            "\u001b[?25l  Downloading https://files.pythonhosted.org/packages/90/86/c3dcb600b4f9e7584ed90ea9d30a717fb5c0111574675f442c3e7bc19535/catboost-0.24.1-cp36-none-manylinux1_x86_64.whl (66.1MB)\n",
            "\u001b[K     |████████████████████████████████| 66.1MB 55kB/s \n",
            "\u001b[?25hRequirement already satisfied: graphviz in /usr/local/lib/python3.6/dist-packages (from catboost) (0.10.1)\n",
            "Requirement already satisfied: scipy in /usr/local/lib/python3.6/dist-packages (from catboost) (1.4.1)\n",
            "Requirement already satisfied: pandas>=0.24.0 in /usr/local/lib/python3.6/dist-packages (from catboost) (1.0.5)\n",
            "Requirement already satisfied: numpy>=1.16.0 in /usr/local/lib/python3.6/dist-packages (from catboost) (1.18.5)\n",
            "Requirement already satisfied: plotly in /usr/local/lib/python3.6/dist-packages (from catboost) (4.4.1)\n",
            "Requirement already satisfied: matplotlib in /usr/local/lib/python3.6/dist-packages (from catboost) (3.2.2)\n",
            "Requirement already satisfied: six in /usr/local/lib/python3.6/dist-packages (from catboost) (1.15.0)\n",
            "Requirement already satisfied: python-dateutil>=2.6.1 in /usr/local/lib/python3.6/dist-packages (from pandas>=0.24.0->catboost) (2.8.1)\n",
            "Requirement already satisfied: pytz>=2017.2 in /usr/local/lib/python3.6/dist-packages (from pandas>=0.24.0->catboost) (2018.9)\n",
            "Requirement already satisfied: retrying>=1.3.3 in /usr/local/lib/python3.6/dist-packages (from plotly->catboost) (1.3.3)\n",
            "Requirement already satisfied: pyparsing!=2.0.4,!=2.1.2,!=2.1.6,>=2.0.1 in /usr/local/lib/python3.6/dist-packages (from matplotlib->catboost) (2.4.7)\n",
            "Requirement already satisfied: cycler>=0.10 in /usr/local/lib/python3.6/dist-packages (from matplotlib->catboost) (0.10.0)\n",
            "Requirement already satisfied: kiwisolver>=1.0.1 in /usr/local/lib/python3.6/dist-packages (from matplotlib->catboost) (1.2.0)\n",
            "Installing collected packages: catboost\n",
            "Successfully installed catboost-0.24.1\n"
          ],
          "name": "stdout"
        }
      ]
    },
    {
      "cell_type": "code",
      "metadata": {
        "id": "P85oIlmYSjqn",
        "colab_type": "code",
        "colab": {
          "base_uri": "https://localhost:8080/",
          "height": 71
        },
        "outputId": "a56b0ee2-994e-402b-9305-f136a28f3daa"
      },
      "source": [
        "#import libraries \n",
        "import numpy as np\n",
        "import pandas as pd\n",
        "#import libraries for visualization\n",
        "import matplotlib.pyplot as plt\n",
        "import seaborn as sns\n",
        "# libraries for machine learning\n",
        "from sklearn import preprocessing\n",
        "from sklearn.model_selection import train_test_split \n",
        "from sklearn.linear_model import LinearRegression\n",
        "from sklearn.linear_model import Ridge\n",
        "from sklearn.ensemble import RandomForestRegressor\n",
        "from sklearn.model_selection import GridSearchCV\n",
        "from catboost import CatBoostRegressor\n",
        "from sklearn.metrics import mean_absolute_error\n",
        "from sklearn.metrics import mean_squared_error\n",
        "from sklearn.metrics import r2_score"
      ],
      "execution_count": 2,
      "outputs": [
        {
          "output_type": "stream",
          "text": [
            "/usr/local/lib/python3.6/dist-packages/statsmodels/tools/_testing.py:19: FutureWarning: pandas.util.testing is deprecated. Use the functions in the public API at pandas.testing instead.\n",
            "  import pandas.util.testing as tm\n"
          ],
          "name": "stderr"
        }
      ]
    },
    {
      "cell_type": "code",
      "metadata": {
        "id": "B3CZc6QzSjqv",
        "colab_type": "code",
        "colab": {}
      },
      "source": [
        "invertebrate_data = pd.read_csv('https://raw.githubusercontent.com/dphi-official/Datasets/master/Invertebrate/Invertebrate_dataset.csv')"
      ],
      "execution_count": 3,
      "outputs": []
    },
    {
      "cell_type": "code",
      "metadata": {
        "id": "J7ulHIQhSjq2",
        "colab_type": "code",
        "colab": {
          "base_uri": "https://localhost:8080/",
          "height": 34
        },
        "outputId": "ea820e83-8e92-41bf-e8d4-6de2432223a0"
      },
      "source": [
        "invertebrate_data.columns"
      ],
      "execution_count": 4,
      "outputs": [
        {
          "output_type": "execute_result",
          "data": {
            "text/plain": [
              "Index(['SWI', 'SWF', 'temperature', 'size', 'management', 'duration'], dtype='object')"
            ]
          },
          "metadata": {
            "tags": []
          },
          "execution_count": 4
        }
      ]
    },
    {
      "cell_type": "markdown",
      "metadata": {
        "id": "zFkIUXZpSjq_",
        "colab_type": "text"
      },
      "source": [
        "Please find the variable description of the dataset variables below:\n",
        "\n",
        "|Column Names|Description|\n",
        "|:----|:----|\n",
        "|SWI|The Shannon-Wiener index for (flying nocturnal) invertebrate diversity on the patch (non-negative, larger values denote higher diversity).|\n",
        "|SWF|An (adjusted) Shannon-Wiener index for floristic diversity on the patch. The interpretation of this metric is the same as for SWI (non-negative, larger values denote higher diversity).|\n",
        "|Temperature|Temperature at the sampling event (in degrees Celsius).|\n",
        "|Size|The size of the sampling patch (in m2)|\n",
        "|Management|The number of years that the patch has been subject to nature management|\n",
        "|Duration|The duration of a sampling event (in minutes)|"
      ]
    },
    {
      "cell_type": "code",
      "metadata": {
        "id": "6S3ZRBv7SjrA",
        "colab_type": "code",
        "colab": {
          "base_uri": "https://localhost:8080/",
          "height": 238
        },
        "outputId": "d93da2f2-2c61-47cd-e053-2c6e88b1adaa"
      },
      "source": [
        "invertebrate_data.info()"
      ],
      "execution_count": 5,
      "outputs": [
        {
          "output_type": "stream",
          "text": [
            "<class 'pandas.core.frame.DataFrame'>\n",
            "RangeIndex: 280 entries, 0 to 279\n",
            "Data columns (total 6 columns):\n",
            " #   Column       Non-Null Count  Dtype  \n",
            "---  ------       --------------  -----  \n",
            " 0   SWI          280 non-null    float64\n",
            " 1   SWF          280 non-null    float64\n",
            " 2   temperature  280 non-null    float64\n",
            " 3   size         280 non-null    float64\n",
            " 4   management   280 non-null    int64  \n",
            " 5   duration     280 non-null    int64  \n",
            "dtypes: float64(4), int64(2)\n",
            "memory usage: 13.2 KB\n"
          ],
          "name": "stdout"
        }
      ]
    },
    {
      "cell_type": "code",
      "metadata": {
        "id": "3wurfH9oSjrF",
        "colab_type": "code",
        "colab": {
          "base_uri": "https://localhost:8080/",
          "height": 34
        },
        "outputId": "92cd1c30-0919-44c2-df7f-1b5a73926201"
      },
      "source": [
        "invertebrate_data.shape"
      ],
      "execution_count": 6,
      "outputs": [
        {
          "output_type": "execute_result",
          "data": {
            "text/plain": [
              "(280, 6)"
            ]
          },
          "metadata": {
            "tags": []
          },
          "execution_count": 6
        }
      ]
    },
    {
      "cell_type": "code",
      "metadata": {
        "id": "6nVVE2i3SjrL",
        "colab_type": "code",
        "colab": {
          "base_uri": "https://localhost:8080/",
          "height": 204
        },
        "outputId": "059a1d9d-285f-48db-cf06-be2fd5a683df"
      },
      "source": [
        "invertebrate_data.head()"
      ],
      "execution_count": 7,
      "outputs": [
        {
          "output_type": "execute_result",
          "data": {
            "text/html": [
              "<div>\n",
              "<style scoped>\n",
              "    .dataframe tbody tr th:only-of-type {\n",
              "        vertical-align: middle;\n",
              "    }\n",
              "\n",
              "    .dataframe tbody tr th {\n",
              "        vertical-align: top;\n",
              "    }\n",
              "\n",
              "    .dataframe thead th {\n",
              "        text-align: right;\n",
              "    }\n",
              "</style>\n",
              "<table border=\"1\" class=\"dataframe\">\n",
              "  <thead>\n",
              "    <tr style=\"text-align: right;\">\n",
              "      <th></th>\n",
              "      <th>SWI</th>\n",
              "      <th>SWF</th>\n",
              "      <th>temperature</th>\n",
              "      <th>size</th>\n",
              "      <th>management</th>\n",
              "      <th>duration</th>\n",
              "    </tr>\n",
              "  </thead>\n",
              "  <tbody>\n",
              "    <tr>\n",
              "      <th>0</th>\n",
              "      <td>0.59</td>\n",
              "      <td>1.30</td>\n",
              "      <td>3.5</td>\n",
              "      <td>0.5</td>\n",
              "      <td>2</td>\n",
              "      <td>20</td>\n",
              "    </tr>\n",
              "    <tr>\n",
              "      <th>1</th>\n",
              "      <td>1.21</td>\n",
              "      <td>1.85</td>\n",
              "      <td>4.6</td>\n",
              "      <td>47.2</td>\n",
              "      <td>3</td>\n",
              "      <td>19</td>\n",
              "    </tr>\n",
              "    <tr>\n",
              "      <th>2</th>\n",
              "      <td>1.08</td>\n",
              "      <td>0.97</td>\n",
              "      <td>4.8</td>\n",
              "      <td>53.3</td>\n",
              "      <td>4</td>\n",
              "      <td>22</td>\n",
              "    </tr>\n",
              "    <tr>\n",
              "      <th>3</th>\n",
              "      <td>1.60</td>\n",
              "      <td>1.67</td>\n",
              "      <td>5.2</td>\n",
              "      <td>27.2</td>\n",
              "      <td>8</td>\n",
              "      <td>20</td>\n",
              "    </tr>\n",
              "    <tr>\n",
              "      <th>4</th>\n",
              "      <td>2.95</td>\n",
              "      <td>2.41</td>\n",
              "      <td>5.7</td>\n",
              "      <td>38.8</td>\n",
              "      <td>6</td>\n",
              "      <td>22</td>\n",
              "    </tr>\n",
              "  </tbody>\n",
              "</table>\n",
              "</div>"
            ],
            "text/plain": [
              "    SWI   SWF  temperature  size  management  duration\n",
              "0  0.59  1.30          3.5   0.5           2        20\n",
              "1  1.21  1.85          4.6  47.2           3        19\n",
              "2  1.08  0.97          4.8  53.3           4        22\n",
              "3  1.60  1.67          5.2  27.2           8        20\n",
              "4  2.95  2.41          5.7  38.8           6        22"
            ]
          },
          "metadata": {
            "tags": []
          },
          "execution_count": 7
        }
      ]
    },
    {
      "cell_type": "code",
      "metadata": {
        "id": "0iB15mPFSjrT",
        "colab_type": "code",
        "colab": {
          "base_uri": "https://localhost:8080/",
          "height": 297
        },
        "outputId": "7c86f0ed-58d8-48a6-e51a-b847d9fec4c4"
      },
      "source": [
        "invertebrate_data.describe()"
      ],
      "execution_count": 8,
      "outputs": [
        {
          "output_type": "execute_result",
          "data": {
            "text/html": [
              "<div>\n",
              "<style scoped>\n",
              "    .dataframe tbody tr th:only-of-type {\n",
              "        vertical-align: middle;\n",
              "    }\n",
              "\n",
              "    .dataframe tbody tr th {\n",
              "        vertical-align: top;\n",
              "    }\n",
              "\n",
              "    .dataframe thead th {\n",
              "        text-align: right;\n",
              "    }\n",
              "</style>\n",
              "<table border=\"1\" class=\"dataframe\">\n",
              "  <thead>\n",
              "    <tr style=\"text-align: right;\">\n",
              "      <th></th>\n",
              "      <th>SWI</th>\n",
              "      <th>SWF</th>\n",
              "      <th>temperature</th>\n",
              "      <th>size</th>\n",
              "      <th>management</th>\n",
              "      <th>duration</th>\n",
              "    </tr>\n",
              "  </thead>\n",
              "  <tbody>\n",
              "    <tr>\n",
              "      <th>count</th>\n",
              "      <td>280.000000</td>\n",
              "      <td>280.000000</td>\n",
              "      <td>280.000000</td>\n",
              "      <td>280.000000</td>\n",
              "      <td>280.000000</td>\n",
              "      <td>280.000000</td>\n",
              "    </tr>\n",
              "    <tr>\n",
              "      <th>mean</th>\n",
              "      <td>1.896714</td>\n",
              "      <td>1.480679</td>\n",
              "      <td>16.372500</td>\n",
              "      <td>41.138214</td>\n",
              "      <td>4.082143</td>\n",
              "      <td>31.307143</td>\n",
              "    </tr>\n",
              "    <tr>\n",
              "      <th>std</th>\n",
              "      <td>0.610995</td>\n",
              "      <td>0.476403</td>\n",
              "      <td>3.619312</td>\n",
              "      <td>19.434496</td>\n",
              "      <td>2.520959</td>\n",
              "      <td>4.198304</td>\n",
              "    </tr>\n",
              "    <tr>\n",
              "      <th>min</th>\n",
              "      <td>0.480000</td>\n",
              "      <td>0.250000</td>\n",
              "      <td>3.500000</td>\n",
              "      <td>0.500000</td>\n",
              "      <td>0.000000</td>\n",
              "      <td>19.000000</td>\n",
              "    </tr>\n",
              "    <tr>\n",
              "      <th>25%</th>\n",
              "      <td>1.507500</td>\n",
              "      <td>1.190000</td>\n",
              "      <td>14.100000</td>\n",
              "      <td>27.275000</td>\n",
              "      <td>2.000000</td>\n",
              "      <td>29.000000</td>\n",
              "    </tr>\n",
              "    <tr>\n",
              "      <th>50%</th>\n",
              "      <td>1.825000</td>\n",
              "      <td>1.495000</td>\n",
              "      <td>17.050000</td>\n",
              "      <td>41.100000</td>\n",
              "      <td>4.000000</td>\n",
              "      <td>32.000000</td>\n",
              "    </tr>\n",
              "    <tr>\n",
              "      <th>75%</th>\n",
              "      <td>2.282500</td>\n",
              "      <td>1.790000</td>\n",
              "      <td>19.125000</td>\n",
              "      <td>54.725000</td>\n",
              "      <td>6.000000</td>\n",
              "      <td>34.000000</td>\n",
              "    </tr>\n",
              "    <tr>\n",
              "      <th>max</th>\n",
              "      <td>3.790000</td>\n",
              "      <td>2.840000</td>\n",
              "      <td>21.600000</td>\n",
              "      <td>94.200000</td>\n",
              "      <td>8.000000</td>\n",
              "      <td>41.000000</td>\n",
              "    </tr>\n",
              "  </tbody>\n",
              "</table>\n",
              "</div>"
            ],
            "text/plain": [
              "              SWI         SWF  temperature        size  management    duration\n",
              "count  280.000000  280.000000   280.000000  280.000000  280.000000  280.000000\n",
              "mean     1.896714    1.480679    16.372500   41.138214    4.082143   31.307143\n",
              "std      0.610995    0.476403     3.619312   19.434496    2.520959    4.198304\n",
              "min      0.480000    0.250000     3.500000    0.500000    0.000000   19.000000\n",
              "25%      1.507500    1.190000    14.100000   27.275000    2.000000   29.000000\n",
              "50%      1.825000    1.495000    17.050000   41.100000    4.000000   32.000000\n",
              "75%      2.282500    1.790000    19.125000   54.725000    6.000000   34.000000\n",
              "max      3.790000    2.840000    21.600000   94.200000    8.000000   41.000000"
            ]
          },
          "metadata": {
            "tags": []
          },
          "execution_count": 8
        }
      ]
    },
    {
      "cell_type": "code",
      "metadata": {
        "id": "qgsUARZsSjrZ",
        "colab_type": "code",
        "colab": {
          "base_uri": "https://localhost:8080/",
          "height": 235
        },
        "outputId": "6ce30c06-49c9-4f32-e0e8-4cd305466331"
      },
      "source": [
        "invertebrate_data.corr()"
      ],
      "execution_count": 9,
      "outputs": [
        {
          "output_type": "execute_result",
          "data": {
            "text/html": [
              "<div>\n",
              "<style scoped>\n",
              "    .dataframe tbody tr th:only-of-type {\n",
              "        vertical-align: middle;\n",
              "    }\n",
              "\n",
              "    .dataframe tbody tr th {\n",
              "        vertical-align: top;\n",
              "    }\n",
              "\n",
              "    .dataframe thead th {\n",
              "        text-align: right;\n",
              "    }\n",
              "</style>\n",
              "<table border=\"1\" class=\"dataframe\">\n",
              "  <thead>\n",
              "    <tr style=\"text-align: right;\">\n",
              "      <th></th>\n",
              "      <th>SWI</th>\n",
              "      <th>SWF</th>\n",
              "      <th>temperature</th>\n",
              "      <th>size</th>\n",
              "      <th>management</th>\n",
              "      <th>duration</th>\n",
              "    </tr>\n",
              "  </thead>\n",
              "  <tbody>\n",
              "    <tr>\n",
              "      <th>SWI</th>\n",
              "      <td>1.000000</td>\n",
              "      <td>0.680071</td>\n",
              "      <td>0.254698</td>\n",
              "      <td>-0.016571</td>\n",
              "      <td>0.300495</td>\n",
              "      <td>0.214081</td>\n",
              "    </tr>\n",
              "    <tr>\n",
              "      <th>SWF</th>\n",
              "      <td>0.680071</td>\n",
              "      <td>1.000000</td>\n",
              "      <td>-0.065078</td>\n",
              "      <td>0.004630</td>\n",
              "      <td>0.077577</td>\n",
              "      <td>-0.093165</td>\n",
              "    </tr>\n",
              "    <tr>\n",
              "      <th>temperature</th>\n",
              "      <td>0.254698</td>\n",
              "      <td>-0.065078</td>\n",
              "      <td>1.000000</td>\n",
              "      <td>0.006262</td>\n",
              "      <td>-0.007137</td>\n",
              "      <td>0.874055</td>\n",
              "    </tr>\n",
              "    <tr>\n",
              "      <th>size</th>\n",
              "      <td>-0.016571</td>\n",
              "      <td>0.004630</td>\n",
              "      <td>0.006262</td>\n",
              "      <td>1.000000</td>\n",
              "      <td>0.020412</td>\n",
              "      <td>-0.043318</td>\n",
              "    </tr>\n",
              "    <tr>\n",
              "      <th>management</th>\n",
              "      <td>0.300495</td>\n",
              "      <td>0.077577</td>\n",
              "      <td>-0.007137</td>\n",
              "      <td>0.020412</td>\n",
              "      <td>1.000000</td>\n",
              "      <td>-0.017970</td>\n",
              "    </tr>\n",
              "    <tr>\n",
              "      <th>duration</th>\n",
              "      <td>0.214081</td>\n",
              "      <td>-0.093165</td>\n",
              "      <td>0.874055</td>\n",
              "      <td>-0.043318</td>\n",
              "      <td>-0.017970</td>\n",
              "      <td>1.000000</td>\n",
              "    </tr>\n",
              "  </tbody>\n",
              "</table>\n",
              "</div>"
            ],
            "text/plain": [
              "                  SWI       SWF  temperature      size  management  duration\n",
              "SWI          1.000000  0.680071     0.254698 -0.016571    0.300495  0.214081\n",
              "SWF          0.680071  1.000000    -0.065078  0.004630    0.077577 -0.093165\n",
              "temperature  0.254698 -0.065078     1.000000  0.006262   -0.007137  0.874055\n",
              "size        -0.016571  0.004630     0.006262  1.000000    0.020412 -0.043318\n",
              "management   0.300495  0.077577    -0.007137  0.020412    1.000000 -0.017970\n",
              "duration     0.214081 -0.093165     0.874055 -0.043318   -0.017970  1.000000"
            ]
          },
          "metadata": {
            "tags": []
          },
          "execution_count": 9
        }
      ]
    },
    {
      "cell_type": "code",
      "metadata": {
        "id": "D1oLPVcvSjrf",
        "colab_type": "code",
        "colab": {
          "base_uri": "https://localhost:8080/",
          "height": 450
        },
        "outputId": "466a6794-8dd2-4efc-bd82-855a1ff10bd6"
      },
      "source": [
        "invertebrate_data.groupby('SWI').mean()"
      ],
      "execution_count": 10,
      "outputs": [
        {
          "output_type": "execute_result",
          "data": {
            "text/html": [
              "<div>\n",
              "<style scoped>\n",
              "    .dataframe tbody tr th:only-of-type {\n",
              "        vertical-align: middle;\n",
              "    }\n",
              "\n",
              "    .dataframe tbody tr th {\n",
              "        vertical-align: top;\n",
              "    }\n",
              "\n",
              "    .dataframe thead th {\n",
              "        text-align: right;\n",
              "    }\n",
              "</style>\n",
              "<table border=\"1\" class=\"dataframe\">\n",
              "  <thead>\n",
              "    <tr style=\"text-align: right;\">\n",
              "      <th></th>\n",
              "      <th>SWF</th>\n",
              "      <th>temperature</th>\n",
              "      <th>size</th>\n",
              "      <th>management</th>\n",
              "      <th>duration</th>\n",
              "    </tr>\n",
              "    <tr>\n",
              "      <th>SWI</th>\n",
              "      <th></th>\n",
              "      <th></th>\n",
              "      <th></th>\n",
              "      <th></th>\n",
              "      <th></th>\n",
              "    </tr>\n",
              "  </thead>\n",
              "  <tbody>\n",
              "    <tr>\n",
              "      <th>0.48</th>\n",
              "      <td>0.71</td>\n",
              "      <td>9.3</td>\n",
              "      <td>31.6</td>\n",
              "      <td>0.0</td>\n",
              "      <td>22.0</td>\n",
              "    </tr>\n",
              "    <tr>\n",
              "      <th>0.54</th>\n",
              "      <td>0.64</td>\n",
              "      <td>15.6</td>\n",
              "      <td>19.5</td>\n",
              "      <td>0.0</td>\n",
              "      <td>32.0</td>\n",
              "    </tr>\n",
              "    <tr>\n",
              "      <th>0.59</th>\n",
              "      <td>1.30</td>\n",
              "      <td>3.5</td>\n",
              "      <td>0.5</td>\n",
              "      <td>2.0</td>\n",
              "      <td>20.0</td>\n",
              "    </tr>\n",
              "    <tr>\n",
              "      <th>0.63</th>\n",
              "      <td>0.58</td>\n",
              "      <td>18.8</td>\n",
              "      <td>69.8</td>\n",
              "      <td>2.0</td>\n",
              "      <td>32.0</td>\n",
              "    </tr>\n",
              "    <tr>\n",
              "      <th>0.68</th>\n",
              "      <td>1.07</td>\n",
              "      <td>16.8</td>\n",
              "      <td>7.1</td>\n",
              "      <td>0.0</td>\n",
              "      <td>34.0</td>\n",
              "    </tr>\n",
              "    <tr>\n",
              "      <th>...</th>\n",
              "      <td>...</td>\n",
              "      <td>...</td>\n",
              "      <td>...</td>\n",
              "      <td>...</td>\n",
              "      <td>...</td>\n",
              "    </tr>\n",
              "    <tr>\n",
              "      <th>3.38</th>\n",
              "      <td>2.39</td>\n",
              "      <td>19.7</td>\n",
              "      <td>54.6</td>\n",
              "      <td>6.0</td>\n",
              "      <td>35.0</td>\n",
              "    </tr>\n",
              "    <tr>\n",
              "      <th>3.44</th>\n",
              "      <td>2.42</td>\n",
              "      <td>14.8</td>\n",
              "      <td>27.1</td>\n",
              "      <td>7.0</td>\n",
              "      <td>29.0</td>\n",
              "    </tr>\n",
              "    <tr>\n",
              "      <th>3.58</th>\n",
              "      <td>2.51</td>\n",
              "      <td>14.6</td>\n",
              "      <td>47.9</td>\n",
              "      <td>8.0</td>\n",
              "      <td>26.0</td>\n",
              "    </tr>\n",
              "    <tr>\n",
              "      <th>3.69</th>\n",
              "      <td>2.30</td>\n",
              "      <td>19.9</td>\n",
              "      <td>2.9</td>\n",
              "      <td>8.0</td>\n",
              "      <td>35.0</td>\n",
              "    </tr>\n",
              "    <tr>\n",
              "      <th>3.79</th>\n",
              "      <td>2.84</td>\n",
              "      <td>13.2</td>\n",
              "      <td>56.3</td>\n",
              "      <td>8.0</td>\n",
              "      <td>27.0</td>\n",
              "    </tr>\n",
              "  </tbody>\n",
              "</table>\n",
              "<p>156 rows × 5 columns</p>\n",
              "</div>"
            ],
            "text/plain": [
              "       SWF  temperature  size  management  duration\n",
              "SWI                                                \n",
              "0.48  0.71          9.3  31.6         0.0      22.0\n",
              "0.54  0.64         15.6  19.5         0.0      32.0\n",
              "0.59  1.30          3.5   0.5         2.0      20.0\n",
              "0.63  0.58         18.8  69.8         2.0      32.0\n",
              "0.68  1.07         16.8   7.1         0.0      34.0\n",
              "...    ...          ...   ...         ...       ...\n",
              "3.38  2.39         19.7  54.6         6.0      35.0\n",
              "3.44  2.42         14.8  27.1         7.0      29.0\n",
              "3.58  2.51         14.6  47.9         8.0      26.0\n",
              "3.69  2.30         19.9   2.9         8.0      35.0\n",
              "3.79  2.84         13.2  56.3         8.0      27.0\n",
              "\n",
              "[156 rows x 5 columns]"
            ]
          },
          "metadata": {
            "tags": []
          },
          "execution_count": 10
        }
      ]
    },
    {
      "cell_type": "code",
      "metadata": {
        "id": "QkRn_S0NSjrk",
        "colab_type": "code",
        "colab": {
          "base_uri": "https://localhost:8080/",
          "height": 153
        },
        "outputId": "d1f612ed-8d15-4a22-9e74-d74cdd897461"
      },
      "source": [
        "invertebrate_data['SWI'].value_counts(bins = 7)"
      ],
      "execution_count": 11,
      "outputs": [
        {
          "output_type": "execute_result",
          "data": {
            "text/plain": [
              "(1.426, 1.899]    93\n",
              "(1.899, 2.371]    63\n",
              "(0.953, 1.426]    48\n",
              "(2.371, 2.844]    43\n",
              "(2.844, 3.317]    17\n",
              "(0.476, 0.953]    11\n",
              "(3.317, 3.79]      5\n",
              "Name: SWI, dtype: int64"
            ]
          },
          "metadata": {
            "tags": []
          },
          "execution_count": 11
        }
      ]
    },
    {
      "cell_type": "code",
      "metadata": {
        "id": "P3KlqvioSjr2",
        "colab_type": "code",
        "colab": {
          "base_uri": "https://localhost:8080/",
          "height": 350
        },
        "outputId": "dc3adc9a-c24a-4301-d502-61a0950e2088"
      },
      "source": [
        "invertebrate_data['SWI'].hist(figsize=(20,5))\n",
        "plt.xlabel('SWI')\n",
        "plt.title('Histogram');"
      ],
      "execution_count": 12,
      "outputs": [
        {
          "output_type": "display_data",
          "data": {
            "image/png": "[encoded data removed]",
            "text/plain": [
              "<Figure size 1440x360 with 1 Axes>"
            ]
          },
          "metadata": {
            "tags": [],
            "needs_background": "light"
          }
        }
      ]
    },
    {
      "cell_type": "code",
      "metadata": {
        "id": "CdKDFuKOSjr-",
        "colab_type": "code",
        "colab": {
          "base_uri": "https://localhost:8080/",
          "height": 499
        },
        "outputId": "2175834d-9b20-4759-ad2c-aabf2bba6f77"
      },
      "source": [
        "# plot original distribution plot\n",
        "fig, (ax1) = plt.subplots(ncols=1, figsize=(10, 8))\n",
        "ax1.set_title('Original Distributions')\n",
        "\n",
        "#sns.kdeplot(invertebrate_data['SWI'], ax=ax1)\n",
        "sns.kdeplot(invertebrate_data['SWF'], ax=ax1)\n",
        "sns.kdeplot(invertebrate_data['temperature'], ax=ax1)\n",
        "sns.kdeplot(invertebrate_data['size'], ax=ax1)\n",
        "sns.kdeplot(invertebrate_data['management'], ax=ax1);\n",
        "sns.kdeplot(invertebrate_data['duration'], ax=ax1);\n"
      ],
      "execution_count": 13,
      "outputs": [
        {
          "output_type": "display_data",
          "data": {
            "image/png": "[encoded data removed]",
            "text/plain": [
              "<Figure size 720x576 with 1 Axes>"
            ]
          },
          "metadata": {
            "tags": [],
            "needs_background": "light"
          }
        }
      ]
    },
    {
      "cell_type": "code",
      "metadata": {
        "id": "iz5jjyDoSjsD",
        "colab_type": "code",
        "colab": {
          "base_uri": "https://localhost:8080/",
          "height": 204
        },
        "outputId": "b3a73405-f020-48a3-a475-cd3ad8e31120"
      },
      "source": [
        "minmax_invertebratedata = invertebrate_data.drop('SWI', axis = 1)\n",
        "col_name = invertebrate_data.drop(['SWI'], axis = 1).columns[:]\n",
        "#print(invertebrate_data.head())\n",
        "#print(minmax_invertebratedata[:5])\n",
        "minmax_scaler = preprocessing.MinMaxScaler()\n",
        "minmax_invertebratedata = minmax_scaler.fit_transform(minmax_invertebratedata)\n",
        "minmax_invertebratedata = pd.DataFrame(minmax_invertebratedata, columns = col_name)\n",
        "minmax_invertebratedata['SWI'] = invertebrate_data['SWI']\n",
        "minmax_invertebratedata.head()"
      ],
      "execution_count": 14,
      "outputs": [
        {
          "output_type": "execute_result",
          "data": {
            "text/html": [
              "<div>\n",
              "<style scoped>\n",
              "    .dataframe tbody tr th:only-of-type {\n",
              "        vertical-align: middle;\n",
              "    }\n",
              "\n",
              "    .dataframe tbody tr th {\n",
              "        vertical-align: top;\n",
              "    }\n",
              "\n",
              "    .dataframe thead th {\n",
              "        text-align: right;\n",
              "    }\n",
              "</style>\n",
              "<table border=\"1\" class=\"dataframe\">\n",
              "  <thead>\n",
              "    <tr style=\"text-align: right;\">\n",
              "      <th></th>\n",
              "      <th>SWF</th>\n",
              "      <th>temperature</th>\n",
              "      <th>size</th>\n",
              "      <th>management</th>\n",
              "      <th>duration</th>\n",
              "      <th>SWI</th>\n",
              "    </tr>\n",
              "  </thead>\n",
              "  <tbody>\n",
              "    <tr>\n",
              "      <th>0</th>\n",
              "      <td>0.405405</td>\n",
              "      <td>0.000000</td>\n",
              "      <td>0.000000</td>\n",
              "      <td>0.250</td>\n",
              "      <td>0.045455</td>\n",
              "      <td>0.59</td>\n",
              "    </tr>\n",
              "    <tr>\n",
              "      <th>1</th>\n",
              "      <td>0.617761</td>\n",
              "      <td>0.060773</td>\n",
              "      <td>0.498399</td>\n",
              "      <td>0.375</td>\n",
              "      <td>0.000000</td>\n",
              "      <td>1.21</td>\n",
              "    </tr>\n",
              "    <tr>\n",
              "      <th>2</th>\n",
              "      <td>0.277992</td>\n",
              "      <td>0.071823</td>\n",
              "      <td>0.563501</td>\n",
              "      <td>0.500</td>\n",
              "      <td>0.136364</td>\n",
              "      <td>1.08</td>\n",
              "    </tr>\n",
              "    <tr>\n",
              "      <th>3</th>\n",
              "      <td>0.548263</td>\n",
              "      <td>0.093923</td>\n",
              "      <td>0.284952</td>\n",
              "      <td>1.000</td>\n",
              "      <td>0.045455</td>\n",
              "      <td>1.60</td>\n",
              "    </tr>\n",
              "    <tr>\n",
              "      <th>4</th>\n",
              "      <td>0.833977</td>\n",
              "      <td>0.121547</td>\n",
              "      <td>0.408751</td>\n",
              "      <td>0.750</td>\n",
              "      <td>0.136364</td>\n",
              "      <td>2.95</td>\n",
              "    </tr>\n",
              "  </tbody>\n",
              "</table>\n",
              "</div>"
            ],
            "text/plain": [
              "        SWF  temperature      size  management  duration   SWI\n",
              "0  0.405405     0.000000  0.000000       0.250  0.045455  0.59\n",
              "1  0.617761     0.060773  0.498399       0.375  0.000000  1.21\n",
              "2  0.277992     0.071823  0.563501       0.500  0.136364  1.08\n",
              "3  0.548263     0.093923  0.284952       1.000  0.045455  1.60\n",
              "4  0.833977     0.121547  0.408751       0.750  0.136364  2.95"
            ]
          },
          "metadata": {
            "tags": []
          },
          "execution_count": 14
        }
      ]
    },
    {
      "cell_type": "code",
      "metadata": {
        "id": "or-Bd6lBSjsI",
        "colab_type": "code",
        "colab": {
          "base_uri": "https://localhost:8080/",
          "height": 499
        },
        "outputId": "970cb834-aac5-4e1c-f1a1-7c919bc1d7f5"
      },
      "source": [
        "fig, (ax1) = plt.subplots(ncols=1, figsize=(10, 8))\n",
        "ax1.set_title('Original Distributions')\n",
        "\n",
        "#sns.kdeplot(invertebrate_data['SWI'], ax=ax1)\n",
        "sns.kdeplot(minmax_invertebratedata['SWF'], ax=ax1)\n",
        "sns.kdeplot(minmax_invertebratedata['temperature'], ax=ax1)\n",
        "sns.kdeplot(minmax_invertebratedata['size'], ax=ax1)\n",
        "sns.kdeplot(minmax_invertebratedata['management'], ax=ax1);\n",
        "sns.kdeplot(minmax_invertebratedata['duration'], ax=ax1);"
      ],
      "execution_count": 15,
      "outputs": [
        {
          "output_type": "display_data",
          "data": {
            "image/png": "[encoded data removed]",
            "text/plain": [
              "<Figure size 720x576 with 1 Axes>"
            ]
          },
          "metadata": {
            "tags": [],
            "needs_background": "light"
          }
        }
      ]
    },
    {
      "cell_type": "code",
      "metadata": {
        "id": "vYjWwLBpSjsO",
        "colab_type": "code",
        "colab": {
          "base_uri": "https://localhost:8080/",
          "height": 235
        },
        "outputId": "a6af3fd3-af87-4d7b-a6ee-9656c55616c0"
      },
      "source": [
        "minmax_invertebratedata.corr()"
      ],
      "execution_count": 16,
      "outputs": [
        {
          "output_type": "execute_result",
          "data": {
            "text/html": [
              "<div>\n",
              "<style scoped>\n",
              "    .dataframe tbody tr th:only-of-type {\n",
              "        vertical-align: middle;\n",
              "    }\n",
              "\n",
              "    .dataframe tbody tr th {\n",
              "        vertical-align: top;\n",
              "    }\n",
              "\n",
              "    .dataframe thead th {\n",
              "        text-align: right;\n",
              "    }\n",
              "</style>\n",
              "<table border=\"1\" class=\"dataframe\">\n",
              "  <thead>\n",
              "    <tr style=\"text-align: right;\">\n",
              "      <th></th>\n",
              "      <th>SWF</th>\n",
              "      <th>temperature</th>\n",
              "      <th>size</th>\n",
              "      <th>management</th>\n",
              "      <th>duration</th>\n",
              "      <th>SWI</th>\n",
              "    </tr>\n",
              "  </thead>\n",
              "  <tbody>\n",
              "    <tr>\n",
              "      <th>SWF</th>\n",
              "      <td>1.000000</td>\n",
              "      <td>-0.065078</td>\n",
              "      <td>0.004630</td>\n",
              "      <td>0.077577</td>\n",
              "      <td>-0.093165</td>\n",
              "      <td>0.680071</td>\n",
              "    </tr>\n",
              "    <tr>\n",
              "      <th>temperature</th>\n",
              "      <td>-0.065078</td>\n",
              "      <td>1.000000</td>\n",
              "      <td>0.006262</td>\n",
              "      <td>-0.007137</td>\n",
              "      <td>0.874055</td>\n",
              "      <td>0.254698</td>\n",
              "    </tr>\n",
              "    <tr>\n",
              "      <th>size</th>\n",
              "      <td>0.004630</td>\n",
              "      <td>0.006262</td>\n",
              "      <td>1.000000</td>\n",
              "      <td>0.020412</td>\n",
              "      <td>-0.043318</td>\n",
              "      <td>-0.016571</td>\n",
              "    </tr>\n",
              "    <tr>\n",
              "      <th>management</th>\n",
              "      <td>0.077577</td>\n",
              "      <td>-0.007137</td>\n",
              "      <td>0.020412</td>\n",
              "      <td>1.000000</td>\n",
              "      <td>-0.017970</td>\n",
              "      <td>0.300495</td>\n",
              "    </tr>\n",
              "    <tr>\n",
              "      <th>duration</th>\n",
              "      <td>-0.093165</td>\n",
              "      <td>0.874055</td>\n",
              "      <td>-0.043318</td>\n",
              "      <td>-0.017970</td>\n",
              "      <td>1.000000</td>\n",
              "      <td>0.214081</td>\n",
              "    </tr>\n",
              "    <tr>\n",
              "      <th>SWI</th>\n",
              "      <td>0.680071</td>\n",
              "      <td>0.254698</td>\n",
              "      <td>-0.016571</td>\n",
              "      <td>0.300495</td>\n",
              "      <td>0.214081</td>\n",
              "      <td>1.000000</td>\n",
              "    </tr>\n",
              "  </tbody>\n",
              "</table>\n",
              "</div>"
            ],
            "text/plain": [
              "                  SWF  temperature      size  management  duration       SWI\n",
              "SWF          1.000000    -0.065078  0.004630    0.077577 -0.093165  0.680071\n",
              "temperature -0.065078     1.000000  0.006262   -0.007137  0.874055  0.254698\n",
              "size         0.004630     0.006262  1.000000    0.020412 -0.043318 -0.016571\n",
              "management   0.077577    -0.007137  0.020412    1.000000 -0.017970  0.300495\n",
              "duration    -0.093165     0.874055 -0.043318   -0.017970  1.000000  0.214081\n",
              "SWI          0.680071     0.254698 -0.016571    0.300495  0.214081  1.000000"
            ]
          },
          "metadata": {
            "tags": []
          },
          "execution_count": 16
        }
      ]
    },
    {
      "cell_type": "code",
      "metadata": {
        "id": "X70ZywrKSjsW",
        "colab_type": "code",
        "colab": {}
      },
      "source": [
        "# split data into input feature X and target variable y\n",
        "X = minmax_invertebratedata.drop(['SWI'], axis = 1)\n",
        "y = minmax_invertebratedata['SWI']\n",
        "\n",
        "# split input feature X and target variable y in train and test set with 70:30 ratio\n",
        "X_train, X_test, y_train, y_test = train_test_split(X, y, test_size = 0.30, random_state = 42)"
      ],
      "execution_count": 17,
      "outputs": []
    },
    {
      "cell_type": "code",
      "metadata": {
        "id": "PIA_VjKdSjsk",
        "colab_type": "code",
        "colab": {
          "base_uri": "https://localhost:8080/",
          "height": 34
        },
        "outputId": "77b6e4a3-c761-4a8c-8f0f-613284b73258"
      },
      "source": [
        "# model linear regression\n",
        "lr = LinearRegression()\n",
        "# Train the model on the training dataset\n",
        "lr.fit(X_train, y_train)"
      ],
      "execution_count": 18,
      "outputs": [
        {
          "output_type": "execute_result",
          "data": {
            "text/plain": [
              "LinearRegression(copy_X=True, fit_intercept=True, n_jobs=None, normalize=False)"
            ]
          },
          "metadata": {
            "tags": []
          },
          "execution_count": 18
        }
      ]
    },
    {
      "cell_type": "code",
      "metadata": {
        "id": "rvNh68HFSjsq",
        "colab_type": "code",
        "colab": {}
      },
      "source": [
        "pred = lr.predict(X_test)"
      ],
      "execution_count": 19,
      "outputs": []
    },
    {
      "cell_type": "code",
      "metadata": {
        "id": "5WUQT0-DSjsw",
        "colab_type": "code",
        "colab": {
          "base_uri": "https://localhost:8080/",
          "height": 34
        },
        "outputId": "42f1fc92-8da2-4da7-d9d3-601e66905ed1"
      },
      "source": [
        "lr.score(X_test, y_test)"
      ],
      "execution_count": 20,
      "outputs": [
        {
          "output_type": "execute_result",
          "data": {
            "text/plain": [
              "0.5689503442903747"
            ]
          },
          "metadata": {
            "tags": []
          },
          "execution_count": 20
        }
      ]
    },
    {
      "cell_type": "code",
      "metadata": {
        "id": "2b37tTVoSjtG",
        "colab_type": "code",
        "colab": {
          "base_uri": "https://localhost:8080/",
          "height": 34
        },
        "outputId": "ced5537d-a924-4cd8-8298-e419ea5981b1"
      },
      "source": [
        "r2_score(y_test, pred)"
      ],
      "execution_count": 21,
      "outputs": [
        {
          "output_type": "execute_result",
          "data": {
            "text/plain": [
              "0.5689503442903747"
            ]
          },
          "metadata": {
            "tags": []
          },
          "execution_count": 21
        }
      ]
    },
    {
      "cell_type": "code",
      "metadata": {
        "id": "py65n926SjtN",
        "colab_type": "code",
        "colab": {
          "base_uri": "https://localhost:8080/",
          "height": 68
        },
        "outputId": "7979e4df-f401-4df9-fe10-4781ed8ca2ab"
      },
      "source": [
        "#evaluating the performance of the model\n",
        "#MAE\n",
        "print(mean_absolute_error(y_test, pred), end='\\n')\n",
        "#MSE\n",
        "print(mean_squared_error(y_test, pred), end='\\n')\n",
        "#RMSE\n",
        "print(np.sqrt(mean_squared_error(y_test, pred)))"
      ],
      "execution_count": 22,
      "outputs": [
        {
          "output_type": "stream",
          "text": [
            "0.2987355434848616\n",
            "0.15269100177691422\n",
            "0.39075695998524995\n"
          ],
          "name": "stdout"
        }
      ]
    },
    {
      "cell_type": "code",
      "metadata": {
        "id": "xWDzZ-b2SjtS",
        "colab_type": "code",
        "colab": {}
      },
      "source": [
        "test_new = pd.read_csv('https://raw.githubusercontent.com/dphi-official/Datasets/master/Invertebrate/Invertebrate_new_test_data.csv')"
      ],
      "execution_count": 23,
      "outputs": []
    },
    {
      "cell_type": "code",
      "metadata": {
        "id": "K2DzZQ-HSjtY",
        "colab_type": "code",
        "colab": {
          "base_uri": "https://localhost:8080/",
          "height": 34
        },
        "outputId": "827ef780-cbc9-4cc5-e218-0d080460e342"
      },
      "source": [
        "test_new.shape"
      ],
      "execution_count": 24,
      "outputs": [
        {
          "output_type": "execute_result",
          "data": {
            "text/plain": [
              "(120, 5)"
            ]
          },
          "metadata": {
            "tags": []
          },
          "execution_count": 24
        }
      ]
    },
    {
      "cell_type": "code",
      "metadata": {
        "id": "cZ4d8m9OSjte",
        "colab_type": "code",
        "colab": {
          "base_uri": "https://localhost:8080/",
          "height": 204
        },
        "outputId": "a095ad60-cf45-4aa8-e089-110a83d65beb"
      },
      "source": [
        "test_new.head()"
      ],
      "execution_count": 25,
      "outputs": [
        {
          "output_type": "execute_result",
          "data": {
            "text/html": [
              "<div>\n",
              "<style scoped>\n",
              "    .dataframe tbody tr th:only-of-type {\n",
              "        vertical-align: middle;\n",
              "    }\n",
              "\n",
              "    .dataframe tbody tr th {\n",
              "        vertical-align: top;\n",
              "    }\n",
              "\n",
              "    .dataframe thead th {\n",
              "        text-align: right;\n",
              "    }\n",
              "</style>\n",
              "<table border=\"1\" class=\"dataframe\">\n",
              "  <thead>\n",
              "    <tr style=\"text-align: right;\">\n",
              "      <th></th>\n",
              "      <th>SWF</th>\n",
              "      <th>temperature</th>\n",
              "      <th>size</th>\n",
              "      <th>management</th>\n",
              "      <th>duration</th>\n",
              "    </tr>\n",
              "  </thead>\n",
              "  <tbody>\n",
              "    <tr>\n",
              "      <th>0</th>\n",
              "      <td>0.86</td>\n",
              "      <td>21.6</td>\n",
              "      <td>21.6</td>\n",
              "      <td>5</td>\n",
              "      <td>32</td>\n",
              "    </tr>\n",
              "    <tr>\n",
              "      <th>1</th>\n",
              "      <td>1.30</td>\n",
              "      <td>21.6</td>\n",
              "      <td>23.7</td>\n",
              "      <td>4</td>\n",
              "      <td>35</td>\n",
              "    </tr>\n",
              "    <tr>\n",
              "      <th>2</th>\n",
              "      <td>1.79</td>\n",
              "      <td>21.7</td>\n",
              "      <td>32.9</td>\n",
              "      <td>3</td>\n",
              "      <td>39</td>\n",
              "    </tr>\n",
              "    <tr>\n",
              "      <th>3</th>\n",
              "      <td>1.92</td>\n",
              "      <td>21.8</td>\n",
              "      <td>47.5</td>\n",
              "      <td>7</td>\n",
              "      <td>34</td>\n",
              "    </tr>\n",
              "    <tr>\n",
              "      <th>4</th>\n",
              "      <td>0.90</td>\n",
              "      <td>21.8</td>\n",
              "      <td>42.8</td>\n",
              "      <td>6</td>\n",
              "      <td>35</td>\n",
              "    </tr>\n",
              "  </tbody>\n",
              "</table>\n",
              "</div>"
            ],
            "text/plain": [
              "    SWF  temperature  size  management  duration\n",
              "0  0.86         21.6  21.6           5        32\n",
              "1  1.30         21.6  23.7           4        35\n",
              "2  1.79         21.7  32.9           3        39\n",
              "3  1.92         21.8  47.5           7        34\n",
              "4  0.90         21.8  42.8           6        35"
            ]
          },
          "metadata": {
            "tags": []
          },
          "execution_count": 25
        }
      ]
    },
    {
      "cell_type": "code",
      "metadata": {
        "id": "K3bgkOStSjto",
        "colab_type": "code",
        "colab": {}
      },
      "source": [
        "minmax_testnew = minmax_scaler.fit_transform(test_new)"
      ],
      "execution_count": 26,
      "outputs": []
    },
    {
      "cell_type": "code",
      "metadata": {
        "id": "2vR4P9_CSjty",
        "colab_type": "code",
        "colab": {
          "base_uri": "https://localhost:8080/",
          "height": 1000
        },
        "outputId": "f7910afd-24bd-47b5-c1d2-06581f097206"
      },
      "source": [
        "minmax_testnew"
      ],
      "execution_count": 27,
      "outputs": [
        {
          "output_type": "execute_result",
          "data": {
            "text/plain": [
              "array([[0.24313725, 0.        , 0.20547945, 0.625     , 0.47826087],\n",
              "       [0.41568627, 0.        , 0.22760801, 0.5       , 0.60869565],\n",
              "       [0.60784314, 0.00833333, 0.32455216, 0.375     , 0.7826087 ],\n",
              "       [0.65882353, 0.01666667, 0.47839831, 0.875     , 0.56521739],\n",
              "       [0.25882353, 0.01666667, 0.4288725 , 0.75      , 0.60869565],\n",
              "       [0.8627451 , 0.01666667, 0.60168599, 0.875     , 0.73913043],\n",
              "       [0.62352941, 0.01666667, 0.57955743, 0.375     , 0.73913043],\n",
              "       [0.52156863, 0.01666667, 0.32876712, 0.625     , 0.69565217],\n",
              "       [0.40784314, 0.01666667, 0.2739726 , 0.375     , 0.7826087 ],\n",
              "       [0.45098039, 0.03333333, 0.43519494, 0.25      , 0.69565217],\n",
              "       [0.68627451, 0.04166667, 0.18967334, 0.125     , 0.73913043],\n",
              "       [0.56078431, 0.04166667, 0.57534247, 0.25      , 0.69565217],\n",
              "       [0.40392157, 0.04166667, 0.13593256, 0.125     , 0.91304348],\n",
              "       [0.74901961, 0.04166667, 0.29926238, 0.875     , 0.7826087 ],\n",
              "       [0.36862745, 0.04166667, 0.44257113, 0.125     , 0.69565217],\n",
              "       [0.42745098, 0.05833333, 0.51106428, 0.625     , 0.60869565],\n",
              "       [0.49803922, 0.05833333, 0.24868282, 0.75      , 0.82608696],\n",
              "       [0.49019608, 0.05833333, 0.54583772, 0.        , 0.65217391],\n",
              "       [0.25490196, 0.05833333, 0.29610116, 1.        , 0.69565217],\n",
              "       [0.43921569, 0.06666667, 0.42255005, 0.375     , 0.60869565],\n",
              "       [0.6627451 , 0.06666667, 0.19915701, 1.        , 0.60869565],\n",
              "       [0.31764706, 0.06666667, 0.69652266, 0.375     , 0.73913043],\n",
              "       [0.65490196, 0.075     , 0.60063224, 0.5       , 0.7826087 ],\n",
              "       [0.56470588, 0.075     , 0.01369863, 0.375     , 0.60869565],\n",
              "       [0.76470588, 0.075     , 0.1317176 , 0.625     , 0.73913043],\n",
              "       [0.46666667, 0.075     , 0.38040042, 1.        , 0.60869565],\n",
              "       [0.27843137, 0.08333333, 0.37829294, 0.5       , 0.73913043],\n",
              "       [0.28235294, 0.09166667, 0.25079031, 1.        , 0.73913043],\n",
              "       [0.86666667, 0.09166667, 0.40252898, 0.625     , 0.73913043],\n",
              "       [0.32941176, 0.10833333, 0.19915701, 0.        , 0.73913043],\n",
              "       [0.57254902, 0.10833333, 0.10221286, 0.25      , 0.73913043],\n",
              "       [0.50980392, 0.11666667, 0.42044257, 0.125     , 0.60869565],\n",
              "       [0.73333333, 0.11666667, 0.3772392 , 0.875     , 0.60869565],\n",
              "       [0.68235294, 0.125     , 0.45943098, 0.75      , 0.7826087 ],\n",
              "       [0.40784314, 0.125     , 0.11169652, 0.        , 0.65217391],\n",
              "       [0.67843137, 0.13333333, 0.25922023, 0.875     , 0.7826087 ],\n",
              "       [0.67058824, 0.13333333, 0.1938883 , 1.        , 0.69565217],\n",
              "       [0.54117647, 0.13333333, 0.73445732, 0.625     , 0.91304348],\n",
              "       [0.2627451 , 0.15      , 0.23393045, 0.5       , 0.73913043],\n",
              "       [0.31372549, 0.15      , 0.35300316, 0.375     , 0.73913043],\n",
              "       [0.18431373, 0.15      , 0.66701791, 0.5       , 0.7826087 ],\n",
              "       [0.6745098 , 0.15      , 0.46786091, 0.375     , 0.7826087 ],\n",
              "       [0.65098039, 0.16666667, 0.12961012, 1.        , 0.82608696],\n",
              "       [0.63529412, 0.16666667, 0.35827187, 1.        , 0.86956522],\n",
              "       [0.4745098 , 0.16666667, 0.6459431 , 0.625     , 0.60869565],\n",
              "       [0.68627451, 0.16666667, 0.16227608, 0.625     , 0.73913043],\n",
              "       [0.19215686, 0.16666667, 0.21390938, 0.75      , 0.60869565],\n",
              "       [0.4627451 , 0.16666667, 0.62065332, 0.375     , 0.69565217],\n",
              "       [0.79215686, 0.175     , 0.56902002, 0.125     , 0.73913043],\n",
              "       [0.86666667, 0.175     , 0.63224447, 0.25      , 1.        ],\n",
              "       [0.36862745, 0.18333333, 0.5890411 , 0.125     , 0.69565217],\n",
              "       [0.60392157, 0.19166667, 0.68914647, 1.        , 0.7826087 ],\n",
              "       [0.56862745, 0.2       , 0.22971549, 1.        , 0.82608696],\n",
              "       [0.6745098 , 0.2       , 0.59220232, 0.25      , 0.65217391],\n",
              "       [0.50588235, 0.2       , 0.38356164, 0.375     , 0.7826087 ],\n",
              "       [0.20784314, 0.20833333, 0.00316122, 0.75      , 0.73913043],\n",
              "       [0.49019608, 0.21666667, 0.60800843, 0.75      , 0.65217391],\n",
              "       [0.08235294, 0.21666667, 0.46575342, 0.5       , 0.73913043],\n",
              "       [0.45098039, 0.21666667, 0.65648051, 0.        , 0.69565217],\n",
              "       [0.7372549 , 0.225     , 0.45626976, 0.        , 1.        ],\n",
              "       [0.59607843, 0.225     , 0.57323498, 0.625     , 0.82608696],\n",
              "       [0.61176471, 0.25      , 0.35511064, 0.75      , 0.82608696],\n",
              "       [0.43921569, 0.25      , 0.44151739, 0.25      , 0.7826087 ],\n",
              "       [0.68627451, 0.25833333, 0.09167545, 0.125     , 0.91304348],\n",
              "       [0.47843137, 0.25833333, 0.37934668, 0.375     , 0.65217391],\n",
              "       [0.49019608, 0.26666667, 0.26343519, 0.375     , 0.82608696],\n",
              "       [0.5372549 , 0.26666667, 0.06638567, 0.25      , 0.7826087 ],\n",
              "       [0.19607843, 0.275     , 0.14120126, 0.125     , 0.7826087 ],\n",
              "       [0.40784314, 0.275     , 0.38988409, 0.        , 0.73913043],\n",
              "       [0.70196078, 0.28333333, 0.        , 0.75      , 0.7826087 ],\n",
              "       [1.        , 0.28333333, 0.5890411 , 0.625     , 0.91304348],\n",
              "       [0.        , 0.28333333, 0.2170706 , 0.375     , 0.69565217],\n",
              "       [0.56470588, 0.3       , 0.43097998, 0.875     , 0.73913043],\n",
              "       [0.38823529, 0.3       , 0.43624868, 1.        , 0.82608696],\n",
              "       [0.72941176, 0.3       , 0.35300316, 1.        , 0.73913043],\n",
              "       [0.46666667, 0.30833333, 0.71548999, 0.125     , 0.82608696],\n",
              "       [0.25882353, 0.30833333, 0.43308746, 0.        , 0.82608696],\n",
              "       [0.70588235, 0.31666667, 0.49315068, 0.875     , 0.69565217],\n",
              "       [0.61960784, 0.325     , 1.        , 0.625     , 0.73913043],\n",
              "       [0.34509804, 0.325     , 0.5374078 , 0.        , 0.82608696],\n",
              "       [0.46666667, 0.325     , 0.24341412, 0.875     , 0.7826087 ],\n",
              "       [0.40784314, 0.34166667, 0.33825079, 0.25      , 0.91304348],\n",
              "       [0.54117647, 0.35833333, 0.40674394, 0.75      , 0.73913043],\n",
              "       [0.9254902 , 0.375     , 0.55637513, 0.75      , 0.65217391],\n",
              "       [0.70980392, 0.38333333, 0.30874605, 0.625     , 0.69565217],\n",
              "       [0.68627451, 0.38333333, 0.46469968, 1.        , 0.65217391],\n",
              "       [0.74509804, 0.38333333, 0.36354057, 0.5       , 0.86956522],\n",
              "       [0.7372549 , 0.39166667, 0.47312961, 0.5       , 0.73913043],\n",
              "       [0.3254902 , 0.39166667, 0.31296101, 0.625     , 0.7826087 ],\n",
              "       [0.80784314, 0.39166667, 0.3719705 , 0.75      , 0.69565217],\n",
              "       [0.5254902 , 0.4       , 0.74183351, 0.25      , 0.73913043],\n",
              "       [0.35294118, 0.40833333, 0.53319283, 1.        , 0.73913043],\n",
              "       [0.48235294, 0.41666667, 0.47207587, 0.5       , 0.52173913],\n",
              "       [0.70196078, 0.41666667, 0.25711275, 1.        , 0.60869565],\n",
              "       [0.16862745, 0.44166667, 0.41201264, 1.        , 0.60869565],\n",
              "       [0.5254902 , 0.45      , 0.18967334, 0.75      , 0.69565217],\n",
              "       [0.4       , 0.45833333, 0.32665964, 0.        , 0.69565217],\n",
              "       [0.45490196, 0.46666667, 0.86617492, 0.25      , 0.56521739],\n",
              "       [0.50196078, 0.475     , 0.39831401, 0.25      , 0.7826087 ],\n",
              "       [0.70980392, 0.48333333, 0.5711275 , 0.25      , 0.69565217],\n",
              "       [0.50588235, 0.50833333, 0.5711275 , 0.25      , 0.69565217],\n",
              "       [0.16862745, 0.50833333, 0.39093783, 0.25      , 0.56521739],\n",
              "       [0.21176471, 0.525     , 0.41938883, 0.5       , 0.60869565],\n",
              "       [0.58431373, 0.54166667, 0.44467861, 0.875     , 0.52173913],\n",
              "       [0.89019608, 0.55833333, 0.5943098 , 0.75      , 0.52173913],\n",
              "       [0.36078431, 0.56666667, 0.42571128, 0.75      , 0.56521739],\n",
              "       [0.23921569, 0.58333333, 0.58693361, 0.875     , 0.56521739],\n",
              "       [0.35294118, 0.58333333, 0.43308746, 0.25      , 0.60869565],\n",
              "       [0.21960784, 0.58333333, 0.48893572, 0.625     , 0.47826087],\n",
              "       [0.34509804, 0.60833333, 0.41412013, 0.75      , 0.47826087],\n",
              "       [0.55686275, 0.61666667, 0.16227608, 0.25      , 0.43478261],\n",
              "       [0.85490196, 0.625     , 0.1833509 , 0.625     , 0.43478261],\n",
              "       [0.36862745, 0.63333333, 0.66174921, 0.75      , 0.34782609],\n",
              "       [0.1254902 , 0.65      , 0.10642782, 0.25      , 0.39130435],\n",
              "       [0.5254902 , 0.73333333, 0.36880927, 0.125     , 0.34782609],\n",
              "       [0.41568627, 0.75833333, 0.22444679, 0.125     , 0.39130435],\n",
              "       [0.36078431, 0.85833333, 0.34984194, 0.875     , 0.17391304],\n",
              "       [0.30980392, 0.9       , 0.49841939, 0.5       , 0.2173913 ],\n",
              "       [0.74901961, 0.95833333, 0.48366702, 0.25      , 0.08695652],\n",
              "       [0.63529412, 1.        , 0.62486828, 0.625     , 0.        ]])"
            ]
          },
          "metadata": {
            "tags": []
          },
          "execution_count": 27
        }
      ]
    },
    {
      "cell_type": "code",
      "metadata": {
        "id": "FFcMlDOgSjt7",
        "colab_type": "code",
        "colab": {}
      },
      "source": [
        "unknownswi = lr.predict(minmax_testnew)"
      ],
      "execution_count": 28,
      "outputs": []
    },
    {
      "cell_type": "code",
      "metadata": {
        "id": "E8nyl24iSjuB",
        "colab_type": "code",
        "colab": {}
      },
      "source": [
        "res = pd.DataFrame(unknownswi)\n",
        "res.index = test_new.index # its important for comparison\n",
        "res.columns = [\"SWI\"]\n",
        "res.to_csv(\"SWI_prediction_results_7030.csv\")      "
      ],
      "execution_count": 29,
      "outputs": []
    },
    {
      "cell_type": "code",
      "metadata": {
        "id": "mdm1Wm4OSjuN",
        "colab_type": "code",
        "colab": {
          "base_uri": "https://localhost:8080/",
          "height": 34
        },
        "outputId": "651c8956-ed83-412e-bab4-353dcd377232"
      },
      "source": [
        "lr.fit(X, y)"
      ],
      "execution_count": 30,
      "outputs": [
        {
          "output_type": "execute_result",
          "data": {
            "text/plain": [
              "LinearRegression(copy_X=True, fit_intercept=True, n_jobs=None, normalize=False)"
            ]
          },
          "metadata": {
            "tags": []
          },
          "execution_count": 30
        }
      ]
    },
    {
      "cell_type": "code",
      "metadata": {
        "id": "J_9KSg4qTKUJ",
        "colab_type": "code",
        "colab": {}
      },
      "source": [
        "unknownswi_a = lr.predict(minmax_testnew)"
      ],
      "execution_count": 31,
      "outputs": []
    },
    {
      "cell_type": "code",
      "metadata": {
        "id": "a389KdIZTbHB",
        "colab_type": "code",
        "colab": {
          "base_uri": "https://localhost:8080/",
          "height": 34
        },
        "outputId": "4f911fe9-f354-452c-cfe1-5de191ff0857"
      },
      "source": [
        "res = pd.DataFrame(unknownswi_a)\n",
        "res.index = test_new.index # its important for comparison\n",
        "res.columns = [\"SWI\"]\n",
        "res.to_csv(\"SWI_prediction_results_7030A.csv\")\n",
        "from google.colab import files     \n",
        "files.download('SWI_prediction_results_7030A.csv')      "
      ],
      "execution_count": 32,
      "outputs": [
        {
          "output_type": "display_data",
          "data": {
            "application/javascript": [
              "\n",
              "    async function download(id, filename, size) {\n",
              "      if (!google.colab.kernel.accessAllowed) {\n",
              "        return;\n",
              "      }\n",
              "      const div = document.createElement('div');\n",
              "      const label = document.createElement('label');\n",
              "      label.textContent = `Downloading \"${filename}\": `;\n",
              "      div.appendChild(label);\n",
              "      const progress = document.createElement('progress');\n",
              "      progress.max = size;\n",
              "      div.appendChild(progress);\n",
              "      document.body.appendChild(div);\n",
              "\n",
              "      const buffers = [];\n",
              "      let downloaded = 0;\n",
              "\n",
              "      const channel = await google.colab.kernel.comms.open(id);\n",
              "      // Send a message to notify the kernel that we're ready.\n",
              "      channel.send({})\n",
              "\n",
              "      for await (const message of channel.messages) {\n",
              "        // Send a message to notify the kernel that we're ready.\n",
              "        channel.send({})\n",
              "        if (message.buffers) {\n",
              "          for (const buffer of message.buffers) {\n",
              "            buffers.push(buffer);\n",
              "            downloaded += buffer.byteLength;\n",
              "            progress.value = downloaded;\n",
              "          }\n",
              "        }\n",
              "      }\n",
              "      const blob = new Blob(buffers, {type: 'application/binary'});\n",
              "      const a = document.createElement('a');\n",
              "      a.href = window.URL.createObjectURL(blob);\n",
              "      a.download = filename;\n",
              "      div.appendChild(a);\n",
              "      a.click();\n",
              "      div.remove();\n",
              "    }\n",
              "  "
            ],
            "text/plain": [
              "<IPython.core.display.Javascript object>"
            ]
          },
          "metadata": {
            "tags": []
          }
        },
        {
          "output_type": "display_data",
          "data": {
            "application/javascript": [
              "download(\"download_6f6592a6-50fd-4739-8667-cda5fc18fa8b\", \"SWI_prediction_results_7030A.csv\", 2620)"
            ],
            "text/plain": [
              "<IPython.core.display.Javascript object>"
            ]
          },
          "metadata": {
            "tags": []
          }
        }
      ]
    },
    {
      "cell_type": "code",
      "metadata": {
        "id": "qFSYMOCRU5bs",
        "colab_type": "code",
        "colab": {
          "base_uri": "https://localhost:8080/",
          "height": 51
        },
        "outputId": "bef00c66-df92-4fbb-dccd-caacbd567214"
      },
      "source": [
        "my_alpha = 0.1\n",
        "my_model = Ridge(alpha = my_alpha)\n",
        "my_model.fit(X, y)"
      ],
      "execution_count": 33,
      "outputs": [
        {
          "output_type": "execute_result",
          "data": {
            "text/plain": [
              "Ridge(alpha=0.1, copy_X=True, fit_intercept=True, max_iter=None,\n",
              "      normalize=False, random_state=None, solver='auto', tol=0.001)"
            ]
          },
          "metadata": {
            "tags": []
          },
          "execution_count": 33
        }
      ]
    },
    {
      "cell_type": "code",
      "metadata": {
        "id": "EFOXXIf2U8vU",
        "colab_type": "code",
        "colab": {}
      },
      "source": [
        "unknownswi_b = lr.predict(minmax_testnew)"
      ],
      "execution_count": 34,
      "outputs": []
    },
    {
      "cell_type": "code",
      "metadata": {
        "id": "nMnJLmA1VEQy",
        "colab_type": "code",
        "colab": {
          "base_uri": "https://localhost:8080/",
          "height": 34
        },
        "outputId": "518847f4-3bc3-4247-c228-6e601f1c93aa"
      },
      "source": [
        "res = pd.DataFrame(unknownswi_a)\n",
        "res.index = test_new.index # its important for comparison\n",
        "res.columns = [\"SWI\"]\n",
        "res.to_csv(\"SWI_prediction_results_7030B.csv\") \n",
        "from google.colab import files     \n",
        "files.download('SWI_prediction_results_7030B.csv')"
      ],
      "execution_count": 35,
      "outputs": [
        {
          "output_type": "display_data",
          "data": {
            "application/javascript": [
              "\n",
              "    async function download(id, filename, size) {\n",
              "      if (!google.colab.kernel.accessAllowed) {\n",
              "        return;\n",
              "      }\n",
              "      const div = document.createElement('div');\n",
              "      const label = document.createElement('label');\n",
              "      label.textContent = `Downloading \"${filename}\": `;\n",
              "      div.appendChild(label);\n",
              "      const progress = document.createElement('progress');\n",
              "      progress.max = size;\n",
              "      div.appendChild(progress);\n",
              "      document.body.appendChild(div);\n",
              "\n",
              "      const buffers = [];\n",
              "      let downloaded = 0;\n",
              "\n",
              "      const channel = await google.colab.kernel.comms.open(id);\n",
              "      // Send a message to notify the kernel that we're ready.\n",
              "      channel.send({})\n",
              "\n",
              "      for await (const message of channel.messages) {\n",
              "        // Send a message to notify the kernel that we're ready.\n",
              "        channel.send({})\n",
              "        if (message.buffers) {\n",
              "          for (const buffer of message.buffers) {\n",
              "            buffers.push(buffer);\n",
              "            downloaded += buffer.byteLength;\n",
              "            progress.value = downloaded;\n",
              "          }\n",
              "        }\n",
              "      }\n",
              "      const blob = new Blob(buffers, {type: 'application/binary'});\n",
              "      const a = document.createElement('a');\n",
              "      a.href = window.URL.createObjectURL(blob);\n",
              "      a.download = filename;\n",
              "      div.appendChild(a);\n",
              "      a.click();\n",
              "      div.remove();\n",
              "    }\n",
              "  "
            ],
            "text/plain": [
              "<IPython.core.display.Javascript object>"
            ]
          },
          "metadata": {
            "tags": []
          }
        },
        {
          "output_type": "display_data",
          "data": {
            "application/javascript": [
              "download(\"download_e253c5a7-d5ab-487c-861a-abe88d11c26f\", \"SWI_prediction_results_7030B.csv\", 2620)"
            ],
            "text/plain": [
              "<IPython.core.display.Javascript object>"
            ]
          },
          "metadata": {
            "tags": []
          }
        }
      ]
    },
    {
      "cell_type": "code",
      "metadata": {
        "id": "h7xi_09BlcCv",
        "colab_type": "code",
        "colab": {}
      },
      "source": [
        "rfg = RandomForestRegressor(random_state = 5)\n",
        "param_grid = param_grid = {\n",
        "    'n_estimators': [100, 200, 300, 1000]\n",
        "}\n",
        "gs = GridSearchCV(estimator = rfg, param_grid = param_grid, cv = 3, n_jobs = -1, verbose = 2)"
      ],
      "execution_count": 36,
      "outputs": []
    },
    {
      "cell_type": "code",
      "metadata": {
        "id": "2SMk2BVwZtl0",
        "colab_type": "code",
        "colab": {
          "base_uri": "https://localhost:8080/",
          "height": 374
        },
        "outputId": "dfe1077c-342c-439b-d0e1-84d3dfe21eba"
      },
      "source": [
        "gs.fit(X, y)"
      ],
      "execution_count": 37,
      "outputs": [
        {
          "output_type": "stream",
          "text": [
            "Fitting 3 folds for each of 4 candidates, totalling 12 fits\n"
          ],
          "name": "stdout"
        },
        {
          "output_type": "stream",
          "text": [
            "[Parallel(n_jobs=-1)]: Using backend LokyBackend with 2 concurrent workers.\n",
            "[Parallel(n_jobs=-1)]: Done  12 out of  12 | elapsed:   16.2s finished\n"
          ],
          "name": "stderr"
        },
        {
          "output_type": "execute_result",
          "data": {
            "text/plain": [
              "GridSearchCV(cv=3, error_score=nan,\n",
              "             estimator=RandomForestRegressor(bootstrap=True, ccp_alpha=0.0,\n",
              "                                             criterion='mse', max_depth=None,\n",
              "                                             max_features='auto',\n",
              "                                             max_leaf_nodes=None,\n",
              "                                             max_samples=None,\n",
              "                                             min_impurity_decrease=0.0,\n",
              "                                             min_impurity_split=None,\n",
              "                                             min_samples_leaf=1,\n",
              "                                             min_samples_split=2,\n",
              "                                             min_weight_fraction_leaf=0.0,\n",
              "                                             n_estimators=100, n_jobs=None,\n",
              "                                             oob_score=False, random_state=5,\n",
              "                                             verbose=0, warm_start=False),\n",
              "             iid='deprecated', n_jobs=-1,\n",
              "             param_grid={'n_estimators': [100, 200, 300, 1000]},\n",
              "             pre_dispatch='2*n_jobs', refit=True, return_train_score=False,\n",
              "             scoring=None, verbose=2)"
            ]
          },
          "metadata": {
            "tags": []
          },
          "execution_count": 37
        }
      ]
    },
    {
      "cell_type": "code",
      "metadata": {
        "id": "c4ckS13pfMwk",
        "colab_type": "code",
        "colab": {
          "base_uri": "https://localhost:8080/",
          "height": 34
        },
        "outputId": "404e7908-9d94-4efa-8a6f-48b8bb60173d"
      },
      "source": [
        "gs.best_params_"
      ],
      "execution_count": 38,
      "outputs": [
        {
          "output_type": "execute_result",
          "data": {
            "text/plain": [
              "{'n_estimators': 1000}"
            ]
          },
          "metadata": {
            "tags": []
          },
          "execution_count": 38
        }
      ]
    },
    {
      "cell_type": "code",
      "metadata": {
        "id": "5eC0kk8FZ-qj",
        "colab_type": "code",
        "colab": {}
      },
      "source": [
        "unknownswi_c = gs.predict(minmax_testnew)"
      ],
      "execution_count": 39,
      "outputs": []
    },
    {
      "cell_type": "code",
      "metadata": {
        "id": "OD17EXk7aKBR",
        "colab_type": "code",
        "colab": {
          "base_uri": "https://localhost:8080/",
          "height": 17
        },
        "outputId": "1510587c-6355-414c-b1e8-59575e990aee"
      },
      "source": [
        "res = pd.DataFrame(unknownswi_c)\n",
        "res.index = test_new.index # its important for comparison\n",
        "res.columns = [\"SWI\"]\n",
        "res.to_csv(\"SWI_prediction_results_7030C.csv\") \n",
        "from google.colab import files     \n",
        "files.download('SWI_prediction_results_7030C.csv')"
      ],
      "execution_count": 40,
      "outputs": [
        {
          "output_type": "display_data",
          "data": {
            "application/javascript": [
              "\n",
              "    async function download(id, filename, size) {\n",
              "      if (!google.colab.kernel.accessAllowed) {\n",
              "        return;\n",
              "      }\n",
              "      const div = document.createElement('div');\n",
              "      const label = document.createElement('label');\n",
              "      label.textContent = `Downloading \"${filename}\": `;\n",
              "      div.appendChild(label);\n",
              "      const progress = document.createElement('progress');\n",
              "      progress.max = size;\n",
              "      div.appendChild(progress);\n",
              "      document.body.appendChild(div);\n",
              "\n",
              "      const buffers = [];\n",
              "      let downloaded = 0;\n",
              "\n",
              "      const channel = await google.colab.kernel.comms.open(id);\n",
              "      // Send a message to notify the kernel that we're ready.\n",
              "      channel.send({})\n",
              "\n",
              "      for await (const message of channel.messages) {\n",
              "        // Send a message to notify the kernel that we're ready.\n",
              "        channel.send({})\n",
              "        if (message.buffers) {\n",
              "          for (const buffer of message.buffers) {\n",
              "            buffers.push(buffer);\n",
              "            downloaded += buffer.byteLength;\n",
              "            progress.value = downloaded;\n",
              "          }\n",
              "        }\n",
              "      }\n",
              "      const blob = new Blob(buffers, {type: 'application/binary'});\n",
              "      const a = document.createElement('a');\n",
              "      a.href = window.URL.createObjectURL(blob);\n",
              "      a.download = filename;\n",
              "      div.appendChild(a);\n",
              "      a.click();\n",
              "      div.remove();\n",
              "    }\n",
              "  "
            ],
            "text/plain": [
              "<IPython.core.display.Javascript object>"
            ]
          },
          "metadata": {
            "tags": []
          }
        },
        {
          "output_type": "display_data",
          "data": {
            "application/javascript": [
              "download(\"download_f5fb3078-3dd1-4d85-a013-29b346ed4646\", \"SWI_prediction_results_7030C.csv\", 2606)"
            ],
            "text/plain": [
              "<IPython.core.display.Javascript object>"
            ]
          },
          "metadata": {
            "tags": []
          }
        }
      ]
    },
    {
      "cell_type": "code",
      "metadata": {
        "id": "n1CkYf3a1hdI",
        "colab_type": "code",
        "colab": {
          "base_uri": "https://localhost:8080/",
          "height": 1000
        },
        "outputId": "f51e2a8d-2def-4c74-f088-d89c8d5ca9cf"
      },
      "source": [
        "newmodel = CatBoostRegressor(random_seed = 42 )\n",
        "newparameters = {'depth'         : [6, 8, 10, 21, 53, 75,100, 200, 250],\n",
        "                  'learning_rate' : [0.01, 0.05, 0.1],\n",
        "                  'iterations'    : [30, 50, 100]\n",
        "              }\n",
        "newgrid = GridSearchCV(estimator=newmodel, param_grid = newparameters, cv = 2, n_jobs=-1)\n",
        "newgrid.fit(X, y)"
      ],
      "execution_count": 42,
      "outputs": [
        {
          "output_type": "stream",
          "text": [
            "0:\tlearn: 0.5837711\ttotal: 49.3ms\tremaining: 2.42s\n",
            "1:\tlearn: 0.5607330\ttotal: 51.1ms\tremaining: 1.23s\n",
            "2:\tlearn: 0.5421193\ttotal: 52.5ms\tremaining: 823ms\n",
            "3:\tlearn: 0.5213433\ttotal: 53.7ms\tremaining: 618ms\n",
            "4:\tlearn: 0.5015718\ttotal: 55ms\tremaining: 495ms\n",
            "5:\tlearn: 0.4870841\ttotal: 56.2ms\tremaining: 412ms\n",
            "6:\tlearn: 0.4744990\ttotal: 57.3ms\tremaining: 352ms\n",
            "7:\tlearn: 0.4603445\ttotal: 58.3ms\tremaining: 306ms\n",
            "8:\tlearn: 0.4481116\ttotal: 60.8ms\tremaining: 277ms\n",
            "9:\tlearn: 0.4379646\ttotal: 63.9ms\tremaining: 256ms\n",
            "10:\tlearn: 0.4269909\ttotal: 67.1ms\tremaining: 238ms\n",
            "11:\tlearn: 0.4173598\ttotal: 69.3ms\tremaining: 219ms\n",
            "12:\tlearn: 0.4083445\ttotal: 71.1ms\tremaining: 202ms\n",
            "13:\tlearn: 0.4004566\ttotal: 72.7ms\tremaining: 187ms\n",
            "14:\tlearn: 0.3920554\ttotal: 74.4ms\tremaining: 174ms\n",
            "15:\tlearn: 0.3859580\ttotal: 75.8ms\tremaining: 161ms\n",
            "16:\tlearn: 0.3799143\ttotal: 77ms\tremaining: 149ms\n",
            "17:\tlearn: 0.3753020\ttotal: 78.2ms\tremaining: 139ms\n",
            "18:\tlearn: 0.3705058\ttotal: 79.4ms\tremaining: 129ms\n",
            "19:\tlearn: 0.3645182\ttotal: 80.5ms\tremaining: 121ms\n",
            "20:\tlearn: 0.3602101\ttotal: 81.5ms\tremaining: 113ms\n",
            "21:\tlearn: 0.3559606\ttotal: 84.5ms\tremaining: 108ms\n",
            "22:\tlearn: 0.3520377\ttotal: 87.4ms\tremaining: 103ms\n",
            "23:\tlearn: 0.3471048\ttotal: 90.3ms\tremaining: 97.9ms\n",
            "24:\tlearn: 0.3431936\ttotal: 92.6ms\tremaining: 92.6ms\n",
            "25:\tlearn: 0.3406575\ttotal: 94.5ms\tremaining: 87.3ms\n",
            "26:\tlearn: 0.3373933\ttotal: 96.2ms\tremaining: 82ms\n",
            "27:\tlearn: 0.3345962\ttotal: 97.6ms\tremaining: 76.7ms\n",
            "28:\tlearn: 0.3320683\ttotal: 99ms\tremaining: 71.7ms\n",
            "29:\tlearn: 0.3296245\ttotal: 100ms\tremaining: 66.8ms\n",
            "30:\tlearn: 0.3262966\ttotal: 102ms\tremaining: 62.3ms\n",
            "31:\tlearn: 0.3236849\ttotal: 103ms\tremaining: 57.8ms\n",
            "32:\tlearn: 0.3214784\ttotal: 104ms\tremaining: 53.5ms\n",
            "33:\tlearn: 0.3193790\ttotal: 106ms\tremaining: 50ms\n",
            "34:\tlearn: 0.3178047\ttotal: 110ms\tremaining: 46.9ms\n",
            "35:\tlearn: 0.3149607\ttotal: 112ms\tremaining: 43.7ms\n",
            "36:\tlearn: 0.3121739\ttotal: 115ms\tremaining: 40.5ms\n",
            "37:\tlearn: 0.3103834\ttotal: 117ms\tremaining: 37ms\n",
            "38:\tlearn: 0.3079016\ttotal: 119ms\tremaining: 33.6ms\n",
            "39:\tlearn: 0.3062807\ttotal: 121ms\tremaining: 30.1ms\n",
            "40:\tlearn: 0.3046330\ttotal: 122ms\tremaining: 26.8ms\n",
            "41:\tlearn: 0.3034113\ttotal: 123ms\tremaining: 23.5ms\n",
            "42:\tlearn: 0.3024283\ttotal: 125ms\tremaining: 20.3ms\n",
            "43:\tlearn: 0.2998797\ttotal: 126ms\tremaining: 17.1ms\n",
            "44:\tlearn: 0.2969388\ttotal: 127ms\tremaining: 14.1ms\n",
            "45:\tlearn: 0.2953464\ttotal: 128ms\tremaining: 11.1ms\n",
            "46:\tlearn: 0.2943113\ttotal: 129ms\tremaining: 8.23ms\n",
            "47:\tlearn: 0.2925298\ttotal: 130ms\tremaining: 5.42ms\n",
            "48:\tlearn: 0.2917242\ttotal: 131ms\tremaining: 2.67ms\n",
            "49:\tlearn: 0.2902605\ttotal: 134ms\tremaining: 0us\n"
          ],
          "name": "stdout"
        },
        {
          "output_type": "execute_result",
          "data": {
            "text/plain": [
              "GridSearchCV(cv=2, error_score=nan,\n",
              "             estimator=<catboost.core.CatBoostRegressor object at 0x7f157b4aaa58>,\n",
              "             iid='deprecated', n_jobs=-1,\n",
              "             param_grid={'depth': [6, 8, 10, 21, 53, 75, 100, 200, 250],\n",
              "                         'iterations': [30, 50, 100],\n",
              "                         'learning_rate': [0.01, 0.05, 0.1]},\n",
              "             pre_dispatch='2*n_jobs', refit=True, return_train_score=False,\n",
              "             scoring=None, verbose=0)"
            ]
          },
          "metadata": {
            "tags": []
          },
          "execution_count": 42
        }
      ]
    },
    {
      "cell_type": "code",
      "metadata": {
        "id": "zFCFPFRs2hVb",
        "colab_type": "code",
        "colab": {}
      },
      "source": [
        "unknownswi_d = newgrid.predict(minmax_testnew)"
      ],
      "execution_count": 43,
      "outputs": []
    },
    {
      "cell_type": "code",
      "metadata": {
        "id": "Ta2bfI9B3hVW",
        "colab_type": "code",
        "colab": {
          "base_uri": "https://localhost:8080/",
          "height": 17
        },
        "outputId": "0f61d5ff-31e1-4162-8c6b-52c518200c39"
      },
      "source": [
        "res = pd.DataFrame(unknownswi_d)\n",
        "res.index = test_new.index # its important for comparison\n",
        "res.columns = [\"SWI\"]\n",
        "res.to_csv(\"SWI_prediction_results_7030d.csv\") \n",
        "from google.colab import files     \n",
        "files.download('SWI_prediction_results_7030d.csv')"
      ],
      "execution_count": 44,
      "outputs": [
        {
          "output_type": "display_data",
          "data": {
            "application/javascript": [
              "\n",
              "    async function download(id, filename, size) {\n",
              "      if (!google.colab.kernel.accessAllowed) {\n",
              "        return;\n",
              "      }\n",
              "      const div = document.createElement('div');\n",
              "      const label = document.createElement('label');\n",
              "      label.textContent = `Downloading \"${filename}\": `;\n",
              "      div.appendChild(label);\n",
              "      const progress = document.createElement('progress');\n",
              "      progress.max = size;\n",
              "      div.appendChild(progress);\n",
              "      document.body.appendChild(div);\n",
              "\n",
              "      const buffers = [];\n",
              "      let downloaded = 0;\n",
              "\n",
              "      const channel = await google.colab.kernel.comms.open(id);\n",
              "      // Send a message to notify the kernel that we're ready.\n",
              "      channel.send({})\n",
              "\n",
              "      for await (const message of channel.messages) {\n",
              "        // Send a message to notify the kernel that we're ready.\n",
              "        channel.send({})\n",
              "        if (message.buffers) {\n",
              "          for (const buffer of message.buffers) {\n",
              "            buffers.push(buffer);\n",
              "            downloaded += buffer.byteLength;\n",
              "            progress.value = downloaded;\n",
              "          }\n",
              "        }\n",
              "      }\n",
              "      const blob = new Blob(buffers, {type: 'application/binary'});\n",
              "      const a = document.createElement('a');\n",
              "      a.href = window.URL.createObjectURL(blob);\n",
              "      a.download = filename;\n",
              "      div.appendChild(a);\n",
              "      a.click();\n",
              "      div.remove();\n",
              "    }\n",
              "  "
            ],
            "text/plain": [
              "<IPython.core.display.Javascript object>"
            ]
          },
          "metadata": {
            "tags": []
          }
        },
        {
          "output_type": "display_data",
          "data": {
            "application/javascript": [
              "download(\"download_23059987-0c4e-41a5-8929-db6a64eb6187\", \"SWI_prediction_results_7030d.csv\", 2616)"
            ],
            "text/plain": [
              "<IPython.core.display.Javascript object>"
            ]
          },
          "metadata": {
            "tags": []
          }
        }
      ]
    }
  ]
}